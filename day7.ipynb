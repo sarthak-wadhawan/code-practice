{
 "cells": [
  {
   "cell_type": "markdown",
   "id": "61f0736e-e798-4e7c-8694-bf7b7b04b152",
   "metadata": {},
   "source": [
    "## random module"
   ]
  },
  {
   "cell_type": "code",
   "execution_count": 3,
   "id": "e4c6adbf-64ce-4a7e-a680-ba2f65a0187b",
   "metadata": {},
   "outputs": [],
   "source": [
    "#resuing old df"
   ]
  },
  {
   "cell_type": "code",
   "execution_count": 5,
   "id": "2f39393d-1bcf-40cc-afbd-56fe46900de5",
   "metadata": {},
   "outputs": [
    {
     "name": "stdout",
     "output_type": "stream",
     "text": [
      "   employee department    salary joining_date      bonus\n",
      "E1   Keshav         HR  500000.0   2020-01-15    50000.0\n",
      "E2   Afroze    Finance  600000.0   2019-03-10  7000000.0\n",
      "E3     Nico         IT       NaN   2021-06-25    40000.0\n",
      "E4   Sravya    Finance  720000.0   2018-07-01    80000.0\n",
      "E5    Ethan         IT  550000.0   2022-02-14        NaN\n",
      "E6    Fiona         HR  580000.0   2021-11-11    60000.0\n"
     ]
    }
   ],
   "source": [
    "import numpy as np\n",
    "import pandas as pd\n",
    "from functools import reduce\n",
    "\n",
    "df = pd.DataFrame({\n",
    "    \"employee\": [\"Keshav\", \"Afroze\", \"Nico\", \"Sravya\", \"Ethan\", \"Fiona\"],\n",
    "    \"department\": [\"HR\", \"Finance\", \"IT\", \"Finance\", \"IT\", \"HR\"],\n",
    "    \"salary\": [500000, 600000, np.nan, 720000, 550000, 580000],\n",
    "    \"joining_date\": pd.to_datetime([\n",
    "        \"2020-01-15\", \"2019-03-10\", \"2021-06-25\", \n",
    "        \"2018-07-01\", \"2022-02-14\", \"2021-11-11\"\n",
    "    ]),\n",
    "    \"bonus\": [50000, 7000000, 40000, 80000, np.nan, 60000]\n",
    "}, index=[\"E1\", \"E2\", \"E3\", \"E4\", \"E5\", \"E6\"])\n",
    "\n",
    "print(df)"
   ]
  },
  {
   "cell_type": "code",
   "execution_count": 7,
   "id": "497fad23-f101-46b9-a133-f51e1dab8eb8",
   "metadata": {},
   "outputs": [],
   "source": [
    "# Pick a random employee from df"
   ]
  },
  {
   "cell_type": "code",
   "execution_count": 9,
   "id": "66c82f8b-b27c-4f05-ab1d-4057bcf24188",
   "metadata": {},
   "outputs": [
    {
     "data": {
      "text/html": [
       "<div>\n",
       "<style scoped>\n",
       "    .dataframe tbody tr th:only-of-type {\n",
       "        vertical-align: middle;\n",
       "    }\n",
       "\n",
       "    .dataframe tbody tr th {\n",
       "        vertical-align: top;\n",
       "    }\n",
       "\n",
       "    .dataframe thead th {\n",
       "        text-align: right;\n",
       "    }\n",
       "</style>\n",
       "<table border=\"1\" class=\"dataframe\">\n",
       "  <thead>\n",
       "    <tr style=\"text-align: right;\">\n",
       "      <th></th>\n",
       "      <th>employee</th>\n",
       "      <th>department</th>\n",
       "      <th>salary</th>\n",
       "      <th>joining_date</th>\n",
       "      <th>bonus</th>\n",
       "    </tr>\n",
       "  </thead>\n",
       "  <tbody>\n",
       "    <tr>\n",
       "      <th>E1</th>\n",
       "      <td>Keshav</td>\n",
       "      <td>HR</td>\n",
       "      <td>500000.0</td>\n",
       "      <td>2020-01-15</td>\n",
       "      <td>50000.0</td>\n",
       "    </tr>\n",
       "    <tr>\n",
       "      <th>E2</th>\n",
       "      <td>Afroze</td>\n",
       "      <td>Finance</td>\n",
       "      <td>600000.0</td>\n",
       "      <td>2019-03-10</td>\n",
       "      <td>7000000.0</td>\n",
       "    </tr>\n",
       "    <tr>\n",
       "      <th>E3</th>\n",
       "      <td>Nico</td>\n",
       "      <td>IT</td>\n",
       "      <td>NaN</td>\n",
       "      <td>2021-06-25</td>\n",
       "      <td>40000.0</td>\n",
       "    </tr>\n",
       "    <tr>\n",
       "      <th>E4</th>\n",
       "      <td>Sravya</td>\n",
       "      <td>Finance</td>\n",
       "      <td>720000.0</td>\n",
       "      <td>2018-07-01</td>\n",
       "      <td>80000.0</td>\n",
       "    </tr>\n",
       "    <tr>\n",
       "      <th>E5</th>\n",
       "      <td>Ethan</td>\n",
       "      <td>IT</td>\n",
       "      <td>550000.0</td>\n",
       "      <td>2022-02-14</td>\n",
       "      <td>NaN</td>\n",
       "    </tr>\n",
       "    <tr>\n",
       "      <th>E6</th>\n",
       "      <td>Fiona</td>\n",
       "      <td>HR</td>\n",
       "      <td>580000.0</td>\n",
       "      <td>2021-11-11</td>\n",
       "      <td>60000.0</td>\n",
       "    </tr>\n",
       "  </tbody>\n",
       "</table>\n",
       "</div>"
      ],
      "text/plain": [
       "   employee department    salary joining_date      bonus\n",
       "E1   Keshav         HR  500000.0   2020-01-15    50000.0\n",
       "E2   Afroze    Finance  600000.0   2019-03-10  7000000.0\n",
       "E3     Nico         IT       NaN   2021-06-25    40000.0\n",
       "E4   Sravya    Finance  720000.0   2018-07-01    80000.0\n",
       "E5    Ethan         IT  550000.0   2022-02-14        NaN\n",
       "E6    Fiona         HR  580000.0   2021-11-11    60000.0"
      ]
     },
     "execution_count": 9,
     "metadata": {},
     "output_type": "execute_result"
    }
   ],
   "source": [
    "df"
   ]
  },
  {
   "cell_type": "code",
   "execution_count": 11,
   "id": "0515fd71-0ace-43c6-9d24-90c553fd7b96",
   "metadata": {},
   "outputs": [],
   "source": [
    "import random"
   ]
  },
  {
   "cell_type": "code",
   "execution_count": 19,
   "id": "2660f51f-a080-43e6-a411-328ccc5c25d6",
   "metadata": {},
   "outputs": [
    {
     "name": "stderr",
     "output_type": "stream",
     "text": [
      "/Applications/anaconda3/lib/python3.11/random.py:374: FutureWarning: Series.__getitem__ treating keys as positions is deprecated. In a future version, integer keys will always be treated as labels (consistent with DataFrame behavior). To access a value by position, use `ser.iloc[pos]`\n",
      "  return seq[self._randbelow(len(seq))]\n"
     ]
    }
   ],
   "source": [
    "random_employee = random.choice(df[\"employee\"])"
   ]
  },
  {
   "cell_type": "code",
   "execution_count": 21,
   "id": "850b5675-a47f-4555-bc51-a2851415b441",
   "metadata": {},
   "outputs": [
    {
     "data": {
      "text/plain": [
       "'Sravya'"
      ]
     },
     "execution_count": 21,
     "metadata": {},
     "output_type": "execute_result"
    }
   ],
   "source": [
    "random_employee"
   ]
  },
  {
   "cell_type": "code",
   "execution_count": 23,
   "id": "04e751c9-d3c3-40bd-887e-5eac46836bbd",
   "metadata": {},
   "outputs": [],
   "source": [
    "#  Assign random performance scores between 1 and 10"
   ]
  },
  {
   "cell_type": "code",
   "execution_count": 27,
   "id": "a3a47f16-40d2-488a-a347-37fe35b61a60",
   "metadata": {},
   "outputs": [],
   "source": [
    "df[\"performance\"] = [random.randint(1, 10) for score in range(len(df))]"
   ]
  },
  {
   "cell_type": "code",
   "execution_count": 29,
   "id": "357fd648-cdbc-4cb7-b7ba-1b83798268fc",
   "metadata": {},
   "outputs": [
    {
     "data": {
      "text/html": [
       "<div>\n",
       "<style scoped>\n",
       "    .dataframe tbody tr th:only-of-type {\n",
       "        vertical-align: middle;\n",
       "    }\n",
       "\n",
       "    .dataframe tbody tr th {\n",
       "        vertical-align: top;\n",
       "    }\n",
       "\n",
       "    .dataframe thead th {\n",
       "        text-align: right;\n",
       "    }\n",
       "</style>\n",
       "<table border=\"1\" class=\"dataframe\">\n",
       "  <thead>\n",
       "    <tr style=\"text-align: right;\">\n",
       "      <th></th>\n",
       "      <th>employee</th>\n",
       "      <th>department</th>\n",
       "      <th>salary</th>\n",
       "      <th>joining_date</th>\n",
       "      <th>bonus</th>\n",
       "      <th>performance</th>\n",
       "    </tr>\n",
       "  </thead>\n",
       "  <tbody>\n",
       "    <tr>\n",
       "      <th>E1</th>\n",
       "      <td>Keshav</td>\n",
       "      <td>HR</td>\n",
       "      <td>500000.0</td>\n",
       "      <td>2020-01-15</td>\n",
       "      <td>50000.0</td>\n",
       "      <td>7</td>\n",
       "    </tr>\n",
       "    <tr>\n",
       "      <th>E2</th>\n",
       "      <td>Afroze</td>\n",
       "      <td>Finance</td>\n",
       "      <td>600000.0</td>\n",
       "      <td>2019-03-10</td>\n",
       "      <td>7000000.0</td>\n",
       "      <td>8</td>\n",
       "    </tr>\n",
       "    <tr>\n",
       "      <th>E3</th>\n",
       "      <td>Nico</td>\n",
       "      <td>IT</td>\n",
       "      <td>NaN</td>\n",
       "      <td>2021-06-25</td>\n",
       "      <td>40000.0</td>\n",
       "      <td>1</td>\n",
       "    </tr>\n",
       "    <tr>\n",
       "      <th>E4</th>\n",
       "      <td>Sravya</td>\n",
       "      <td>Finance</td>\n",
       "      <td>720000.0</td>\n",
       "      <td>2018-07-01</td>\n",
       "      <td>80000.0</td>\n",
       "      <td>7</td>\n",
       "    </tr>\n",
       "    <tr>\n",
       "      <th>E5</th>\n",
       "      <td>Ethan</td>\n",
       "      <td>IT</td>\n",
       "      <td>550000.0</td>\n",
       "      <td>2022-02-14</td>\n",
       "      <td>NaN</td>\n",
       "      <td>2</td>\n",
       "    </tr>\n",
       "    <tr>\n",
       "      <th>E6</th>\n",
       "      <td>Fiona</td>\n",
       "      <td>HR</td>\n",
       "      <td>580000.0</td>\n",
       "      <td>2021-11-11</td>\n",
       "      <td>60000.0</td>\n",
       "      <td>3</td>\n",
       "    </tr>\n",
       "  </tbody>\n",
       "</table>\n",
       "</div>"
      ],
      "text/plain": [
       "   employee department    salary joining_date      bonus  performance\n",
       "E1   Keshav         HR  500000.0   2020-01-15    50000.0            7\n",
       "E2   Afroze    Finance  600000.0   2019-03-10  7000000.0            8\n",
       "E3     Nico         IT       NaN   2021-06-25    40000.0            1\n",
       "E4   Sravya    Finance  720000.0   2018-07-01    80000.0            7\n",
       "E5    Ethan         IT  550000.0   2022-02-14        NaN            2\n",
       "E6    Fiona         HR  580000.0   2021-11-11    60000.0            3"
      ]
     },
     "execution_count": 29,
     "metadata": {},
     "output_type": "execute_result"
    }
   ],
   "source": [
    "df"
   ]
  },
  {
   "cell_type": "code",
   "execution_count": 31,
   "id": "a4e75c7f-1a65-4d57-afb6-d83211f6fb3a",
   "metadata": {},
   "outputs": [],
   "source": [
    "# Shuffle employees (just names here)"
   ]
  },
  {
   "cell_type": "code",
   "execution_count": 33,
   "id": "e6fe474c-f422-4362-be8a-4ab9eeeca84e",
   "metadata": {},
   "outputs": [],
   "source": [
    "shuffled_employees = df[\"employee\"].tolist()"
   ]
  },
  {
   "cell_type": "code",
   "execution_count": 35,
   "id": "1ba8ce53-aa13-4bf9-a51f-fd2476af3926",
   "metadata": {},
   "outputs": [
    {
     "data": {
      "text/plain": [
       "['Keshav', 'Afroze', 'Nico', 'Sravya', 'Ethan', 'Fiona']"
      ]
     },
     "execution_count": 35,
     "metadata": {},
     "output_type": "execute_result"
    }
   ],
   "source": [
    "shuffled_employees"
   ]
  },
  {
   "cell_type": "code",
   "execution_count": 37,
   "id": "1f853fbf-63f8-4197-8249-b84aeb9f1929",
   "metadata": {},
   "outputs": [],
   "source": [
    "random.shuffle(shuffled_employees)"
   ]
  },
  {
   "cell_type": "code",
   "execution_count": 41,
   "id": "fdacd080-0fb5-4ffb-bf84-65ebbe3c005a",
   "metadata": {},
   "outputs": [
    {
     "data": {
      "text/plain": [
       "['Ethan', 'Fiona', 'Sravya', 'Nico', 'Keshav', 'Afroze']"
      ]
     },
     "execution_count": 41,
     "metadata": {},
     "output_type": "execute_result"
    }
   ],
   "source": [
    "shuffled_employees"
   ]
  },
  {
   "cell_type": "code",
   "execution_count": 43,
   "id": "09b9f7cb-58d3-4cbf-aede-d0986403db99",
   "metadata": {},
   "outputs": [],
   "source": [
    " # Randomly select 2 employees from IT department"
   ]
  },
  {
   "cell_type": "code",
   "execution_count": 45,
   "id": "640d4353-3678-411d-baac-18a0fbfee1de",
   "metadata": {},
   "outputs": [],
   "source": [
    "it_employees = df.loc[df.department == \"IT\", \"employee\"].tolist()"
   ]
  },
  {
   "cell_type": "code",
   "execution_count": 47,
   "id": "35632d7c-0189-4d7f-ab56-d8a89d7378a2",
   "metadata": {},
   "outputs": [],
   "source": [
    "random_it = random.sample(it_employees, 2 if len(it_employees) >= 2 else len(it_employees))\n"
   ]
  },
  {
   "cell_type": "code",
   "execution_count": 49,
   "id": "c5355f02-64c4-426f-94fb-bf22712c9dd6",
   "metadata": {},
   "outputs": [
    {
     "data": {
      "text/plain": [
       "['Ethan', 'Nico']"
      ]
     },
     "execution_count": 49,
     "metadata": {},
     "output_type": "execute_result"
    }
   ],
   "source": [
    "random_it"
   ]
  },
  {
   "cell_type": "markdown",
   "id": "dc87bdce-3db2-4471-8f05-0814cec9780f",
   "metadata": {},
   "source": [
    "## from_records"
   ]
  },
  {
   "cell_type": "code",
   "execution_count": 52,
   "id": "d3f203cf-ac6f-4b58-814c-ca8d54c12165",
   "metadata": {},
   "outputs": [],
   "source": [
    "# New DataFrame from employee, salary, bonus"
   ]
  },
  {
   "cell_type": "code",
   "execution_count": 54,
   "id": "3af8a8ee-bd38-44e0-9169-3e0f5b23c908",
   "metadata": {},
   "outputs": [],
   "source": [
    "emp_sal_bonus = pd.DataFrame.from_records(\n",
    "    df[[\"employee\", \"salary\", \"bonus\"]].to_records(index=False)\n",
    ")"
   ]
  },
  {
   "cell_type": "code",
   "execution_count": 56,
   "id": "06b51eda-2b38-45d3-a157-895a31bc1d12",
   "metadata": {},
   "outputs": [
    {
     "data": {
      "text/html": [
       "<div>\n",
       "<style scoped>\n",
       "    .dataframe tbody tr th:only-of-type {\n",
       "        vertical-align: middle;\n",
       "    }\n",
       "\n",
       "    .dataframe tbody tr th {\n",
       "        vertical-align: top;\n",
       "    }\n",
       "\n",
       "    .dataframe thead th {\n",
       "        text-align: right;\n",
       "    }\n",
       "</style>\n",
       "<table border=\"1\" class=\"dataframe\">\n",
       "  <thead>\n",
       "    <tr style=\"text-align: right;\">\n",
       "      <th></th>\n",
       "      <th>employee</th>\n",
       "      <th>salary</th>\n",
       "      <th>bonus</th>\n",
       "    </tr>\n",
       "  </thead>\n",
       "  <tbody>\n",
       "    <tr>\n",
       "      <th>0</th>\n",
       "      <td>Keshav</td>\n",
       "      <td>500000.0</td>\n",
       "      <td>50000.0</td>\n",
       "    </tr>\n",
       "    <tr>\n",
       "      <th>1</th>\n",
       "      <td>Afroze</td>\n",
       "      <td>600000.0</td>\n",
       "      <td>7000000.0</td>\n",
       "    </tr>\n",
       "    <tr>\n",
       "      <th>2</th>\n",
       "      <td>Nico</td>\n",
       "      <td>NaN</td>\n",
       "      <td>40000.0</td>\n",
       "    </tr>\n",
       "    <tr>\n",
       "      <th>3</th>\n",
       "      <td>Sravya</td>\n",
       "      <td>720000.0</td>\n",
       "      <td>80000.0</td>\n",
       "    </tr>\n",
       "    <tr>\n",
       "      <th>4</th>\n",
       "      <td>Ethan</td>\n",
       "      <td>550000.0</td>\n",
       "      <td>NaN</td>\n",
       "    </tr>\n",
       "    <tr>\n",
       "      <th>5</th>\n",
       "      <td>Fiona</td>\n",
       "      <td>580000.0</td>\n",
       "      <td>60000.0</td>\n",
       "    </tr>\n",
       "  </tbody>\n",
       "</table>\n",
       "</div>"
      ],
      "text/plain": [
       "  employee    salary      bonus\n",
       "0   Keshav  500000.0    50000.0\n",
       "1   Afroze  600000.0  7000000.0\n",
       "2     Nico       NaN    40000.0\n",
       "3   Sravya  720000.0    80000.0\n",
       "4    Ethan  550000.0        NaN\n",
       "5    Fiona  580000.0    60000.0"
      ]
     },
     "execution_count": 56,
     "metadata": {},
     "output_type": "execute_result"
    }
   ],
   "source": [
    "emp_sal_bonus"
   ]
  },
  {
   "cell_type": "code",
   "execution_count": 58,
   "id": "16086054-6a79-4250-9ba1-38e3ea71ff33",
   "metadata": {},
   "outputs": [],
   "source": [
    "# Convert df to records and rebuild"
   ]
  },
  {
   "cell_type": "code",
   "execution_count": 60,
   "id": "8d63dece-dd1e-4362-a1f3-44b80cda6f7c",
   "metadata": {},
   "outputs": [],
   "source": [
    "records = df.to_records(index=False)"
   ]
  },
  {
   "cell_type": "code",
   "execution_count": 64,
   "id": "0eb336d7-2966-4a4a-a30a-420b4356a77e",
   "metadata": {},
   "outputs": [
    {
     "data": {
      "text/plain": [
       "rec.array([('Keshav', 'HR', 500000., '2020-01-15T00:00:00.000000000',   50000., 7),\n",
       "           ('Afroze', 'Finance', 600000., '2019-03-10T00:00:00.000000000', 7000000., 8),\n",
       "           ('Nico', 'IT',     nan, '2021-06-25T00:00:00.000000000',   40000., 1),\n",
       "           ('Sravya', 'Finance', 720000., '2018-07-01T00:00:00.000000000',   80000., 7),\n",
       "           ('Ethan', 'IT', 550000., '2022-02-14T00:00:00.000000000',      nan, 2),\n",
       "           ('Fiona', 'HR', 580000., '2021-11-11T00:00:00.000000000',   60000., 3)],\n",
       "          dtype=[('employee', 'O'), ('department', 'O'), ('salary', '<f8'), ('joining_date', '<M8[ns]'), ('bonus', '<f8'), ('performance', '<i8')])"
      ]
     },
     "execution_count": 64,
     "metadata": {},
     "output_type": "execute_result"
    }
   ],
   "source": [
    "records"
   ]
  },
  {
   "cell_type": "code",
   "execution_count": 62,
   "id": "f6c49363-1383-4e15-a3da-c9a345647dc2",
   "metadata": {},
   "outputs": [],
   "source": [
    "rebuilt_df = pd.DataFrame.from_records(records)"
   ]
  },
  {
   "cell_type": "code",
   "execution_count": 66,
   "id": "1e19530a-f5c3-45ed-86fa-41b864873bf3",
   "metadata": {},
   "outputs": [
    {
     "data": {
      "text/html": [
       "<div>\n",
       "<style scoped>\n",
       "    .dataframe tbody tr th:only-of-type {\n",
       "        vertical-align: middle;\n",
       "    }\n",
       "\n",
       "    .dataframe tbody tr th {\n",
       "        vertical-align: top;\n",
       "    }\n",
       "\n",
       "    .dataframe thead th {\n",
       "        text-align: right;\n",
       "    }\n",
       "</style>\n",
       "<table border=\"1\" class=\"dataframe\">\n",
       "  <thead>\n",
       "    <tr style=\"text-align: right;\">\n",
       "      <th></th>\n",
       "      <th>employee</th>\n",
       "      <th>department</th>\n",
       "      <th>salary</th>\n",
       "      <th>joining_date</th>\n",
       "      <th>bonus</th>\n",
       "      <th>performance</th>\n",
       "    </tr>\n",
       "  </thead>\n",
       "  <tbody>\n",
       "    <tr>\n",
       "      <th>0</th>\n",
       "      <td>Keshav</td>\n",
       "      <td>HR</td>\n",
       "      <td>500000.0</td>\n",
       "      <td>2020-01-15</td>\n",
       "      <td>50000.0</td>\n",
       "      <td>7</td>\n",
       "    </tr>\n",
       "    <tr>\n",
       "      <th>1</th>\n",
       "      <td>Afroze</td>\n",
       "      <td>Finance</td>\n",
       "      <td>600000.0</td>\n",
       "      <td>2019-03-10</td>\n",
       "      <td>7000000.0</td>\n",
       "      <td>8</td>\n",
       "    </tr>\n",
       "    <tr>\n",
       "      <th>2</th>\n",
       "      <td>Nico</td>\n",
       "      <td>IT</td>\n",
       "      <td>NaN</td>\n",
       "      <td>2021-06-25</td>\n",
       "      <td>40000.0</td>\n",
       "      <td>1</td>\n",
       "    </tr>\n",
       "    <tr>\n",
       "      <th>3</th>\n",
       "      <td>Sravya</td>\n",
       "      <td>Finance</td>\n",
       "      <td>720000.0</td>\n",
       "      <td>2018-07-01</td>\n",
       "      <td>80000.0</td>\n",
       "      <td>7</td>\n",
       "    </tr>\n",
       "    <tr>\n",
       "      <th>4</th>\n",
       "      <td>Ethan</td>\n",
       "      <td>IT</td>\n",
       "      <td>550000.0</td>\n",
       "      <td>2022-02-14</td>\n",
       "      <td>NaN</td>\n",
       "      <td>2</td>\n",
       "    </tr>\n",
       "    <tr>\n",
       "      <th>5</th>\n",
       "      <td>Fiona</td>\n",
       "      <td>HR</td>\n",
       "      <td>580000.0</td>\n",
       "      <td>2021-11-11</td>\n",
       "      <td>60000.0</td>\n",
       "      <td>3</td>\n",
       "    </tr>\n",
       "  </tbody>\n",
       "</table>\n",
       "</div>"
      ],
      "text/plain": [
       "  employee department    salary joining_date      bonus  performance\n",
       "0   Keshav         HR  500000.0   2020-01-15    50000.0            7\n",
       "1   Afroze    Finance  600000.0   2019-03-10  7000000.0            8\n",
       "2     Nico         IT       NaN   2021-06-25    40000.0            1\n",
       "3   Sravya    Finance  720000.0   2018-07-01    80000.0            7\n",
       "4    Ethan         IT  550000.0   2022-02-14        NaN            2\n",
       "5    Fiona         HR  580000.0   2021-11-11    60000.0            3"
      ]
     },
     "execution_count": 66,
     "metadata": {},
     "output_type": "execute_result"
    }
   ],
   "source": [
    "rebuilt_df"
   ]
  },
  {
   "cell_type": "code",
   "execution_count": 68,
   "id": "2ee681c0-77a4-4dfb-a45c-29f84886f8cf",
   "metadata": {},
   "outputs": [],
   "source": [
    "# From list of dictionaries"
   ]
  },
  {
   "cell_type": "code",
   "execution_count": 70,
   "id": "4e0aa355-a242-471b-8a42-9c28ad5533dc",
   "metadata": {},
   "outputs": [],
   "source": [
    "dict_data = [\n",
    "    {\"name\": row.employee, \"dept\": row.department}\n",
    "    for row in df.itertuples(index=False)\n",
    "]"
   ]
  },
  {
   "cell_type": "code",
   "execution_count": 72,
   "id": "e0656c2e-3d64-4963-97cf-57f3dd7aa796",
   "metadata": {},
   "outputs": [
    {
     "data": {
      "text/plain": [
       "[{'name': 'Keshav', 'dept': 'HR'},\n",
       " {'name': 'Afroze', 'dept': 'Finance'},\n",
       " {'name': 'Nico', 'dept': 'IT'},\n",
       " {'name': 'Sravya', 'dept': 'Finance'},\n",
       " {'name': 'Ethan', 'dept': 'IT'},\n",
       " {'name': 'Fiona', 'dept': 'HR'}]"
      ]
     },
     "execution_count": 72,
     "metadata": {},
     "output_type": "execute_result"
    }
   ],
   "source": [
    "dict_data"
   ]
  },
  {
   "cell_type": "code",
   "execution_count": 74,
   "id": "03cb50cd-3ad4-4814-b85c-524dc5f7ed0e",
   "metadata": {},
   "outputs": [],
   "source": [
    "dict_df = pd.DataFrame.from_records(dict_data)"
   ]
  },
  {
   "cell_type": "code",
   "execution_count": 76,
   "id": "de1633f1-dd01-4e2b-b8cd-a96dc4a39c12",
   "metadata": {},
   "outputs": [
    {
     "data": {
      "text/html": [
       "<div>\n",
       "<style scoped>\n",
       "    .dataframe tbody tr th:only-of-type {\n",
       "        vertical-align: middle;\n",
       "    }\n",
       "\n",
       "    .dataframe tbody tr th {\n",
       "        vertical-align: top;\n",
       "    }\n",
       "\n",
       "    .dataframe thead th {\n",
       "        text-align: right;\n",
       "    }\n",
       "</style>\n",
       "<table border=\"1\" class=\"dataframe\">\n",
       "  <thead>\n",
       "    <tr style=\"text-align: right;\">\n",
       "      <th></th>\n",
       "      <th>name</th>\n",
       "      <th>dept</th>\n",
       "    </tr>\n",
       "  </thead>\n",
       "  <tbody>\n",
       "    <tr>\n",
       "      <th>0</th>\n",
       "      <td>Keshav</td>\n",
       "      <td>HR</td>\n",
       "    </tr>\n",
       "    <tr>\n",
       "      <th>1</th>\n",
       "      <td>Afroze</td>\n",
       "      <td>Finance</td>\n",
       "    </tr>\n",
       "    <tr>\n",
       "      <th>2</th>\n",
       "      <td>Nico</td>\n",
       "      <td>IT</td>\n",
       "    </tr>\n",
       "    <tr>\n",
       "      <th>3</th>\n",
       "      <td>Sravya</td>\n",
       "      <td>Finance</td>\n",
       "    </tr>\n",
       "    <tr>\n",
       "      <th>4</th>\n",
       "      <td>Ethan</td>\n",
       "      <td>IT</td>\n",
       "    </tr>\n",
       "    <tr>\n",
       "      <th>5</th>\n",
       "      <td>Fiona</td>\n",
       "      <td>HR</td>\n",
       "    </tr>\n",
       "  </tbody>\n",
       "</table>\n",
       "</div>"
      ],
      "text/plain": [
       "     name     dept\n",
       "0  Keshav       HR\n",
       "1  Afroze  Finance\n",
       "2    Nico       IT\n",
       "3  Sravya  Finance\n",
       "4   Ethan       IT\n",
       "5   Fiona       HR"
      ]
     },
     "execution_count": 76,
     "metadata": {},
     "output_type": "execute_result"
    }
   ],
   "source": [
    "dict_df"
   ]
  },
  {
   "cell_type": "code",
   "execution_count": 78,
   "id": "82359aa0-757e-4308-a506-187cc99f6c7f",
   "metadata": {},
   "outputs": [],
   "source": [
    "#  Finance-only DataFrame"
   ]
  },
  {
   "cell_type": "code",
   "execution_count": 80,
   "id": "cba29ce5-c9cb-4c31-bd8e-8433ab621931",
   "metadata": {},
   "outputs": [],
   "source": [
    "finance_records = df[df.department == \"Finance\"].to_records(index=False)\n"
   ]
  },
  {
   "cell_type": "code",
   "execution_count": 82,
   "id": "564c8a8d-2822-4707-bb06-57be6ee92955",
   "metadata": {},
   "outputs": [
    {
     "data": {
      "text/plain": [
       "rec.array([('Afroze', 'Finance', 600000., '2019-03-10T00:00:00.000000000', 7000000., 8),\n",
       "           ('Sravya', 'Finance', 720000., '2018-07-01T00:00:00.000000000',   80000., 7)],\n",
       "          dtype=[('employee', 'O'), ('department', 'O'), ('salary', '<f8'), ('joining_date', '<M8[ns]'), ('bonus', '<f8'), ('performance', '<i8')])"
      ]
     },
     "execution_count": 82,
     "metadata": {},
     "output_type": "execute_result"
    }
   ],
   "source": [
    "finance_records"
   ]
  },
  {
   "cell_type": "code",
   "execution_count": 84,
   "id": "92268376-caa7-4e58-9f6e-e3f297f53ff4",
   "metadata": {},
   "outputs": [],
   "source": [
    "finance_df = pd.DataFrame.from_records(finance_records)"
   ]
  },
  {
   "cell_type": "code",
   "execution_count": 86,
   "id": "7dbadb51-157f-4085-9760-53ba26dd8cb4",
   "metadata": {},
   "outputs": [
    {
     "data": {
      "text/html": [
       "<div>\n",
       "<style scoped>\n",
       "    .dataframe tbody tr th:only-of-type {\n",
       "        vertical-align: middle;\n",
       "    }\n",
       "\n",
       "    .dataframe tbody tr th {\n",
       "        vertical-align: top;\n",
       "    }\n",
       "\n",
       "    .dataframe thead th {\n",
       "        text-align: right;\n",
       "    }\n",
       "</style>\n",
       "<table border=\"1\" class=\"dataframe\">\n",
       "  <thead>\n",
       "    <tr style=\"text-align: right;\">\n",
       "      <th></th>\n",
       "      <th>employee</th>\n",
       "      <th>department</th>\n",
       "      <th>salary</th>\n",
       "      <th>joining_date</th>\n",
       "      <th>bonus</th>\n",
       "      <th>performance</th>\n",
       "    </tr>\n",
       "  </thead>\n",
       "  <tbody>\n",
       "    <tr>\n",
       "      <th>0</th>\n",
       "      <td>Afroze</td>\n",
       "      <td>Finance</td>\n",
       "      <td>600000.0</td>\n",
       "      <td>2019-03-10</td>\n",
       "      <td>7000000.0</td>\n",
       "      <td>8</td>\n",
       "    </tr>\n",
       "    <tr>\n",
       "      <th>1</th>\n",
       "      <td>Sravya</td>\n",
       "      <td>Finance</td>\n",
       "      <td>720000.0</td>\n",
       "      <td>2018-07-01</td>\n",
       "      <td>80000.0</td>\n",
       "      <td>7</td>\n",
       "    </tr>\n",
       "  </tbody>\n",
       "</table>\n",
       "</div>"
      ],
      "text/plain": [
       "  employee department    salary joining_date      bonus  performance\n",
       "0   Afroze    Finance  600000.0   2019-03-10  7000000.0            8\n",
       "1   Sravya    Finance  720000.0   2018-07-01    80000.0            7"
      ]
     },
     "execution_count": 86,
     "metadata": {},
     "output_type": "execute_result"
    }
   ],
   "source": [
    "finance_df"
   ]
  },
  {
   "cell_type": "code",
   "execution_count": null,
   "id": "2abe102d-b0f7-4964-a066-10777c8ff35f",
   "metadata": {},
   "outputs": [],
   "source": []
  }
 ],
 "metadata": {
  "kernelspec": {
   "display_name": "Python [conda env:base] *",
   "language": "python",
   "name": "conda-base-py"
  },
  "language_info": {
   "codemirror_mode": {
    "name": "ipython",
    "version": 3
   },
   "file_extension": ".py",
   "mimetype": "text/x-python",
   "name": "python",
   "nbconvert_exporter": "python",
   "pygments_lexer": "ipython3",
   "version": "3.11.5"
  }
 },
 "nbformat": 4,
 "nbformat_minor": 5
}

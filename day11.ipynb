{
 "cells": [
  {
   "cell_type": "code",
   "execution_count": null,
   "id": "28a9ba3b",
   "metadata": {},
   "outputs": [],
   "source": [
    "import numpy as np\n",
    "import pandas as pd\n",
    "import itertools\n",
    "\n",
    "df = pd.DataFrame({\n",
    "    \"employee\": [\"Keshav\", \"Afroze\", \"Nico\", \"Sravya\", \"Ethan\", \"Fiona\"],\n",
    "    \"department\": [\"HR\", \"Finance\", \"IT\", \"Finance\", \"IT\", \"HR\"],\n",
    "    \"salary\": [500000, 600000, np.nan, 720000, 550000, 580000],\n",
    "    \"joining_date\": pd.to_datetime([\n",
    "        \"2020-01-15\", \"2019-03-10\", \"2021-06-25\", \n",
    "        \"2018-07-01\", \"2022-02-14\", \"2021-11-11\"\n",
    "    ]),\n",
    "    \"bonus\": [50000, 7000000, 40000, 80000, np.nan, 60000]\n",
    "}, index=[\"E1\", \"E2\", \"E3\", \"E4\", \"E5\", \"E6\"])\n"
   ]
  },
  {
   "cell_type": "code",
   "execution_count": 2,
   "id": "4cef9575",
   "metadata": {},
   "outputs": [],
   "source": [
    "# Cartesian product of departments and employees"
   ]
  },
  {
   "cell_type": "code",
   "execution_count": 3,
   "id": "acaf0e04",
   "metadata": {},
   "outputs": [],
   "source": [
    "dept_emp_pairs = list(itertools.product(df.department.unique(), df.employee))\n"
   ]
  },
  {
   "cell_type": "code",
   "execution_count": 4,
   "id": "0163d5ec",
   "metadata": {},
   "outputs": [
    {
     "data": {
      "text/plain": [
       "[('HR', 'Keshav'),\n",
       " ('HR', 'Afroze'),\n",
       " ('HR', 'Nico'),\n",
       " ('HR', 'Sravya'),\n",
       " ('HR', 'Ethan'),\n",
       " ('HR', 'Fiona'),\n",
       " ('Finance', 'Keshav'),\n",
       " ('Finance', 'Afroze'),\n",
       " ('Finance', 'Nico'),\n",
       " ('Finance', 'Sravya'),\n",
       " ('Finance', 'Ethan'),\n",
       " ('Finance', 'Fiona'),\n",
       " ('IT', 'Keshav'),\n",
       " ('IT', 'Afroze'),\n",
       " ('IT', 'Nico'),\n",
       " ('IT', 'Sravya'),\n",
       " ('IT', 'Ethan'),\n",
       " ('IT', 'Fiona')]"
      ]
     },
     "execution_count": 4,
     "metadata": {},
     "output_type": "execute_result"
    }
   ],
   "source": [
    "dept_emp_pairs"
   ]
  },
  {
   "cell_type": "code",
   "execution_count": 5,
   "id": "a4abea57",
   "metadata": {},
   "outputs": [],
   "source": [
    "# All possible ordered pairs of employees (permutations)"
   ]
  },
  {
   "cell_type": "code",
   "execution_count": 6,
   "id": "221fc0e3",
   "metadata": {},
   "outputs": [],
   "source": [
    "ordered_pairs = list(itertools.permutations(df.employee, 2))\n"
   ]
  },
  {
   "cell_type": "code",
   "execution_count": 7,
   "id": "2a56344e",
   "metadata": {},
   "outputs": [
    {
     "data": {
      "text/plain": [
       "[('Keshav', 'Afroze'),\n",
       " ('Keshav', 'Nico'),\n",
       " ('Keshav', 'Sravya'),\n",
       " ('Keshav', 'Ethan'),\n",
       " ('Keshav', 'Fiona'),\n",
       " ('Afroze', 'Keshav'),\n",
       " ('Afroze', 'Nico'),\n",
       " ('Afroze', 'Sravya'),\n",
       " ('Afroze', 'Ethan'),\n",
       " ('Afroze', 'Fiona'),\n",
       " ('Nico', 'Keshav'),\n",
       " ('Nico', 'Afroze'),\n",
       " ('Nico', 'Sravya'),\n",
       " ('Nico', 'Ethan'),\n",
       " ('Nico', 'Fiona'),\n",
       " ('Sravya', 'Keshav'),\n",
       " ('Sravya', 'Afroze'),\n",
       " ('Sravya', 'Nico'),\n",
       " ('Sravya', 'Ethan'),\n",
       " ('Sravya', 'Fiona'),\n",
       " ('Ethan', 'Keshav'),\n",
       " ('Ethan', 'Afroze'),\n",
       " ('Ethan', 'Nico'),\n",
       " ('Ethan', 'Sravya'),\n",
       " ('Ethan', 'Fiona'),\n",
       " ('Fiona', 'Keshav'),\n",
       " ('Fiona', 'Afroze'),\n",
       " ('Fiona', 'Nico'),\n",
       " ('Fiona', 'Sravya'),\n",
       " ('Fiona', 'Ethan')]"
      ]
     },
     "execution_count": 7,
     "metadata": {},
     "output_type": "execute_result"
    }
   ],
   "source": [
    "ordered_pairs"
   ]
  },
  {
   "cell_type": "code",
   "execution_count": 8,
   "id": "c6944f54",
   "metadata": {},
   "outputs": [],
   "source": [
    "# All possible unordered pairs of employees (combinations)"
   ]
  },
  {
   "cell_type": "code",
   "execution_count": 9,
   "id": "e2dd5f06",
   "metadata": {},
   "outputs": [],
   "source": [
    "unordered_pairs = list(itertools.combinations(df.employee, 2))\n"
   ]
  },
  {
   "cell_type": "code",
   "execution_count": 10,
   "id": "51f61a48",
   "metadata": {},
   "outputs": [],
   "source": [
    "# Group employees by department (groupby)"
   ]
  },
  {
   "cell_type": "code",
   "execution_count": 12,
   "id": "203151b9",
   "metadata": {},
   "outputs": [],
   "source": [
    "# by dept\n",
    "sorted_df = df.sort_values(\"department\")"
   ]
  },
  {
   "cell_type": "code",
   "execution_count": 13,
   "id": "e229bf54",
   "metadata": {},
   "outputs": [],
   "source": [
    "grouped = itertools.groupby(sorted_df.employee, key=lambda x: sorted_df.loc[sorted_df.employee==x, \"department\"].values[0])\n"
   ]
  },
  {
   "cell_type": "code",
   "execution_count": 14,
   "id": "c910a417",
   "metadata": {},
   "outputs": [
    {
     "name": "stdout",
     "output_type": "stream",
     "text": [
      "Finance ['Afroze', 'Sravya']\n",
      "HR ['Keshav', 'Fiona']\n",
      "IT ['Nico', 'Ethan']\n"
     ]
    }
   ],
   "source": [
    "for dept, group in grouped:\n",
    "    print(dept, list(group))"
   ]
  },
  {
   "cell_type": "code",
   "execution_count": 15,
   "id": "877ae3d0",
   "metadata": {},
   "outputs": [],
   "source": [
    "# Generate all salary-bonus combinations"
   ]
  },
  {
   "cell_type": "code",
   "execution_count": 16,
   "id": "8751c5f2",
   "metadata": {},
   "outputs": [],
   "source": [
    "salary_vals = df.salary.dropna()"
   ]
  },
  {
   "cell_type": "code",
   "execution_count": 17,
   "id": "22b24203",
   "metadata": {},
   "outputs": [],
   "source": [
    "bonus_vals = df.bonus.dropna()\n"
   ]
  },
  {
   "cell_type": "code",
   "execution_count": 18,
   "id": "e204e627",
   "metadata": {},
   "outputs": [],
   "source": [
    "salary_bonus_combos = list(itertools.product(salary_vals, bonus_vals))\n"
   ]
  },
  {
   "cell_type": "code",
   "execution_count": null,
   "id": "601d9ce3",
   "metadata": {},
   "outputs": [
    {
     "data": {
      "text/plain": [
       "[(500000.0, 50000.0),\n",
       " (500000.0, 7000000.0),\n",
       " (500000.0, 40000.0),\n",
       " (500000.0, 80000.0),\n",
       " (500000.0, 60000.0),\n",
       " (600000.0, 50000.0),\n",
       " (600000.0, 7000000.0),\n",
       " (600000.0, 40000.0),\n",
       " (600000.0, 80000.0),\n",
       " (600000.0, 60000.0)]"
      ]
     },
     "execution_count": 19,
     "metadata": {},
     "output_type": "execute_result"
    }
   ],
   "source": [
    "salary_bonus_combos[:10]  "
   ]
  },
  {
   "cell_type": "code",
   "execution_count": 21,
   "id": "c8fdd028",
   "metadata": {},
   "outputs": [],
   "source": [
    "# # All possible teams of 3 employees"
   ]
  },
  {
   "cell_type": "code",
   "execution_count": 20,
   "id": "fa4719e6",
   "metadata": {},
   "outputs": [],
   "source": [
    "teams_of_3 = list(itertools.combinations(df.employee, 3))"
   ]
  },
  {
   "cell_type": "code",
   "execution_count": 22,
   "id": "f60ce2ba",
   "metadata": {},
   "outputs": [
    {
     "data": {
      "text/plain": [
       "[('Keshav', 'Afroze', 'Nico'),\n",
       " ('Keshav', 'Afroze', 'Sravya'),\n",
       " ('Keshav', 'Afroze', 'Ethan'),\n",
       " ('Keshav', 'Afroze', 'Fiona'),\n",
       " ('Keshav', 'Nico', 'Sravya'),\n",
       " ('Keshav', 'Nico', 'Ethan'),\n",
       " ('Keshav', 'Nico', 'Fiona'),\n",
       " ('Keshav', 'Sravya', 'Ethan'),\n",
       " ('Keshav', 'Sravya', 'Fiona'),\n",
       " ('Keshav', 'Ethan', 'Fiona'),\n",
       " ('Afroze', 'Nico', 'Sravya'),\n",
       " ('Afroze', 'Nico', 'Ethan'),\n",
       " ('Afroze', 'Nico', 'Fiona'),\n",
       " ('Afroze', 'Sravya', 'Ethan'),\n",
       " ('Afroze', 'Sravya', 'Fiona'),\n",
       " ('Afroze', 'Ethan', 'Fiona'),\n",
       " ('Nico', 'Sravya', 'Ethan'),\n",
       " ('Nico', 'Sravya', 'Fiona'),\n",
       " ('Nico', 'Ethan', 'Fiona'),\n",
       " ('Sravya', 'Ethan', 'Fiona')]"
      ]
     },
     "execution_count": 22,
     "metadata": {},
     "output_type": "execute_result"
    }
   ],
   "source": [
    "teams_of_3"
   ]
  },
  {
   "cell_type": "code",
   "execution_count": null,
   "id": "aca9fd27",
   "metadata": {},
   "outputs": [],
   "source": []
  }
 ],
 "metadata": {
  "kernelspec": {
   "display_name": "base",
   "language": "python",
   "name": "python3"
  },
  "language_info": {
   "codemirror_mode": {
    "name": "ipython",
    "version": 3
   },
   "file_extension": ".py",
   "mimetype": "text/x-python",
   "name": "python",
   "nbconvert_exporter": "python",
   "pygments_lexer": "ipython3",
   "version": "3.11.5"
  }
 },
 "nbformat": 4,
 "nbformat_minor": 5
}

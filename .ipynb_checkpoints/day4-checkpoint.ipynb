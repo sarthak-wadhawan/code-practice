{
 "cells": [
  {
   "cell_type": "code",
   "execution_count": 1,
   "id": "bc126847-2f75-4b2e-8b70-ef10cdd9935a",
   "metadata": {},
   "outputs": [
    {
     "ename": "NameError",
     "evalue": "name 'ds' is not defined",
     "output_type": "error",
     "traceback": [
      "\u001b[0;31m---------------------------------------------------------------------------\u001b[0m",
      "\u001b[0;31mNameError\u001b[0m                                 Traceback (most recent call last)",
      "Cell \u001b[0;32mIn[1], line 2\u001b[0m\n\u001b[1;32m      1\u001b[0m references \u001b[38;5;241m=\u001b[39m {}\n\u001b[0;32m----> 2\u001b[0m reference_name \u001b[38;5;241m=\u001b[39m references[ds] \u001b[38;5;28;01mif\u001b[39;00m ds \u001b[38;5;129;01min\u001b[39;00m references \u001b[38;5;28;01melse\u001b[39;00m \u001b[38;5;28mprint\u001b[39m(\u001b[38;5;124m\"\u001b[39m\u001b[38;5;124mused a fn\u001b[39m\u001b[38;5;124m\"\u001b[39m)\n",
      "\u001b[0;31mNameError\u001b[0m: name 'ds' is not defined"
     ]
    }
   ],
   "source": [
    "# reference_name = references[ds] if ds in references else print(\"used a fn\")"
   ]
  },
  {
   "cell_type": "code",
   "execution_count": 5,
   "id": "24ac5c46-e765-47d0-b423-d25b7c24572a",
   "metadata": {},
   "outputs": [],
   "source": [
    "# resuing old df\n",
    "import numpy as np\n",
    "import pandas as pd\n",
    "df = pd.DataFrame({\n",
    "    \"employee\": [\"Keshav\", \"Afroze\", \"Nico\", \"Sravya\", \"Ethan\", \"Fiona\"],\n",
    "    \"department\": [\"HR\", \"Finance\", \"IT\", \"Finance\", \"IT\", \"HR\"],\n",
    "    \"salary\": [500000, 600000, np.nan, 720000, 550000, 580000],\n",
    "    \"joining_date\": pd.to_datetime([\n",
    "        \"2020-01-15\", \"2019-03-10\", \"2021-06-25\", \n",
    "        \"2018-07-01\", \"2022-02-14\", \"2021-11-11\"\n",
    "    ]),\n",
    "    \"bonus\": [50000, 7000000, 40000, 80000, np.nan, 60000]\n",
    "}, index=[\"E1\", \"E2\", \"E3\", \"E4\", \"E5\", \"E6\"])"
   ]
  },
  {
   "cell_type": "code",
   "execution_count": 11,
   "id": "71187d84-4f33-47cc-ad8d-827c62ebc239",
   "metadata": {},
   "outputs": [
    {
     "data": {
      "text/html": [
       "<div>\n",
       "<style scoped>\n",
       "    .dataframe tbody tr th:only-of-type {\n",
       "        vertical-align: middle;\n",
       "    }\n",
       "\n",
       "    .dataframe tbody tr th {\n",
       "        vertical-align: top;\n",
       "    }\n",
       "\n",
       "    .dataframe thead th {\n",
       "        text-align: right;\n",
       "    }\n",
       "</style>\n",
       "<table border=\"1\" class=\"dataframe\">\n",
       "  <thead>\n",
       "    <tr style=\"text-align: right;\">\n",
       "      <th></th>\n",
       "      <th>employee</th>\n",
       "      <th>department</th>\n",
       "      <th>salary</th>\n",
       "      <th>joining_date</th>\n",
       "      <th>bonus</th>\n",
       "    </tr>\n",
       "  </thead>\n",
       "  <tbody>\n",
       "    <tr>\n",
       "      <th>E1</th>\n",
       "      <td>Keshav</td>\n",
       "      <td>HR</td>\n",
       "      <td>500000.0</td>\n",
       "      <td>2020-01-15</td>\n",
       "      <td>50000.0</td>\n",
       "    </tr>\n",
       "    <tr>\n",
       "      <th>E2</th>\n",
       "      <td>Afroze</td>\n",
       "      <td>Finance</td>\n",
       "      <td>600000.0</td>\n",
       "      <td>2019-03-10</td>\n",
       "      <td>7000000.0</td>\n",
       "    </tr>\n",
       "    <tr>\n",
       "      <th>E3</th>\n",
       "      <td>Nico</td>\n",
       "      <td>IT</td>\n",
       "      <td>NaN</td>\n",
       "      <td>2021-06-25</td>\n",
       "      <td>40000.0</td>\n",
       "    </tr>\n",
       "    <tr>\n",
       "      <th>E4</th>\n",
       "      <td>Sravya</td>\n",
       "      <td>Finance</td>\n",
       "      <td>720000.0</td>\n",
       "      <td>2018-07-01</td>\n",
       "      <td>80000.0</td>\n",
       "    </tr>\n",
       "    <tr>\n",
       "      <th>E5</th>\n",
       "      <td>Ethan</td>\n",
       "      <td>IT</td>\n",
       "      <td>550000.0</td>\n",
       "      <td>2022-02-14</td>\n",
       "      <td>NaN</td>\n",
       "    </tr>\n",
       "    <tr>\n",
       "      <th>E6</th>\n",
       "      <td>Fiona</td>\n",
       "      <td>HR</td>\n",
       "      <td>580000.0</td>\n",
       "      <td>2021-11-11</td>\n",
       "      <td>60000.0</td>\n",
       "    </tr>\n",
       "  </tbody>\n",
       "</table>\n",
       "</div>"
      ],
      "text/plain": [
       "   employee department    salary joining_date      bonus\n",
       "E1   Keshav         HR  500000.0   2020-01-15    50000.0\n",
       "E2   Afroze    Finance  600000.0   2019-03-10  7000000.0\n",
       "E3     Nico         IT       NaN   2021-06-25    40000.0\n",
       "E4   Sravya    Finance  720000.0   2018-07-01    80000.0\n",
       "E5    Ethan         IT  550000.0   2022-02-14        NaN\n",
       "E6    Fiona         HR  580000.0   2021-11-11    60000.0"
      ]
     },
     "execution_count": 11,
     "metadata": {},
     "output_type": "execute_result"
    }
   ],
   "source": [
    "df"
   ]
  },
  {
   "cell_type": "code",
   "execution_count": 13,
   "id": "97d8cc62-9af9-490e-a9d9-35dd825972a2",
   "metadata": {},
   "outputs": [],
   "source": [
    "database = df"
   ]
  },
  {
   "cell_type": "code",
   "execution_count": 15,
   "id": "af3ad18b-92ce-46ca-8755-2439299dd3c6",
   "metadata": {},
   "outputs": [
    {
     "data": {
      "text/html": [
       "<div>\n",
       "<style scoped>\n",
       "    .dataframe tbody tr th:only-of-type {\n",
       "        vertical-align: middle;\n",
       "    }\n",
       "\n",
       "    .dataframe tbody tr th {\n",
       "        vertical-align: top;\n",
       "    }\n",
       "\n",
       "    .dataframe thead th {\n",
       "        text-align: right;\n",
       "    }\n",
       "</style>\n",
       "<table border=\"1\" class=\"dataframe\">\n",
       "  <thead>\n",
       "    <tr style=\"text-align: right;\">\n",
       "      <th></th>\n",
       "      <th>employee</th>\n",
       "      <th>department</th>\n",
       "      <th>salary</th>\n",
       "      <th>joining_date</th>\n",
       "      <th>bonus</th>\n",
       "    </tr>\n",
       "  </thead>\n",
       "  <tbody>\n",
       "    <tr>\n",
       "      <th>E1</th>\n",
       "      <td>Keshav</td>\n",
       "      <td>HR</td>\n",
       "      <td>500000.0</td>\n",
       "      <td>2020-01-15</td>\n",
       "      <td>50000.0</td>\n",
       "    </tr>\n",
       "    <tr>\n",
       "      <th>E2</th>\n",
       "      <td>Afroze</td>\n",
       "      <td>Finance</td>\n",
       "      <td>600000.0</td>\n",
       "      <td>2019-03-10</td>\n",
       "      <td>7000000.0</td>\n",
       "    </tr>\n",
       "    <tr>\n",
       "      <th>E3</th>\n",
       "      <td>Nico</td>\n",
       "      <td>IT</td>\n",
       "      <td>NaN</td>\n",
       "      <td>2021-06-25</td>\n",
       "      <td>40000.0</td>\n",
       "    </tr>\n",
       "    <tr>\n",
       "      <th>E4</th>\n",
       "      <td>Sravya</td>\n",
       "      <td>Finance</td>\n",
       "      <td>720000.0</td>\n",
       "      <td>2018-07-01</td>\n",
       "      <td>80000.0</td>\n",
       "    </tr>\n",
       "    <tr>\n",
       "      <th>E5</th>\n",
       "      <td>Ethan</td>\n",
       "      <td>IT</td>\n",
       "      <td>550000.0</td>\n",
       "      <td>2022-02-14</td>\n",
       "      <td>NaN</td>\n",
       "    </tr>\n",
       "    <tr>\n",
       "      <th>E6</th>\n",
       "      <td>Fiona</td>\n",
       "      <td>HR</td>\n",
       "      <td>580000.0</td>\n",
       "      <td>2021-11-11</td>\n",
       "      <td>60000.0</td>\n",
       "    </tr>\n",
       "  </tbody>\n",
       "</table>\n",
       "</div>"
      ],
      "text/plain": [
       "   employee department    salary joining_date      bonus\n",
       "E1   Keshav         HR  500000.0   2020-01-15    50000.0\n",
       "E2   Afroze    Finance  600000.0   2019-03-10  7000000.0\n",
       "E3     Nico         IT       NaN   2021-06-25    40000.0\n",
       "E4   Sravya    Finance  720000.0   2018-07-01    80000.0\n",
       "E5    Ethan         IT  550000.0   2022-02-14        NaN\n",
       "E6    Fiona         HR  580000.0   2021-11-11    60000.0"
      ]
     },
     "execution_count": 15,
     "metadata": {},
     "output_type": "execute_result"
    }
   ],
   "source": [
    "database"
   ]
  },
  {
   "cell_type": "code",
   "execution_count": 17,
   "id": "ec4b5d90-fecb-4af3-acf9-6990f973f594",
   "metadata": {},
   "outputs": [],
   "source": [
    "# line verbatim from rate_database\n",
    "assert pd.unique(database.index).size == database.shape[0], f\"ERROR! Database shaped {database.shape} has only {pd.unique(database.index).size} unique indices\"\n"
   ]
  },
  {
   "cell_type": "code",
   "execution_count": 19,
   "id": "6444beae-6db7-4a1f-a5f2-0c1598a014ec",
   "metadata": {},
   "outputs": [],
   "source": [
    "mag = pd.unique(database.index).size"
   ]
  },
  {
   "cell_type": "code",
   "execution_count": 21,
   "id": "a9768ff6-17d7-4a3d-9a41-49d647151665",
   "metadata": {},
   "outputs": [
    {
     "data": {
      "text/plain": [
       "6"
      ]
     },
     "execution_count": 21,
     "metadata": {},
     "output_type": "execute_result"
    }
   ],
   "source": [
    "mag"
   ]
  },
  {
   "cell_type": "code",
   "execution_count": 23,
   "id": "3dfb2934-8e34-430a-9716-b38b61a9bd9f",
   "metadata": {},
   "outputs": [
    {
     "data": {
      "text/plain": [
       "True"
      ]
     },
     "execution_count": 23,
     "metadata": {},
     "output_type": "execute_result"
    }
   ],
   "source": [
    "mag == database.shape[0]"
   ]
  },
  {
   "cell_type": "markdown",
   "id": "227732c8-2823-44f2-9ea5-8332717a822f",
   "metadata": {},
   "source": [
    "### this means there cant be a repeated index value in the db"
   ]
  },
  {
   "cell_type": "code",
   "execution_count": 39,
   "id": "ac00a947-0f8f-4116-ab86-cee22ccaa299",
   "metadata": {},
   "outputs": [
    {
     "ename": "AssertionError",
     "evalue": "error, bonus is either nan or over 1 million or both",
     "output_type": "error",
     "traceback": [
      "\u001b[0;31m---------------------------------------------------------------------------\u001b[0m",
      "\u001b[0;31mAssertionError\u001b[0m                            Traceback (most recent call last)",
      "Cell \u001b[0;32mIn[39], line 3\u001b[0m\n\u001b[1;32m      1\u001b[0m \u001b[38;5;66;03m#another assert\u001b[39;00m\n\u001b[1;32m      2\u001b[0m \u001b[38;5;66;03m# bonus cant be empty or cant be over 1 million\u001b[39;00m\n\u001b[0;32m----> 3\u001b[0m \u001b[38;5;28;01massert\u001b[39;00m df\u001b[38;5;241m.\u001b[39mbonus\u001b[38;5;241m.\u001b[39mnotna()\u001b[38;5;241m.\u001b[39mall() \u001b[38;5;129;01mand\u001b[39;00m (df\u001b[38;5;241m.\u001b[39mbonus \u001b[38;5;241m<\u001b[39m\u001b[38;5;241m=\u001b[39m \u001b[38;5;241m1_000_000\u001b[39m)\u001b[38;5;241m.\u001b[39mall(), \u001b[38;5;124m\"\u001b[39m\u001b[38;5;124merror, bonus is either nan or over 1 million or both\u001b[39m\u001b[38;5;124m\"\u001b[39m\n",
      "\u001b[0;31mAssertionError\u001b[0m: error, bonus is either nan or over 1 million or both"
     ]
    }
   ],
   "source": [
    "#another assert\n",
    "# bonus cant be empty or cant be over 1 million, which it is so it should throw an error\n",
    "assert df.bonus.notna().all() and (df.bonus <= 1000000).all(), \"error, bonus is either nan or over 1 million or both\""
   ]
  },
  {
   "cell_type": "code",
   "execution_count": 53,
   "id": "0c4cb1c6-26e1-46eb-93f8-49f00c9f4b52",
   "metadata": {},
   "outputs": [
    {
     "ename": "AssertionError",
     "evalue": "inavlid bonus, erros found :    employee department    salary joining_date      bonus\nE2   Afroze    Finance  600000.0   2019-03-10  7000000.0\nE5    Ethan         IT  550000.0   2022-02-14        NaN",
     "output_type": "error",
     "traceback": [
      "\u001b[0;31m---------------------------------------------------------------------------\u001b[0m",
      "\u001b[0;31mAssertionError\u001b[0m                            Traceback (most recent call last)",
      "Cell \u001b[0;32mIn[53], line 3\u001b[0m\n\u001b[1;32m      1\u001b[0m \u001b[38;5;66;03m#lets check row by row beacuse why not\u001b[39;00m\n\u001b[1;32m      2\u001b[0m row_errors \u001b[38;5;241m=\u001b[39m df[df\u001b[38;5;241m.\u001b[39mbonus\u001b[38;5;241m.\u001b[39misna() \u001b[38;5;241m|\u001b[39m (df\u001b[38;5;241m.\u001b[39mbonus\u001b[38;5;241m>\u001b[39m\u001b[38;5;241m1000000\u001b[39m)]\n\u001b[0;32m----> 3\u001b[0m \u001b[38;5;28;01massert\u001b[39;00m row_errors\u001b[38;5;241m.\u001b[39mempty, \u001b[38;5;124mf\u001b[39m\u001b[38;5;124m\"\u001b[39m\u001b[38;5;124minavlid bonus, erros found : \u001b[39m\u001b[38;5;132;01m{\u001b[39;00mrow_errors\u001b[38;5;132;01m}\u001b[39;00m\u001b[38;5;124m\"\u001b[39m\n",
      "\u001b[0;31mAssertionError\u001b[0m: inavlid bonus, erros found :    employee department    salary joining_date      bonus\nE2   Afroze    Finance  600000.0   2019-03-10  7000000.0\nE5    Ethan         IT  550000.0   2022-02-14        NaN"
     ]
    }
   ],
   "source": [
    "#lets check row by row beacuse why not\n",
    "row_errors = df[df.bonus.isna() | (df.bonus>1000000)]\n",
    "assert row_errors.empty, f\"inavlid bonus, erros found : {row_errors}\""
   ]
  },
  {
   "cell_type": "code",
   "execution_count": 57,
   "id": "c28d427b-6af8-4a6d-b8ac-a53d69cc1466",
   "metadata": {},
   "outputs": [],
   "source": [
    "# or vs | and vs & empty and \n",
    "# and or not should be used with booleans\n",
    "# |& etc should be used with numoy and pandas"
   ]
  },
  {
   "cell_type": "code",
   "execution_count": 59,
   "id": "9203d6eb-4a89-42cc-8369-4d37bde24afd",
   "metadata": {},
   "outputs": [
    {
     "name": "stdout",
     "output_type": "stream",
     "text": [
      "True\n",
      "True\n"
     ]
    }
   ],
   "source": [
    "a = True\n",
    "b = False\n",
    "print(a or b)\n",
    "print(a or False)# doesnt even check the right handside, its called short circuit"
   ]
  },
  {
   "cell_type": "code",
   "execution_count": 63,
   "id": "de60336d-aef5-4d2e-935b-d47146844f24",
   "metadata": {},
   "outputs": [],
   "source": [
    "#| is bitwise or, there is operator precendence involved here so use ()"
   ]
  },
  {
   "cell_type": "code",
   "execution_count": 65,
   "id": "658a21b7-2b4a-4367-8ee6-e6f1665f6d0a",
   "metadata": {},
   "outputs": [
    {
     "ename": "ValueError",
     "evalue": "The truth value of a Series is ambiguous. Use a.empty, a.bool(), a.item(), a.any() or a.all().",
     "output_type": "error",
     "traceback": [
      "\u001b[0;31m---------------------------------------------------------------------------\u001b[0m",
      "\u001b[0;31mValueError\u001b[0m                                Traceback (most recent call last)",
      "Cell \u001b[0;32mIn[65], line 1\u001b[0m\n\u001b[0;32m----> 1\u001b[0m df[(df\u001b[38;5;241m.\u001b[39mbonus \u001b[38;5;241m>\u001b[39m \u001b[38;5;241m1000000\u001b[39m) \u001b[38;5;129;01mor\u001b[39;00m (df\u001b[38;5;241m.\u001b[39mbonus\u001b[38;5;241m.\u001b[39mnotna())]\n",
      "File \u001b[0;32m/Applications/anaconda3/lib/python3.11/site-packages/pandas/core/generic.py:1519\u001b[0m, in \u001b[0;36mNDFrame.__nonzero__\u001b[0;34m(self)\u001b[0m\n\u001b[1;32m   1517\u001b[0m \u001b[38;5;129m@final\u001b[39m\n\u001b[1;32m   1518\u001b[0m \u001b[38;5;28;01mdef\u001b[39;00m \u001b[38;5;21m__nonzero__\u001b[39m(\u001b[38;5;28mself\u001b[39m) \u001b[38;5;241m-\u001b[39m\u001b[38;5;241m>\u001b[39m NoReturn:\n\u001b[0;32m-> 1519\u001b[0m     \u001b[38;5;28;01mraise\u001b[39;00m \u001b[38;5;167;01mValueError\u001b[39;00m(\n\u001b[1;32m   1520\u001b[0m         \u001b[38;5;124mf\u001b[39m\u001b[38;5;124m\"\u001b[39m\u001b[38;5;124mThe truth value of a \u001b[39m\u001b[38;5;132;01m{\u001b[39;00m\u001b[38;5;28mtype\u001b[39m(\u001b[38;5;28mself\u001b[39m)\u001b[38;5;241m.\u001b[39m\u001b[38;5;18m__name__\u001b[39m\u001b[38;5;132;01m}\u001b[39;00m\u001b[38;5;124m is ambiguous. \u001b[39m\u001b[38;5;124m\"\u001b[39m\n\u001b[1;32m   1521\u001b[0m         \u001b[38;5;124m\"\u001b[39m\u001b[38;5;124mUse a.empty, a.bool(), a.item(), a.any() or a.all().\u001b[39m\u001b[38;5;124m\"\u001b[39m\n\u001b[1;32m   1522\u001b[0m     )\n",
      "\u001b[0;31mValueError\u001b[0m: The truth value of a Series is ambiguous. Use a.empty, a.bool(), a.item(), a.any() or a.all()."
     ]
    }
   ],
   "source": [
    "df[(df.bonus > 1000000) or (df.bonus.notna())] # this failed the last time i tried to do it"
   ]
  },
  {
   "cell_type": "code",
   "execution_count": 67,
   "id": "3545b252-ba47-4ec3-bd2c-2ed2687c0f2f",
   "metadata": {},
   "outputs": [
    {
     "data": {
      "text/html": [
       "<div>\n",
       "<style scoped>\n",
       "    .dataframe tbody tr th:only-of-type {\n",
       "        vertical-align: middle;\n",
       "    }\n",
       "\n",
       "    .dataframe tbody tr th {\n",
       "        vertical-align: top;\n",
       "    }\n",
       "\n",
       "    .dataframe thead th {\n",
       "        text-align: right;\n",
       "    }\n",
       "</style>\n",
       "<table border=\"1\" class=\"dataframe\">\n",
       "  <thead>\n",
       "    <tr style=\"text-align: right;\">\n",
       "      <th></th>\n",
       "      <th>employee</th>\n",
       "      <th>department</th>\n",
       "      <th>salary</th>\n",
       "      <th>joining_date</th>\n",
       "      <th>bonus</th>\n",
       "    </tr>\n",
       "  </thead>\n",
       "  <tbody>\n",
       "    <tr>\n",
       "      <th>E1</th>\n",
       "      <td>Keshav</td>\n",
       "      <td>HR</td>\n",
       "      <td>500000.0</td>\n",
       "      <td>2020-01-15</td>\n",
       "      <td>50000.0</td>\n",
       "    </tr>\n",
       "    <tr>\n",
       "      <th>E2</th>\n",
       "      <td>Afroze</td>\n",
       "      <td>Finance</td>\n",
       "      <td>600000.0</td>\n",
       "      <td>2019-03-10</td>\n",
       "      <td>7000000.0</td>\n",
       "    </tr>\n",
       "    <tr>\n",
       "      <th>E3</th>\n",
       "      <td>Nico</td>\n",
       "      <td>IT</td>\n",
       "      <td>NaN</td>\n",
       "      <td>2021-06-25</td>\n",
       "      <td>40000.0</td>\n",
       "    </tr>\n",
       "    <tr>\n",
       "      <th>E4</th>\n",
       "      <td>Sravya</td>\n",
       "      <td>Finance</td>\n",
       "      <td>720000.0</td>\n",
       "      <td>2018-07-01</td>\n",
       "      <td>80000.0</td>\n",
       "    </tr>\n",
       "    <tr>\n",
       "      <th>E6</th>\n",
       "      <td>Fiona</td>\n",
       "      <td>HR</td>\n",
       "      <td>580000.0</td>\n",
       "      <td>2021-11-11</td>\n",
       "      <td>60000.0</td>\n",
       "    </tr>\n",
       "  </tbody>\n",
       "</table>\n",
       "</div>"
      ],
      "text/plain": [
       "   employee department    salary joining_date      bonus\n",
       "E1   Keshav         HR  500000.0   2020-01-15    50000.0\n",
       "E2   Afroze    Finance  600000.0   2019-03-10  7000000.0\n",
       "E3     Nico         IT       NaN   2021-06-25    40000.0\n",
       "E4   Sravya    Finance  720000.0   2018-07-01    80000.0\n",
       "E6    Fiona         HR  580000.0   2021-11-11    60000.0"
      ]
     },
     "execution_count": 67,
     "metadata": {},
     "output_type": "execute_result"
    }
   ],
   "source": [
    "df[(df.bonus > 1000000) | (df.bonus.notna())]"
   ]
  },
  {
   "cell_type": "code",
   "execution_count": 69,
   "id": "d6ff298c-757d-4909-bf1a-e12c1c52d340",
   "metadata": {},
   "outputs": [],
   "source": [
    "#failed bcs df.bonus>1 million gives out a series of booleans, py doesnt know what to do"
   ]
  },
  {
   "cell_type": "code",
   "execution_count": 71,
   "id": "5d4be78b-407b-4d29-8305-25091ac16df9",
   "metadata": {},
   "outputs": [],
   "source": [
    "# same for and"
   ]
  },
  {
   "cell_type": "code",
   "execution_count": 73,
   "id": "59967316-f822-4488-a4b2-e515a776029b",
   "metadata": {},
   "outputs": [],
   "source": [
    "# not vs ~"
   ]
  },
  {
   "cell_type": "code",
   "execution_count": 75,
   "id": "59c326ae-8053-4f36-93a3-dedd32baeb53",
   "metadata": {},
   "outputs": [
    {
     "name": "stdout",
     "output_type": "stream",
     "text": [
      "True\n"
     ]
    }
   ],
   "source": [
    "x = 0\n",
    "print(not x) "
   ]
  },
  {
   "cell_type": "code",
   "execution_count": 77,
   "id": "ff1c149c-cb3c-4dca-9542-70c8bb34aa1d",
   "metadata": {},
   "outputs": [
    {
     "name": "stdout",
     "output_type": "stream",
     "text": [
      "0\n"
     ]
    }
   ],
   "source": [
    "print(x)"
   ]
  },
  {
   "cell_type": "code",
   "execution_count": 79,
   "id": "7b0e25d2-4ec0-4cef-af16-265caaebbf58",
   "metadata": {},
   "outputs": [],
   "source": [
    "y = 1"
   ]
  },
  {
   "cell_type": "code",
   "execution_count": 81,
   "id": "877de7c3-39e0-441f-ad7e-639ba9a799b5",
   "metadata": {},
   "outputs": [
    {
     "name": "stdout",
     "output_type": "stream",
     "text": [
      "False\n"
     ]
    }
   ],
   "source": [
    "print(not y)"
   ]
  },
  {
   "cell_type": "code",
   "execution_count": 89,
   "id": "40756a52-874d-4d5a-a53d-4413126c6aea",
   "metadata": {},
   "outputs": [],
   "source": [
    "# ~ n integers → flips bits."
   ]
  },
  {
   "cell_type": "code",
   "execution_count": 91,
   "id": "d3735189-0596-4d21-80e6-a08ba7f7da2a",
   "metadata": {},
   "outputs": [
    {
     "name": "stdout",
     "output_type": "stream",
     "text": [
      "-6\n"
     ]
    }
   ],
   "source": [
    "print(~5) "
   ]
  },
  {
   "cell_type": "code",
   "execution_count": 93,
   "id": "8e329bc4-9d20-40f0-9cb8-8fdb1969ae87",
   "metadata": {},
   "outputs": [],
   "source": [
    "#On Pandas / NumPy boolean arrays → element-wise negation (True → False, False → True)."
   ]
  },
  {
   "cell_type": "code",
   "execution_count": 105,
   "id": "cb519b5c-a876-4e28-bd1c-2ab9d10ca157",
   "metadata": {
    "scrolled": true
   },
   "outputs": [
    {
     "name": "stdout",
     "output_type": "stream",
     "text": [
      "   employee department    salary joining_date      bonus\n",
      "E1   Keshav         HR  500000.0   2020-01-15    50000.0\n",
      "E2   Afroze    Finance  600000.0   2019-03-10  7000000.0\n",
      "E3     Nico         IT       NaN   2021-06-25    40000.0\n",
      "E4   Sravya    Finance  720000.0   2018-07-01    80000.0\n",
      "E6    Fiona         HR  580000.0   2021-11-11    60000.0\n"
     ]
    }
   ],
   "source": [
    "print(df[~df.bonus.isna()])"
   ]
  },
  {
   "cell_type": "code",
   "execution_count": 109,
   "id": "bcc56ed4-06d8-4b8b-9010-d54afcebbc4e",
   "metadata": {},
   "outputs": [
    {
     "ename": "ValueError",
     "evalue": "The truth value of a Series is ambiguous. Use a.empty, a.bool(), a.item(), a.any() or a.all().",
     "output_type": "error",
     "traceback": [
      "\u001b[0;31m---------------------------------------------------------------------------\u001b[0m",
      "\u001b[0;31mValueError\u001b[0m                                Traceback (most recent call last)",
      "Cell \u001b[0;32mIn[109], line 2\u001b[0m\n\u001b[1;32m      1\u001b[0m \u001b[38;5;66;03m# not expects a single boolean, not a whole Series.\u001b[39;00m\n\u001b[0;32m----> 2\u001b[0m \u001b[38;5;28mprint\u001b[39m(df[\u001b[38;5;129;01mnot\u001b[39;00m df\u001b[38;5;241m.\u001b[39mbonus\u001b[38;5;241m.\u001b[39misna()])\n",
      "File \u001b[0;32m/Applications/anaconda3/lib/python3.11/site-packages/pandas/core/generic.py:1519\u001b[0m, in \u001b[0;36mNDFrame.__nonzero__\u001b[0;34m(self)\u001b[0m\n\u001b[1;32m   1517\u001b[0m \u001b[38;5;129m@final\u001b[39m\n\u001b[1;32m   1518\u001b[0m \u001b[38;5;28;01mdef\u001b[39;00m \u001b[38;5;21m__nonzero__\u001b[39m(\u001b[38;5;28mself\u001b[39m) \u001b[38;5;241m-\u001b[39m\u001b[38;5;241m>\u001b[39m NoReturn:\n\u001b[0;32m-> 1519\u001b[0m     \u001b[38;5;28;01mraise\u001b[39;00m \u001b[38;5;167;01mValueError\u001b[39;00m(\n\u001b[1;32m   1520\u001b[0m         \u001b[38;5;124mf\u001b[39m\u001b[38;5;124m\"\u001b[39m\u001b[38;5;124mThe truth value of a \u001b[39m\u001b[38;5;132;01m{\u001b[39;00m\u001b[38;5;28mtype\u001b[39m(\u001b[38;5;28mself\u001b[39m)\u001b[38;5;241m.\u001b[39m\u001b[38;5;18m__name__\u001b[39m\u001b[38;5;132;01m}\u001b[39;00m\u001b[38;5;124m is ambiguous. \u001b[39m\u001b[38;5;124m\"\u001b[39m\n\u001b[1;32m   1521\u001b[0m         \u001b[38;5;124m\"\u001b[39m\u001b[38;5;124mUse a.empty, a.bool(), a.item(), a.any() or a.all().\u001b[39m\u001b[38;5;124m\"\u001b[39m\n\u001b[1;32m   1522\u001b[0m     )\n",
      "\u001b[0;31mValueError\u001b[0m: The truth value of a Series is ambiguous. Use a.empty, a.bool(), a.item(), a.any() or a.all()."
     ]
    }
   ],
   "source": [
    "# not expects a single boolean, not a whole Series.\n",
    "print(df[not df.bonus.isna()])"
   ]
  },
  {
   "cell_type": "code",
   "execution_count": 111,
   "id": "00cac1d1-b82f-4c6f-81c2-dc5f57400bac",
   "metadata": {},
   "outputs": [],
   "source": [
    "#Use not for single values (scalars).\n",
    "#Use ~ for element-wise negation in Pandas / NumPy."
   ]
  },
  {
   "cell_type": "code",
   "execution_count": 113,
   "id": "77403b5b-3a20-41fb-8e20-83e6317d5203",
   "metadata": {},
   "outputs": [
    {
     "name": "stdout",
     "output_type": "stream",
     "text": [
      "not s error: The truth value of a Series is ambiguous. Use a.empty, a.bool(), a.item(), a.any() or a.all().\n"
     ]
    }
   ],
   "source": [
    "s = pd.Series([True, False, True])\n",
    "# Using not (scalar logical NOT) → FAILS\n",
    "try:\n",
    "    print(not s)\n",
    "except ValueError as e:\n",
    "    print(\"not s error:\", e)\n"
   ]
  },
  {
   "cell_type": "code",
   "execution_count": 115,
   "id": "1ab93c61-f07d-43bc-9c4d-40079e1a56fe",
   "metadata": {},
   "outputs": [],
   "source": [
    "#same thing happened"
   ]
  },
  {
   "cell_type": "code",
   "execution_count": 117,
   "id": "45c34ebb-87c6-4a4b-a178-a88368a606ec",
   "metadata": {},
   "outputs": [
    {
     "name": "stdout",
     "output_type": "stream",
     "text": [
      "~s:\n",
      " 0    False\n",
      "1     True\n",
      "2    False\n",
      "dtype: bool\n"
     ]
    }
   ],
   "source": [
    "print(\"~s:\\n\", ~s)"
   ]
  },
  {
   "cell_type": "code",
   "execution_count": null,
   "id": "f65e395c-e526-4f40-b00c-363d7014630f",
   "metadata": {},
   "outputs": [],
   "source": []
  }
 ],
 "metadata": {
  "kernelspec": {
   "display_name": "Python 3 (ipykernel)",
   "language": "python",
   "name": "python3"
  },
  "language_info": {
   "codemirror_mode": {
    "name": "ipython",
    "version": 3
   },
   "file_extension": ".py",
   "mimetype": "text/x-python",
   "name": "python",
   "nbconvert_exporter": "python",
   "pygments_lexer": "ipython3",
   "version": "3.11.5"
  }
 },
 "nbformat": 4,
 "nbformat_minor": 5
}

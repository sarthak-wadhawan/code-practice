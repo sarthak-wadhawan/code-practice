{
 "cells": [
  {
   "cell_type": "code",
   "execution_count": 2,
   "id": "96e7d9d0-ead0-4a71-a00c-d3da1f45e9c5",
   "metadata": {},
   "outputs": [],
   "source": [
    "import importlib"
   ]
  },
  {
   "cell_type": "code",
   "execution_count": 3,
   "id": "c0173a0e-b2a2-4212-b33d-28d63f142b7a",
   "metadata": {},
   "outputs": [],
   "source": [
    "# dynamically import random"
   ]
  },
  {
   "cell_type": "code",
   "execution_count": 4,
   "id": "75f472c2-2aeb-4787-bd44-3fc10ed0df1c",
   "metadata": {},
   "outputs": [],
   "source": [
    "random = importlib.import_module(\"random\")"
   ]
  },
  {
   "cell_type": "code",
   "execution_count": 5,
   "id": "5d4be217-67fe-42d4-a505-b6e3ad1e0be7",
   "metadata": {},
   "outputs": [],
   "source": [
    "import numpy as np\n",
    "import pandas as pd\n",
    "\n",
    "df = pd.DataFrame({\n",
    "    \"employee\": [\"Keshav\", \"Afroze\", \"Nico\", \"Sravya\", \"Ethan\", \"Fiona\"],\n",
    "    \"department\": [\"HR\", \"Finance\", \"IT\", \"Finance\", \"IT\", \"HR\"],\n",
    "    \"salary\": [500000, 600000, np.nan, 720000, 550000, 580000],\n",
    "    \"joining_date\": pd.to_datetime([\n",
    "        \"2020-01-15\", \"2019-03-10\", \"2021-06-25\", \n",
    "        \"2018-07-01\", \"2022-02-14\", \"2021-11-11\"\n",
    "    ]),\n",
    "    \"bonus\": [50000, 7000000, 40000, 80000, np.nan, 60000]\n",
    "}, index=[\"E1\", \"E2\", \"E3\", \"E4\", \"E5\", \"E6\"])\n"
   ]
  },
  {
   "cell_type": "code",
   "execution_count": 6,
   "id": "333a4e16-d79e-499d-bc7c-45e728f2f5b2",
   "metadata": {},
   "outputs": [],
   "source": [
    "# pick a random employee"
   ]
  },
  {
   "cell_type": "code",
   "execution_count": 7,
   "id": "9b4e61b9-9385-495d-bfd9-8124e45ac810",
   "metadata": {},
   "outputs": [],
   "source": [
    "random_employee = random.choice(df[\"employee\"].tolist())"
   ]
  },
  {
   "cell_type": "code",
   "execution_count": 8,
   "id": "fb1fb78e-3660-4aa9-9eea-5799d8ae716e",
   "metadata": {},
   "outputs": [
    {
     "name": "stdout",
     "output_type": "stream",
     "text": [
      "Fiona\n"
     ]
    }
   ],
   "source": [
    "print(random_employee)"
   ]
  },
  {
   "cell_type": "code",
   "execution_count": 9,
   "id": "908c8887-6823-44ea-8cf3-769e41a9da8b",
   "metadata": {},
   "outputs": [],
   "source": [
    "# Mean salary with statistics (ignoring NaN)"
   ]
  },
  {
   "cell_type": "code",
   "execution_count": 10,
   "id": "3f0c25cc-e91e-492c-9834-b7fb982cbcab",
   "metadata": {},
   "outputs": [],
   "source": [
    "import numpy as np"
   ]
  },
  {
   "cell_type": "code",
   "execution_count": 11,
   "id": "bddc66a0-cbf9-4693-ab87-da9372c38688",
   "metadata": {},
   "outputs": [],
   "source": [
    "statistics = importlib.import_module(\"statistics\")"
   ]
  },
  {
   "cell_type": "code",
   "execution_count": 12,
   "id": "7b27f3e4-05c6-4c39-9e2d-669101176bba",
   "metadata": {},
   "outputs": [],
   "source": [
    "# drop NaN before computing mean"
   ]
  },
  {
   "cell_type": "code",
   "execution_count": 13,
   "id": "99373bea-8102-40e5-a701-e2419a18142b",
   "metadata": {},
   "outputs": [],
   "source": [
    "mean_salary = statistics.mean(df[\"salary\"].dropna())"
   ]
  },
  {
   "cell_type": "code",
   "execution_count": 26,
   "id": "044bc4aa-cde3-43aa-9ce7-6bdc75703b07",
   "metadata": {},
   "outputs": [
    {
     "name": "stdout",
     "output_type": "stream",
     "text": [
      "590000.0\n"
     ]
    }
   ],
   "source": [
    "print(mean_salary)"
   ]
  },
  {
   "cell_type": "code",
   "execution_count": 28,
   "id": "be751dfd-09d0-4b4b-9b8a-47be687ee7de",
   "metadata": {},
   "outputs": [],
   "source": [
    "# 3. Standard deviation of bonus with numpy (dynamic import)"
   ]
  },
  {
   "cell_type": "code",
   "execution_count": 30,
   "id": "5cd16df8-5d33-4c17-96a5-71adbc18ea39",
   "metadata": {},
   "outputs": [],
   "source": [
    "numpy = importlib.import_module(\"numpy\")"
   ]
  },
  {
   "cell_type": "code",
   "execution_count": 32,
   "id": "a8ea3acf-3fcf-4c85-a788-d68674d4541c",
   "metadata": {},
   "outputs": [],
   "source": [
    "std_bonus = numpy.nanstd(df[\"bonus\"])   # nanstd ignores NaNs"
   ]
  },
  {
   "cell_type": "code",
   "execution_count": 34,
   "id": "0cd7a635-74f5-4d67-ad60-e9540feea939",
   "metadata": {},
   "outputs": [
    {
     "data": {
      "text/plain": [
       "2777031.508643717"
      ]
     },
     "execution_count": 34,
     "metadata": {},
     "output_type": "execute_result"
    }
   ],
   "source": [
    "std_bonus"
   ]
  },
  {
   "cell_type": "code",
   "execution_count": 36,
   "id": "c862de41-e3ef-462a-905c-d04f5b151667",
   "metadata": {},
   "outputs": [],
   "source": [
    "# Importing numpy dynamically"
   ]
  },
  {
   "cell_type": "code",
   "execution_count": 38,
   "id": "092037bc-4cd3-4d1a-8896-4a335e0a7592",
   "metadata": {},
   "outputs": [],
   "source": [
    "np_module = importlib.import_module(\"numpy\")"
   ]
  },
  {
   "cell_type": "code",
   "execution_count": 40,
   "id": "9dd59939-88af-43ad-a260-a5e7d42225b9",
   "metadata": {},
   "outputs": [
    {
     "name": "stdout",
     "output_type": "stream",
     "text": [
      "590000.0\n"
     ]
    }
   ],
   "source": [
    "print(np_module.mean(df[\"salary\"].dropna()))"
   ]
  },
  {
   "cell_type": "code",
   "execution_count": 42,
   "id": "1e32141a-db99-4318-8dca-9e894d13cb39",
   "metadata": {},
   "outputs": [],
   "source": [
    "# Import pandas dynamically and check columns"
   ]
  },
  {
   "cell_type": "code",
   "execution_count": 44,
   "id": "9352beae-744a-4a6e-b550-205c3f255cc3",
   "metadata": {},
   "outputs": [],
   "source": [
    "pd_module = importlib.import_module(\"pandas\")"
   ]
  },
  {
   "cell_type": "code",
   "execution_count": 46,
   "id": "dbd95f05-6808-4d55-bc87-10a4a205ca8e",
   "metadata": {},
   "outputs": [
    {
     "name": "stdout",
     "output_type": "stream",
     "text": [
      "Index(['employee', 'department', 'salary', 'joining_date', 'bonus'], dtype='object')\n"
     ]
    }
   ],
   "source": [
    "print(pd_module.DataFrame(df).columns)"
   ]
  },
  {
   "cell_type": "code",
   "execution_count": 48,
   "id": "a4321774-e803-4d3d-94c6-a4a35b8f030a",
   "metadata": {},
   "outputs": [],
   "source": [
    "#json module with df"
   ]
  },
  {
   "cell_type": "code",
   "execution_count": 50,
   "id": "46712edc-9c69-4cae-83b0-eeddd826341b",
   "metadata": {},
   "outputs": [],
   "source": [
    "import json\n"
   ]
  },
  {
   "cell_type": "code",
   "execution_count": 52,
   "id": "7816b2b8-18ad-4593-93c1-6f271e5db92a",
   "metadata": {},
   "outputs": [],
   "source": [
    "json_str = df.to_json(orient=\"records\")"
   ]
  },
  {
   "cell_type": "code",
   "execution_count": 54,
   "id": "df6662e2-6c02-478f-bedb-4c0f0185d713",
   "metadata": {},
   "outputs": [
    {
     "name": "stdout",
     "output_type": "stream",
     "text": [
      "[{\"employee\":\"Keshav\",\"department\":\"HR\",\"salary\":500000.0,\"joining_date\":1579046400000,\"bonus\":50000.0},{\"employee\":\"Afroze\",\"department\":\"Finance\",\"salary\":600000.0,\"joining_date\":1552176000000,\"bonu\n"
     ]
    }
   ],
   "source": [
    "print(json_str[:200]) "
   ]
  },
  {
   "cell_type": "code",
   "execution_count": 56,
   "id": "6e8bd28f-b82a-4eaa-83e0-3e17acee6acf",
   "metadata": {},
   "outputs": [],
   "source": [
    "# saving df to json"
   ]
  },
  {
   "cell_type": "code",
   "execution_count": 65,
   "id": "2a10756e-4507-40cf-8d70-c6a1c0f8bcf2",
   "metadata": {},
   "outputs": [],
   "source": [
    "with open(\"employees.json\", \"w\") as f:\n",
    "    json.dump(df.astype(str).to_dict(orient=\"records\"), f, indent=2)"
   ]
  },
  {
   "cell_type": "code",
   "execution_count": 67,
   "id": "cb922063-3fc9-4aaf-a440-22b9ea91c9a7",
   "metadata": {},
   "outputs": [],
   "source": [
    "# Load JSON back into Python dict"
   ]
  },
  {
   "cell_type": "code",
   "execution_count": 69,
   "id": "bd5e5f0a-7584-4732-9aaf-8a21236a79d7",
   "metadata": {},
   "outputs": [],
   "source": [
    "with open(\"employees.json\", \"r\") as f:\n",
    "    data = json.load(f)"
   ]
  },
  {
   "cell_type": "code",
   "execution_count": 71,
   "id": "713b480e-42cd-4869-95f8-03648ef40403",
   "metadata": {},
   "outputs": [
    {
     "name": "stdout",
     "output_type": "stream",
     "text": [
      "[{'employee': 'Keshav', 'department': 'HR', 'salary': '500000.0', 'joining_date': '2020-01-15', 'bonus': '50000.0'}, {'employee': 'Afroze', 'department': 'Finance', 'salary': '600000.0', 'joining_date': '2019-03-10', 'bonus': '7000000.0'}]\n"
     ]
    }
   ],
   "source": [
    "print(data[:2])"
   ]
  },
  {
   "cell_type": "code",
   "execution_count": null,
   "id": "305cebb2-f514-4641-8e58-4217954fd00b",
   "metadata": {},
   "outputs": [],
   "source": []
  },
  {
   "cell_type": "code",
   "execution_count": null,
   "id": "a769f238-7abd-4939-97ba-2005437a4a6b",
   "metadata": {},
   "outputs": [],
   "source": []
  },
  {
   "cell_type": "code",
   "execution_count": null,
   "id": "a06eb2cf-09c4-4d45-bbf8-c19047dfd600",
   "metadata": {},
   "outputs": [],
   "source": []
  },
  {
   "cell_type": "code",
   "execution_count": null,
   "id": "f79d24ee-9a7b-4d82-bea1-c723c196ed4c",
   "metadata": {},
   "outputs": [],
   "source": []
  },
  {
   "cell_type": "code",
   "execution_count": null,
   "id": "35088b5a-7bd4-40c9-9160-c35e222a29a7",
   "metadata": {},
   "outputs": [],
   "source": []
  }
 ],
 "metadata": {
  "kernelspec": {
   "display_name": "Python 3 (ipykernel)",
   "language": "python",
   "name": "python3"
  },
  "language_info": {
   "codemirror_mode": {
    "name": "ipython",
    "version": 3
   },
   "file_extension": ".py",
   "mimetype": "text/x-python",
   "name": "python",
   "nbconvert_exporter": "python",
   "pygments_lexer": "ipython3",
   "version": "3.11.5"
  }
 },
 "nbformat": 4,
 "nbformat_minor": 5
}

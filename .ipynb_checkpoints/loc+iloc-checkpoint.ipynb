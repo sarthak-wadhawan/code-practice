{
 "cells": [
  {
   "cell_type": "markdown",
   "id": "feb4eec8-ea89-42ef-8564-b105a69e1d95",
   "metadata": {},
   "source": [
    "### loc"
   ]
  },
  {
   "cell_type": "code",
   "execution_count": 2,
   "id": "d6886eab-4fef-4870-8209-a7c3b654b565",
   "metadata": {},
   "outputs": [],
   "source": [
    "import pandas as pd\n",
    "data = pd.DataFrame({\n",
    "    \"name\": [\"fire\",\"air\", \"water\"],\n",
    "    \"numbers\":[1,2,3]\n",
    "}, index = [\"a\",\"b\",\"c\"])\n"
   ]
  },
  {
   "cell_type": "code",
   "execution_count": 3,
   "id": "2672fefc-f9d1-4221-8d70-d7b5d3b2af79",
   "metadata": {},
   "outputs": [
    {
     "data": {
      "text/html": [
       "<div>\n",
       "<style scoped>\n",
       "    .dataframe tbody tr th:only-of-type {\n",
       "        vertical-align: middle;\n",
       "    }\n",
       "\n",
       "    .dataframe tbody tr th {\n",
       "        vertical-align: top;\n",
       "    }\n",
       "\n",
       "    .dataframe thead th {\n",
       "        text-align: right;\n",
       "    }\n",
       "</style>\n",
       "<table border=\"1\" class=\"dataframe\">\n",
       "  <thead>\n",
       "    <tr style=\"text-align: right;\">\n",
       "      <th></th>\n",
       "      <th>name</th>\n",
       "      <th>numbers</th>\n",
       "    </tr>\n",
       "  </thead>\n",
       "  <tbody>\n",
       "    <tr>\n",
       "      <th>a</th>\n",
       "      <td>fire</td>\n",
       "      <td>1</td>\n",
       "    </tr>\n",
       "    <tr>\n",
       "      <th>b</th>\n",
       "      <td>air</td>\n",
       "      <td>2</td>\n",
       "    </tr>\n",
       "    <tr>\n",
       "      <th>c</th>\n",
       "      <td>water</td>\n",
       "      <td>3</td>\n",
       "    </tr>\n",
       "  </tbody>\n",
       "</table>\n",
       "</div>"
      ],
      "text/plain": [
       "    name  numbers\n",
       "a   fire        1\n",
       "b    air        2\n",
       "c  water        3"
      ]
     },
     "execution_count": 3,
     "metadata": {},
     "output_type": "execute_result"
    }
   ],
   "source": [
    "data"
   ]
  },
  {
   "cell_type": "code",
   "execution_count": 4,
   "id": "3aa5f496-fdf9-4fff-9e14-ca8b863665e8",
   "metadata": {},
   "outputs": [
    {
     "data": {
      "text/plain": [
       "name       air\n",
       "numbers      2\n",
       "Name: b, dtype: object"
      ]
     },
     "execution_count": 4,
     "metadata": {},
     "output_type": "execute_result"
    }
   ],
   "source": [
    "data.loc[\"b\"]"
   ]
  },
  {
   "cell_type": "code",
   "execution_count": 5,
   "id": "b77e514b-77c2-4b62-9e34-7a5534156e30",
   "metadata": {},
   "outputs": [
    {
     "data": {
      "text/html": [
       "<div>\n",
       "<style scoped>\n",
       "    .dataframe tbody tr th:only-of-type {\n",
       "        vertical-align: middle;\n",
       "    }\n",
       "\n",
       "    .dataframe tbody tr th {\n",
       "        vertical-align: top;\n",
       "    }\n",
       "\n",
       "    .dataframe thead th {\n",
       "        text-align: right;\n",
       "    }\n",
       "</style>\n",
       "<table border=\"1\" class=\"dataframe\">\n",
       "  <thead>\n",
       "    <tr style=\"text-align: right;\">\n",
       "      <th></th>\n",
       "      <th>name</th>\n",
       "      <th>numbers</th>\n",
       "    </tr>\n",
       "  </thead>\n",
       "  <tbody>\n",
       "    <tr>\n",
       "      <th>a</th>\n",
       "      <td>fire</td>\n",
       "      <td>1</td>\n",
       "    </tr>\n",
       "    <tr>\n",
       "      <th>c</th>\n",
       "      <td>water</td>\n",
       "      <td>3</td>\n",
       "    </tr>\n",
       "  </tbody>\n",
       "</table>\n",
       "</div>"
      ],
      "text/plain": [
       "    name  numbers\n",
       "a   fire        1\n",
       "c  water        3"
      ]
     },
     "execution_count": 5,
     "metadata": {},
     "output_type": "execute_result"
    }
   ],
   "source": [
    "data.loc[['a', 'c']]"
   ]
  },
  {
   "cell_type": "code",
   "execution_count": 6,
   "id": "725e74f9-e4a1-4d38-8928-65bcb84af70c",
   "metadata": {},
   "outputs": [],
   "source": [
    "#creating a slightly complex df to use to better undersatnd\n",
    "import numpy as np\n",
    "df = pd.DataFrame({\n",
    "    \"employee\": [\"Keshav\", \"Afroze\", \"Nico\", \"Sravya\", \"Ethan\", \"Fiona\"],\n",
    "    \"department\": [\"HR\", \"Finance\", \"IT\", \"Finance\", \"IT\", \"HR\"],\n",
    "    \"salary\": [500000, 600000, np.nan, 720000, 550000, 580000],\n",
    "    \"joining_date\": pd.to_datetime([\n",
    "        \"2020-01-15\", \"2019-03-10\", \"2021-06-25\", \n",
    "        \"2018-07-01\", \"2022-02-14\", \"2021-11-11\"\n",
    "    ]),\n",
    "    \"bonus\": [50000, 7000000, 40000, 80000, np.nan, 60000]\n",
    "}, index=[\"E1\", \"E2\", \"E3\", \"E4\", \"E5\", \"E6\"])"
   ]
  },
  {
   "cell_type": "code",
   "execution_count": 7,
   "id": "e91a739e-b057-49a7-9a95-1873a3c89e7a",
   "metadata": {},
   "outputs": [
    {
     "name": "stdout",
     "output_type": "stream",
     "text": [
      "   employee department    salary joining_date      bonus\n",
      "E1   Keshav         HR  500000.0   2020-01-15    50000.0\n",
      "E2   Afroze    Finance  600000.0   2019-03-10  7000000.0\n",
      "E3     Nico         IT       NaN   2021-06-25    40000.0\n",
      "E4   Sravya    Finance  720000.0   2018-07-01    80000.0\n",
      "E5    Ethan         IT  550000.0   2022-02-14        NaN\n",
      "E6    Fiona         HR  580000.0   2021-11-11    60000.0\n"
     ]
    }
   ],
   "source": [
    "print(df)"
   ]
  },
  {
   "cell_type": "code",
   "execution_count": 14,
   "id": "460d8816-58d9-4f5b-895c-2af9d853b954",
   "metadata": {},
   "outputs": [
    {
     "data": {
      "text/html": [
       "<div>\n",
       "<style scoped>\n",
       "    .dataframe tbody tr th:only-of-type {\n",
       "        vertical-align: middle;\n",
       "    }\n",
       "\n",
       "    .dataframe tbody tr th {\n",
       "        vertical-align: top;\n",
       "    }\n",
       "\n",
       "    .dataframe thead th {\n",
       "        text-align: right;\n",
       "    }\n",
       "</style>\n",
       "<table border=\"1\" class=\"dataframe\">\n",
       "  <thead>\n",
       "    <tr style=\"text-align: right;\">\n",
       "      <th></th>\n",
       "      <th>employee</th>\n",
       "      <th>department</th>\n",
       "      <th>salary</th>\n",
       "      <th>joining_date</th>\n",
       "      <th>bonus</th>\n",
       "    </tr>\n",
       "  </thead>\n",
       "  <tbody>\n",
       "    <tr>\n",
       "      <th>E1</th>\n",
       "      <td>Keshav</td>\n",
       "      <td>HR</td>\n",
       "      <td>500000.0</td>\n",
       "      <td>2020-01-15</td>\n",
       "      <td>50000.0</td>\n",
       "    </tr>\n",
       "    <tr>\n",
       "      <th>E2</th>\n",
       "      <td>Afroze</td>\n",
       "      <td>Finance</td>\n",
       "      <td>600000.0</td>\n",
       "      <td>2019-03-10</td>\n",
       "      <td>7000000.0</td>\n",
       "    </tr>\n",
       "    <tr>\n",
       "      <th>E3</th>\n",
       "      <td>Nico</td>\n",
       "      <td>IT</td>\n",
       "      <td>NaN</td>\n",
       "      <td>2021-06-25</td>\n",
       "      <td>40000.0</td>\n",
       "    </tr>\n",
       "    <tr>\n",
       "      <th>E4</th>\n",
       "      <td>Sravya</td>\n",
       "      <td>Finance</td>\n",
       "      <td>720000.0</td>\n",
       "      <td>2018-07-01</td>\n",
       "      <td>80000.0</td>\n",
       "    </tr>\n",
       "    <tr>\n",
       "      <th>E5</th>\n",
       "      <td>Ethan</td>\n",
       "      <td>IT</td>\n",
       "      <td>550000.0</td>\n",
       "      <td>2022-02-14</td>\n",
       "      <td>NaN</td>\n",
       "    </tr>\n",
       "  </tbody>\n",
       "</table>\n",
       "</div>"
      ],
      "text/plain": [
       "   employee department    salary joining_date      bonus\n",
       "E1   Keshav         HR  500000.0   2020-01-15    50000.0\n",
       "E2   Afroze    Finance  600000.0   2019-03-10  7000000.0\n",
       "E3     Nico         IT       NaN   2021-06-25    40000.0\n",
       "E4   Sravya    Finance  720000.0   2018-07-01    80000.0\n",
       "E5    Ethan         IT  550000.0   2022-02-14        NaN"
      ]
     },
     "execution_count": 14,
     "metadata": {},
     "output_type": "execute_result"
    }
   ],
   "source": [
    "df.head()"
   ]
  },
  {
   "cell_type": "code",
   "execution_count": 16,
   "id": "f3d45ea2-3990-49fa-b2df-d8d1bda5fa4f",
   "metadata": {},
   "outputs": [
    {
     "data": {
      "text/plain": [
       "employee                      Ethan\n",
       "department                       IT\n",
       "salary                     550000.0\n",
       "joining_date    2022-02-14 00:00:00\n",
       "bonus                           NaN\n",
       "Name: E5, dtype: object"
      ]
     },
     "execution_count": 16,
     "metadata": {},
     "output_type": "execute_result"
    }
   ],
   "source": [
    "df.loc[\"E5\"]"
   ]
  },
  {
   "cell_type": "code",
   "execution_count": 18,
   "id": "2e5c091b-be0c-46c3-98a4-e8a52a31d41c",
   "metadata": {},
   "outputs": [
    {
     "data": {
      "text/html": [
       "<div>\n",
       "<style scoped>\n",
       "    .dataframe tbody tr th:only-of-type {\n",
       "        vertical-align: middle;\n",
       "    }\n",
       "\n",
       "    .dataframe tbody tr th {\n",
       "        vertical-align: top;\n",
       "    }\n",
       "\n",
       "    .dataframe thead th {\n",
       "        text-align: right;\n",
       "    }\n",
       "</style>\n",
       "<table border=\"1\" class=\"dataframe\">\n",
       "  <thead>\n",
       "    <tr style=\"text-align: right;\">\n",
       "      <th></th>\n",
       "      <th>employee</th>\n",
       "      <th>department</th>\n",
       "      <th>salary</th>\n",
       "      <th>joining_date</th>\n",
       "      <th>bonus</th>\n",
       "    </tr>\n",
       "  </thead>\n",
       "  <tbody>\n",
       "    <tr>\n",
       "      <th>E1</th>\n",
       "      <td>Keshav</td>\n",
       "      <td>HR</td>\n",
       "      <td>500000.0</td>\n",
       "      <td>2020-01-15</td>\n",
       "      <td>50000.0</td>\n",
       "    </tr>\n",
       "    <tr>\n",
       "      <th>E2</th>\n",
       "      <td>Afroze</td>\n",
       "      <td>Finance</td>\n",
       "      <td>600000.0</td>\n",
       "      <td>2019-03-10</td>\n",
       "      <td>7000000.0</td>\n",
       "    </tr>\n",
       "    <tr>\n",
       "      <th>E3</th>\n",
       "      <td>Nico</td>\n",
       "      <td>IT</td>\n",
       "      <td>NaN</td>\n",
       "      <td>2021-06-25</td>\n",
       "      <td>40000.0</td>\n",
       "    </tr>\n",
       "  </tbody>\n",
       "</table>\n",
       "</div>"
      ],
      "text/plain": [
       "   employee department    salary joining_date      bonus\n",
       "E1   Keshav         HR  500000.0   2020-01-15    50000.0\n",
       "E2   Afroze    Finance  600000.0   2019-03-10  7000000.0\n",
       "E3     Nico         IT       NaN   2021-06-25    40000.0"
      ]
     },
     "execution_count": 18,
     "metadata": {},
     "output_type": "execute_result"
    }
   ],
   "source": [
    "df.loc[:\"E3\"]"
   ]
  },
  {
   "cell_type": "code",
   "execution_count": 20,
   "id": "25413aa1-34c9-4a14-adf5-d87c3757d303",
   "metadata": {},
   "outputs": [
    {
     "data": {
      "text/html": [
       "<div>\n",
       "<style scoped>\n",
       "    .dataframe tbody tr th:only-of-type {\n",
       "        vertical-align: middle;\n",
       "    }\n",
       "\n",
       "    .dataframe tbody tr th {\n",
       "        vertical-align: top;\n",
       "    }\n",
       "\n",
       "    .dataframe thead th {\n",
       "        text-align: right;\n",
       "    }\n",
       "</style>\n",
       "<table border=\"1\" class=\"dataframe\">\n",
       "  <thead>\n",
       "    <tr style=\"text-align: right;\">\n",
       "      <th></th>\n",
       "      <th>department</th>\n",
       "      <th>salary</th>\n",
       "    </tr>\n",
       "  </thead>\n",
       "  <tbody>\n",
       "    <tr>\n",
       "      <th>E1</th>\n",
       "      <td>HR</td>\n",
       "      <td>500000.0</td>\n",
       "    </tr>\n",
       "    <tr>\n",
       "      <th>E2</th>\n",
       "      <td>Finance</td>\n",
       "      <td>600000.0</td>\n",
       "    </tr>\n",
       "    <tr>\n",
       "      <th>E3</th>\n",
       "      <td>IT</td>\n",
       "      <td>NaN</td>\n",
       "    </tr>\n",
       "    <tr>\n",
       "      <th>E4</th>\n",
       "      <td>Finance</td>\n",
       "      <td>720000.0</td>\n",
       "    </tr>\n",
       "  </tbody>\n",
       "</table>\n",
       "</div>"
      ],
      "text/plain": [
       "   department    salary\n",
       "E1         HR  500000.0\n",
       "E2    Finance  600000.0\n",
       "E3         IT       NaN\n",
       "E4    Finance  720000.0"
      ]
     },
     "execution_count": 20,
     "metadata": {},
     "output_type": "execute_result"
    }
   ],
   "source": [
    "df.loc[:'E4', 'department':'salary']"
   ]
  },
  {
   "cell_type": "code",
   "execution_count": 22,
   "id": "ffcd7d4a-d07f-4699-9bcf-789ed44a5f0e",
   "metadata": {},
   "outputs": [
    {
     "data": {
      "text/html": [
       "<div>\n",
       "<style scoped>\n",
       "    .dataframe tbody tr th:only-of-type {\n",
       "        vertical-align: middle;\n",
       "    }\n",
       "\n",
       "    .dataframe tbody tr th {\n",
       "        vertical-align: top;\n",
       "    }\n",
       "\n",
       "    .dataframe thead th {\n",
       "        text-align: right;\n",
       "    }\n",
       "</style>\n",
       "<table border=\"1\" class=\"dataframe\">\n",
       "  <thead>\n",
       "    <tr style=\"text-align: right;\">\n",
       "      <th></th>\n",
       "      <th>department</th>\n",
       "      <th>salary</th>\n",
       "      <th>joining_date</th>\n",
       "      <th>bonus</th>\n",
       "    </tr>\n",
       "  </thead>\n",
       "  <tbody>\n",
       "    <tr>\n",
       "      <th>E1</th>\n",
       "      <td>HR</td>\n",
       "      <td>500000.0</td>\n",
       "      <td>2020-01-15</td>\n",
       "      <td>50000.0</td>\n",
       "    </tr>\n",
       "    <tr>\n",
       "      <th>E2</th>\n",
       "      <td>Finance</td>\n",
       "      <td>600000.0</td>\n",
       "      <td>2019-03-10</td>\n",
       "      <td>7000000.0</td>\n",
       "    </tr>\n",
       "    <tr>\n",
       "      <th>E3</th>\n",
       "      <td>IT</td>\n",
       "      <td>NaN</td>\n",
       "      <td>2021-06-25</td>\n",
       "      <td>40000.0</td>\n",
       "    </tr>\n",
       "    <tr>\n",
       "      <th>E4</th>\n",
       "      <td>Finance</td>\n",
       "      <td>720000.0</td>\n",
       "      <td>2018-07-01</td>\n",
       "      <td>80000.0</td>\n",
       "    </tr>\n",
       "  </tbody>\n",
       "</table>\n",
       "</div>"
      ],
      "text/plain": [
       "   department    salary joining_date      bonus\n",
       "E1         HR  500000.0   2020-01-15    50000.0\n",
       "E2    Finance  600000.0   2019-03-10  7000000.0\n",
       "E3         IT       NaN   2021-06-25    40000.0\n",
       "E4    Finance  720000.0   2018-07-01    80000.0"
      ]
     },
     "execution_count": 22,
     "metadata": {},
     "output_type": "execute_result"
    }
   ],
   "source": [
    "df.loc[:'E4','department':'bonus']"
   ]
  },
  {
   "cell_type": "code",
   "execution_count": 24,
   "id": "d57daa2e-b41a-4278-a29a-28cbc69f3585",
   "metadata": {},
   "outputs": [
    {
     "data": {
      "text/html": [
       "<div>\n",
       "<style scoped>\n",
       "    .dataframe tbody tr th:only-of-type {\n",
       "        vertical-align: middle;\n",
       "    }\n",
       "\n",
       "    .dataframe tbody tr th {\n",
       "        vertical-align: top;\n",
       "    }\n",
       "\n",
       "    .dataframe thead th {\n",
       "        text-align: right;\n",
       "    }\n",
       "</style>\n",
       "<table border=\"1\" class=\"dataframe\">\n",
       "  <thead>\n",
       "    <tr style=\"text-align: right;\">\n",
       "      <th></th>\n",
       "      <th>employee</th>\n",
       "      <th>department</th>\n",
       "      <th>salary</th>\n",
       "      <th>joining_date</th>\n",
       "      <th>bonus</th>\n",
       "    </tr>\n",
       "  </thead>\n",
       "  <tbody>\n",
       "    <tr>\n",
       "      <th>E2</th>\n",
       "      <td>Afroze</td>\n",
       "      <td>Finance</td>\n",
       "      <td>600000.0</td>\n",
       "      <td>2019-03-10</td>\n",
       "      <td>7000000.0</td>\n",
       "    </tr>\n",
       "    <tr>\n",
       "      <th>E4</th>\n",
       "      <td>Sravya</td>\n",
       "      <td>Finance</td>\n",
       "      <td>720000.0</td>\n",
       "      <td>2018-07-01</td>\n",
       "      <td>80000.0</td>\n",
       "    </tr>\n",
       "  </tbody>\n",
       "</table>\n",
       "</div>"
      ],
      "text/plain": [
       "   employee department    salary joining_date      bonus\n",
       "E2   Afroze    Finance  600000.0   2019-03-10  7000000.0\n",
       "E4   Sravya    Finance  720000.0   2018-07-01    80000.0"
      ]
     },
     "execution_count": 24,
     "metadata": {},
     "output_type": "execute_result"
    }
   ],
   "source": [
    "df.loc[df[\"department\"]==\"Finance\"] "
   ]
  },
  {
   "cell_type": "code",
   "execution_count": 26,
   "id": "a87b48d8-fd45-4d1c-8eb0-188828850420",
   "metadata": {},
   "outputs": [
    {
     "data": {
      "text/html": [
       "<div>\n",
       "<style scoped>\n",
       "    .dataframe tbody tr th:only-of-type {\n",
       "        vertical-align: middle;\n",
       "    }\n",
       "\n",
       "    .dataframe tbody tr th {\n",
       "        vertical-align: top;\n",
       "    }\n",
       "\n",
       "    .dataframe thead th {\n",
       "        text-align: right;\n",
       "    }\n",
       "</style>\n",
       "<table border=\"1\" class=\"dataframe\">\n",
       "  <thead>\n",
       "    <tr style=\"text-align: right;\">\n",
       "      <th></th>\n",
       "      <th>employee</th>\n",
       "      <th>department</th>\n",
       "      <th>salary</th>\n",
       "      <th>joining_date</th>\n",
       "      <th>bonus</th>\n",
       "    </tr>\n",
       "  </thead>\n",
       "  <tbody>\n",
       "    <tr>\n",
       "      <th>E2</th>\n",
       "      <td>Afroze</td>\n",
       "      <td>Finance</td>\n",
       "      <td>600000.0</td>\n",
       "      <td>2019-03-10</td>\n",
       "      <td>7000000.0</td>\n",
       "    </tr>\n",
       "    <tr>\n",
       "      <th>E4</th>\n",
       "      <td>Sravya</td>\n",
       "      <td>Finance</td>\n",
       "      <td>720000.0</td>\n",
       "      <td>2018-07-01</td>\n",
       "      <td>80000.0</td>\n",
       "    </tr>\n",
       "  </tbody>\n",
       "</table>\n",
       "</div>"
      ],
      "text/plain": [
       "   employee department    salary joining_date      bonus\n",
       "E2   Afroze    Finance  600000.0   2019-03-10  7000000.0\n",
       "E4   Sravya    Finance  720000.0   2018-07-01    80000.0"
      ]
     },
     "execution_count": 26,
     "metadata": {},
     "output_type": "execute_result"
    }
   ],
   "source": [
    "df.loc[(df[\"department\"]==\"Finance\")&(df[\"salary\"] > 65000),:]"
   ]
  },
  {
   "cell_type": "code",
   "execution_count": 29,
   "id": "02a354ff-7d00-4c97-85b3-c0a5608df040",
   "metadata": {},
   "outputs": [
    {
     "data": {
      "text/html": [
       "<div>\n",
       "<style scoped>\n",
       "    .dataframe tbody tr th:only-of-type {\n",
       "        vertical-align: middle;\n",
       "    }\n",
       "\n",
       "    .dataframe tbody tr th {\n",
       "        vertical-align: top;\n",
       "    }\n",
       "\n",
       "    .dataframe thead th {\n",
       "        text-align: right;\n",
       "    }\n",
       "</style>\n",
       "<table border=\"1\" class=\"dataframe\">\n",
       "  <thead>\n",
       "    <tr style=\"text-align: right;\">\n",
       "      <th></th>\n",
       "      <th>employee</th>\n",
       "      <th>bonus</th>\n",
       "    </tr>\n",
       "  </thead>\n",
       "  <tbody>\n",
       "    <tr>\n",
       "      <th>E3</th>\n",
       "      <td>Nico</td>\n",
       "      <td>40000.0</td>\n",
       "    </tr>\n",
       "    <tr>\n",
       "      <th>E5</th>\n",
       "      <td>Ethan</td>\n",
       "      <td>NaN</td>\n",
       "    </tr>\n",
       "  </tbody>\n",
       "</table>\n",
       "</div>"
      ],
      "text/plain": [
       "   employee    bonus\n",
       "E3     Nico  40000.0\n",
       "E5    Ethan      NaN"
      ]
     },
     "execution_count": 29,
     "metadata": {},
     "output_type": "execute_result"
    }
   ],
   "source": [
    "df.loc[df[\"department\"]==\"IT\",[\"employee\",\"bonus\"]]"
   ]
  },
  {
   "cell_type": "code",
   "execution_count": 31,
   "id": "2ea5557e-047a-41f9-9f48-c3369675f6fb",
   "metadata": {},
   "outputs": [],
   "source": [
    "#updating the nan value in it with the mean using loc here\n",
    "avg_sal_it= df.loc[df[\"department\"]==\"IT\", \"salary\"].mean()\n",
    "df.loc[(df[\"department\"]==\"IT\")&(df[\"salary\"].isna()),\"salary\"]=avg_sal_it"
   ]
  },
  {
   "cell_type": "code",
   "execution_count": 33,
   "id": "83582e8f-105c-4cbe-ad9c-61a35439540a",
   "metadata": {},
   "outputs": [
    {
     "data": {
      "text/html": [
       "<div>\n",
       "<style scoped>\n",
       "    .dataframe tbody tr th:only-of-type {\n",
       "        vertical-align: middle;\n",
       "    }\n",
       "\n",
       "    .dataframe tbody tr th {\n",
       "        vertical-align: top;\n",
       "    }\n",
       "\n",
       "    .dataframe thead th {\n",
       "        text-align: right;\n",
       "    }\n",
       "</style>\n",
       "<table border=\"1\" class=\"dataframe\">\n",
       "  <thead>\n",
       "    <tr style=\"text-align: right;\">\n",
       "      <th></th>\n",
       "      <th>employee</th>\n",
       "      <th>department</th>\n",
       "      <th>salary</th>\n",
       "      <th>joining_date</th>\n",
       "      <th>bonus</th>\n",
       "    </tr>\n",
       "  </thead>\n",
       "  <tbody>\n",
       "    <tr>\n",
       "      <th>E1</th>\n",
       "      <td>Keshav</td>\n",
       "      <td>HR</td>\n",
       "      <td>500000.0</td>\n",
       "      <td>2020-01-15</td>\n",
       "      <td>50000.0</td>\n",
       "    </tr>\n",
       "    <tr>\n",
       "      <th>E2</th>\n",
       "      <td>Afroze</td>\n",
       "      <td>Finance</td>\n",
       "      <td>600000.0</td>\n",
       "      <td>2019-03-10</td>\n",
       "      <td>7000000.0</td>\n",
       "    </tr>\n",
       "    <tr>\n",
       "      <th>E3</th>\n",
       "      <td>Nico</td>\n",
       "      <td>IT</td>\n",
       "      <td>550000.0</td>\n",
       "      <td>2021-06-25</td>\n",
       "      <td>40000.0</td>\n",
       "    </tr>\n",
       "    <tr>\n",
       "      <th>E4</th>\n",
       "      <td>Sravya</td>\n",
       "      <td>Finance</td>\n",
       "      <td>720000.0</td>\n",
       "      <td>2018-07-01</td>\n",
       "      <td>80000.0</td>\n",
       "    </tr>\n",
       "    <tr>\n",
       "      <th>E5</th>\n",
       "      <td>Ethan</td>\n",
       "      <td>IT</td>\n",
       "      <td>550000.0</td>\n",
       "      <td>2022-02-14</td>\n",
       "      <td>NaN</td>\n",
       "    </tr>\n",
       "  </tbody>\n",
       "</table>\n",
       "</div>"
      ],
      "text/plain": [
       "   employee department    salary joining_date      bonus\n",
       "E1   Keshav         HR  500000.0   2020-01-15    50000.0\n",
       "E2   Afroze    Finance  600000.0   2019-03-10  7000000.0\n",
       "E3     Nico         IT  550000.0   2021-06-25    40000.0\n",
       "E4   Sravya    Finance  720000.0   2018-07-01    80000.0\n",
       "E5    Ethan         IT  550000.0   2022-02-14        NaN"
      ]
     },
     "execution_count": 33,
     "metadata": {},
     "output_type": "execute_result"
    }
   ],
   "source": [
    "df.head()"
   ]
  },
  {
   "cell_type": "code",
   "execution_count": 35,
   "id": "427ff876-a629-4d73-8008-450d9739887c",
   "metadata": {},
   "outputs": [],
   "source": [
    "avg_bonus = 1000\n",
    "df.loc[(df.department == \"IT\")&df.bonus.isna(),\"bonus\"]=avg_bonus"
   ]
  },
  {
   "cell_type": "code",
   "execution_count": 39,
   "id": "0e8782ef-b677-4766-8994-ecbe2778d119",
   "metadata": {},
   "outputs": [
    {
     "data": {
      "text/html": [
       "<div>\n",
       "<style scoped>\n",
       "    .dataframe tbody tr th:only-of-type {\n",
       "        vertical-align: middle;\n",
       "    }\n",
       "\n",
       "    .dataframe tbody tr th {\n",
       "        vertical-align: top;\n",
       "    }\n",
       "\n",
       "    .dataframe thead th {\n",
       "        text-align: right;\n",
       "    }\n",
       "</style>\n",
       "<table border=\"1\" class=\"dataframe\">\n",
       "  <thead>\n",
       "    <tr style=\"text-align: right;\">\n",
       "      <th></th>\n",
       "      <th>employee</th>\n",
       "      <th>department</th>\n",
       "      <th>salary</th>\n",
       "      <th>joining_date</th>\n",
       "      <th>bonus</th>\n",
       "    </tr>\n",
       "  </thead>\n",
       "  <tbody>\n",
       "    <tr>\n",
       "      <th>E1</th>\n",
       "      <td>Keshav</td>\n",
       "      <td>HR</td>\n",
       "      <td>500000.0</td>\n",
       "      <td>2020-01-15</td>\n",
       "      <td>50000.0</td>\n",
       "    </tr>\n",
       "    <tr>\n",
       "      <th>E2</th>\n",
       "      <td>Afroze</td>\n",
       "      <td>Finance</td>\n",
       "      <td>600000.0</td>\n",
       "      <td>2019-03-10</td>\n",
       "      <td>7000000.0</td>\n",
       "    </tr>\n",
       "    <tr>\n",
       "      <th>E3</th>\n",
       "      <td>Nico</td>\n",
       "      <td>IT</td>\n",
       "      <td>550000.0</td>\n",
       "      <td>2021-06-25</td>\n",
       "      <td>40000.0</td>\n",
       "    </tr>\n",
       "    <tr>\n",
       "      <th>E4</th>\n",
       "      <td>Sravya</td>\n",
       "      <td>Finance</td>\n",
       "      <td>720000.0</td>\n",
       "      <td>2018-07-01</td>\n",
       "      <td>80000.0</td>\n",
       "    </tr>\n",
       "    <tr>\n",
       "      <th>E5</th>\n",
       "      <td>Ethan</td>\n",
       "      <td>IT</td>\n",
       "      <td>550000.0</td>\n",
       "      <td>2022-02-14</td>\n",
       "      <td>1000.0</td>\n",
       "    </tr>\n",
       "  </tbody>\n",
       "</table>\n",
       "</div>"
      ],
      "text/plain": [
       "   employee department    salary joining_date      bonus\n",
       "E1   Keshav         HR  500000.0   2020-01-15    50000.0\n",
       "E2   Afroze    Finance  600000.0   2019-03-10  7000000.0\n",
       "E3     Nico         IT  550000.0   2021-06-25    40000.0\n",
       "E4   Sravya    Finance  720000.0   2018-07-01    80000.0\n",
       "E5    Ethan         IT  550000.0   2022-02-14     1000.0"
      ]
     },
     "execution_count": 39,
     "metadata": {},
     "output_type": "execute_result"
    }
   ],
   "source": [
    "df.head()"
   ]
  },
  {
   "cell_type": "code",
   "execution_count": 57,
   "id": "9a06f86e-2915-4610-b3c8-6383f869717a",
   "metadata": {},
   "outputs": [
    {
     "data": {
      "text/plain": [
       "dtype('float64')"
      ]
     },
     "execution_count": 57,
     "metadata": {},
     "output_type": "execute_result"
    }
   ],
   "source": [
    "df.salary.dtype"
   ]
  },
  {
   "cell_type": "code",
   "execution_count": 61,
   "id": "274b5873-d253-4835-b2f3-eede424e86df",
   "metadata": {},
   "outputs": [
    {
     "data": {
      "text/html": [
       "<div>\n",
       "<style scoped>\n",
       "    .dataframe tbody tr th:only-of-type {\n",
       "        vertical-align: middle;\n",
       "    }\n",
       "\n",
       "    .dataframe tbody tr th {\n",
       "        vertical-align: top;\n",
       "    }\n",
       "\n",
       "    .dataframe thead th {\n",
       "        text-align: right;\n",
       "    }\n",
       "</style>\n",
       "<table border=\"1\" class=\"dataframe\">\n",
       "  <thead>\n",
       "    <tr style=\"text-align: right;\">\n",
       "      <th></th>\n",
       "      <th>salary</th>\n",
       "      <th>bonus</th>\n",
       "    </tr>\n",
       "  </thead>\n",
       "  <tbody>\n",
       "    <tr>\n",
       "      <th>E2</th>\n",
       "      <td>600000.0</td>\n",
       "      <td>7000000.0</td>\n",
       "    </tr>\n",
       "    <tr>\n",
       "      <th>E4</th>\n",
       "      <td>720000.0</td>\n",
       "      <td>80000.0</td>\n",
       "    </tr>\n",
       "  </tbody>\n",
       "</table>\n",
       "</div>"
      ],
      "text/plain": [
       "      salary      bonus\n",
       "E2  600000.0  7000000.0\n",
       "E4  720000.0    80000.0"
      ]
     },
     "execution_count": 61,
     "metadata": {},
     "output_type": "execute_result"
    }
   ],
   "source": [
    "numeric_cols = [col for col in df.columns if df[col].dtype ==\"float64\"]\n",
    "df.loc[df.department == \"Finance\", numeric_cols]\n",
    "#used list comp here to get the float64 cols frim finance"
   ]
  },
  {
   "cell_type": "code",
   "execution_count": 69,
   "id": "a9a24204-91e1-4be9-ab9a-3b6f6eff3093",
   "metadata": {},
   "outputs": [],
   "source": [
    "### getting the cols emp and sal for even rows "
   ]
  },
  {
   "cell_type": "code",
   "execution_count": 63,
   "id": "75a259e3-c727-4a85-9e06-9fdf97fb8ea0",
   "metadata": {},
   "outputs": [
    {
     "data": {
      "text/plain": [
       "['E1', 'E2', 'E3', 'E4', 'E5', 'E6']"
      ]
     },
     "execution_count": 63,
     "metadata": {},
     "output_type": "execute_result"
    }
   ],
   "source": [
    "even_rows = [idx for idx in df.index]\n",
    "even_rows"
   ]
  },
  {
   "cell_type": "code",
   "execution_count": 65,
   "id": "b324abfa-557d-4f0c-b156-dd5f11770ad1",
   "metadata": {},
   "outputs": [],
   "source": [
    "even_rows = [idx for idx in df.index if int(idx[1:]) % 2 == 0]"
   ]
  },
  {
   "cell_type": "code",
   "execution_count": 67,
   "id": "4b3d906c-55ba-4c49-943d-09ad37141683",
   "metadata": {},
   "outputs": [
    {
     "data": {
      "text/html": [
       "<div>\n",
       "<style scoped>\n",
       "    .dataframe tbody tr th:only-of-type {\n",
       "        vertical-align: middle;\n",
       "    }\n",
       "\n",
       "    .dataframe tbody tr th {\n",
       "        vertical-align: top;\n",
       "    }\n",
       "\n",
       "    .dataframe thead th {\n",
       "        text-align: right;\n",
       "    }\n",
       "</style>\n",
       "<table border=\"1\" class=\"dataframe\">\n",
       "  <thead>\n",
       "    <tr style=\"text-align: right;\">\n",
       "      <th></th>\n",
       "      <th>employee</th>\n",
       "      <th>salary</th>\n",
       "    </tr>\n",
       "  </thead>\n",
       "  <tbody>\n",
       "    <tr>\n",
       "      <th>E2</th>\n",
       "      <td>Afroze</td>\n",
       "      <td>600000.0</td>\n",
       "    </tr>\n",
       "    <tr>\n",
       "      <th>E4</th>\n",
       "      <td>Sravya</td>\n",
       "      <td>720000.0</td>\n",
       "    </tr>\n",
       "    <tr>\n",
       "      <th>E6</th>\n",
       "      <td>Fiona</td>\n",
       "      <td>580000.0</td>\n",
       "    </tr>\n",
       "  </tbody>\n",
       "</table>\n",
       "</div>"
      ],
      "text/plain": [
       "   employee    salary\n",
       "E2   Afroze  600000.0\n",
       "E4   Sravya  720000.0\n",
       "E6    Fiona  580000.0"
      ]
     },
     "execution_count": 67,
     "metadata": {},
     "output_type": "execute_result"
    }
   ],
   "source": [
    "df.loc[even_rows, [\"employee\", \"salary\"]]"
   ]
  },
  {
   "cell_type": "code",
   "execution_count": 71,
   "id": "7afe51ae-3c11-4e3c-9419-1320ac2417b4",
   "metadata": {},
   "outputs": [],
   "source": [
    "#using list comp and loc now"
   ]
  },
  {
   "cell_type": "code",
   "execution_count": 73,
   "id": "dc2312e0-0662-4b08-a88e-74f54eb570db",
   "metadata": {},
   "outputs": [],
   "source": [
    "#adding a new column"
   ]
  },
  {
   "cell_type": "code",
   "execution_count": 89,
   "id": "d08de897-a1bb-4ca2-a9be-4ce0fbf47e2a",
   "metadata": {},
   "outputs": [],
   "source": [
    "#Total comp =salary+ bonus\n",
    "df[\"total_comp\"]=[\n",
    "    salary + (bonus if df.bonus is not None else 0) for salary,bonus in zip(df.salary, df.bonus)\n",
    "]"
   ]
  },
  {
   "cell_type": "code",
   "execution_count": 91,
   "id": "ee02e0f2-288f-4ce7-95ba-3ea0b3cce471",
   "metadata": {},
   "outputs": [
    {
     "data": {
      "text/html": [
       "<div>\n",
       "<style scoped>\n",
       "    .dataframe tbody tr th:only-of-type {\n",
       "        vertical-align: middle;\n",
       "    }\n",
       "\n",
       "    .dataframe tbody tr th {\n",
       "        vertical-align: top;\n",
       "    }\n",
       "\n",
       "    .dataframe thead th {\n",
       "        text-align: right;\n",
       "    }\n",
       "</style>\n",
       "<table border=\"1\" class=\"dataframe\">\n",
       "  <thead>\n",
       "    <tr style=\"text-align: right;\">\n",
       "      <th></th>\n",
       "      <th>employee</th>\n",
       "      <th>department</th>\n",
       "      <th>salary</th>\n",
       "      <th>joining_date</th>\n",
       "      <th>bonus</th>\n",
       "      <th>total_comp</th>\n",
       "    </tr>\n",
       "  </thead>\n",
       "  <tbody>\n",
       "    <tr>\n",
       "      <th>E1</th>\n",
       "      <td>Keshav</td>\n",
       "      <td>HR</td>\n",
       "      <td>500000.0</td>\n",
       "      <td>2020-01-15</td>\n",
       "      <td>50000.0</td>\n",
       "      <td>550000.0</td>\n",
       "    </tr>\n",
       "    <tr>\n",
       "      <th>E2</th>\n",
       "      <td>Afroze</td>\n",
       "      <td>Finance</td>\n",
       "      <td>600000.0</td>\n",
       "      <td>2019-03-10</td>\n",
       "      <td>7000000.0</td>\n",
       "      <td>7600000.0</td>\n",
       "    </tr>\n",
       "    <tr>\n",
       "      <th>E3</th>\n",
       "      <td>Nico</td>\n",
       "      <td>IT</td>\n",
       "      <td>550000.0</td>\n",
       "      <td>2021-06-25</td>\n",
       "      <td>40000.0</td>\n",
       "      <td>590000.0</td>\n",
       "    </tr>\n",
       "    <tr>\n",
       "      <th>E4</th>\n",
       "      <td>Sravya</td>\n",
       "      <td>Finance</td>\n",
       "      <td>720000.0</td>\n",
       "      <td>2018-07-01</td>\n",
       "      <td>80000.0</td>\n",
       "      <td>800000.0</td>\n",
       "    </tr>\n",
       "    <tr>\n",
       "      <th>E5</th>\n",
       "      <td>Ethan</td>\n",
       "      <td>IT</td>\n",
       "      <td>550000.0</td>\n",
       "      <td>2022-02-14</td>\n",
       "      <td>1000.0</td>\n",
       "      <td>551000.0</td>\n",
       "    </tr>\n",
       "  </tbody>\n",
       "</table>\n",
       "</div>"
      ],
      "text/plain": [
       "   employee department    salary joining_date      bonus  total_comp\n",
       "E1   Keshav         HR  500000.0   2020-01-15    50000.0    550000.0\n",
       "E2   Afroze    Finance  600000.0   2019-03-10  7000000.0   7600000.0\n",
       "E3     Nico         IT  550000.0   2021-06-25    40000.0    590000.0\n",
       "E4   Sravya    Finance  720000.0   2018-07-01    80000.0    800000.0\n",
       "E5    Ethan         IT  550000.0   2022-02-14     1000.0    551000.0"
      ]
     },
     "execution_count": 91,
     "metadata": {},
     "output_type": "execute_result"
    }
   ],
   "source": [
    "df.head()"
   ]
  },
  {
   "cell_type": "markdown",
   "id": "32ae9914-3eec-4767-82e9-1181f363cfbe",
   "metadata": {},
   "source": [
    "### iloc"
   ]
  },
  {
   "cell_type": "code",
   "execution_count": 41,
   "id": "672b895a-215b-42db-9a9f-a433d764bf76",
   "metadata": {},
   "outputs": [
    {
     "data": {
      "text/plain": [
       "employee                       Nico\n",
       "department                       IT\n",
       "salary                     550000.0\n",
       "joining_date    2021-06-25 00:00:00\n",
       "bonus                       40000.0\n",
       "Name: E3, dtype: object"
      ]
     },
     "execution_count": 41,
     "metadata": {},
     "output_type": "execute_result"
    }
   ],
   "source": [
    "df.iloc[2]"
   ]
  },
  {
   "cell_type": "code",
   "execution_count": 96,
   "id": "915994b2-c9a6-48fa-9749-753751181061",
   "metadata": {},
   "outputs": [
    {
     "data": {
      "text/html": [
       "<div>\n",
       "<style scoped>\n",
       "    .dataframe tbody tr th:only-of-type {\n",
       "        vertical-align: middle;\n",
       "    }\n",
       "\n",
       "    .dataframe tbody tr th {\n",
       "        vertical-align: top;\n",
       "    }\n",
       "\n",
       "    .dataframe thead th {\n",
       "        text-align: right;\n",
       "    }\n",
       "</style>\n",
       "<table border=\"1\" class=\"dataframe\">\n",
       "  <thead>\n",
       "    <tr style=\"text-align: right;\">\n",
       "      <th></th>\n",
       "      <th>employee</th>\n",
       "      <th>department</th>\n",
       "      <th>salary</th>\n",
       "      <th>joining_date</th>\n",
       "      <th>bonus</th>\n",
       "      <th>total_comp</th>\n",
       "    </tr>\n",
       "  </thead>\n",
       "  <tbody>\n",
       "    <tr>\n",
       "      <th>E1</th>\n",
       "      <td>Keshav</td>\n",
       "      <td>HR</td>\n",
       "      <td>500000.0</td>\n",
       "      <td>2020-01-15</td>\n",
       "      <td>50000.0</td>\n",
       "      <td>550000.0</td>\n",
       "    </tr>\n",
       "    <tr>\n",
       "      <th>E3</th>\n",
       "      <td>Nico</td>\n",
       "      <td>IT</td>\n",
       "      <td>550000.0</td>\n",
       "      <td>2021-06-25</td>\n",
       "      <td>40000.0</td>\n",
       "      <td>590000.0</td>\n",
       "    </tr>\n",
       "    <tr>\n",
       "      <th>E5</th>\n",
       "      <td>Ethan</td>\n",
       "      <td>IT</td>\n",
       "      <td>550000.0</td>\n",
       "      <td>2022-02-14</td>\n",
       "      <td>1000.0</td>\n",
       "      <td>551000.0</td>\n",
       "    </tr>\n",
       "  </tbody>\n",
       "</table>\n",
       "</div>"
      ],
      "text/plain": [
       "   employee department    salary joining_date    bonus  total_comp\n",
       "E1   Keshav         HR  500000.0   2020-01-15  50000.0    550000.0\n",
       "E3     Nico         IT  550000.0   2021-06-25  40000.0    590000.0\n",
       "E5    Ethan         IT  550000.0   2022-02-14   1000.0    551000.0"
      ]
     },
     "execution_count": 96,
     "metadata": {},
     "output_type": "execute_result"
    }
   ],
   "source": [
    "df.iloc[[0, 2, 4]]"
   ]
  },
  {
   "cell_type": "code",
   "execution_count": 98,
   "id": "1bf46b34-459d-4237-9037-190c1c7161f3",
   "metadata": {},
   "outputs": [
    {
     "data": {
      "text/html": [
       "<div>\n",
       "<style scoped>\n",
       "    .dataframe tbody tr th:only-of-type {\n",
       "        vertical-align: middle;\n",
       "    }\n",
       "\n",
       "    .dataframe tbody tr th {\n",
       "        vertical-align: top;\n",
       "    }\n",
       "\n",
       "    .dataframe thead th {\n",
       "        text-align: right;\n",
       "    }\n",
       "</style>\n",
       "<table border=\"1\" class=\"dataframe\">\n",
       "  <thead>\n",
       "    <tr style=\"text-align: right;\">\n",
       "      <th></th>\n",
       "      <th>employee</th>\n",
       "      <th>department</th>\n",
       "      <th>salary</th>\n",
       "      <th>joining_date</th>\n",
       "      <th>bonus</th>\n",
       "      <th>total_comp</th>\n",
       "    </tr>\n",
       "  </thead>\n",
       "  <tbody>\n",
       "    <tr>\n",
       "      <th>E2</th>\n",
       "      <td>Afroze</td>\n",
       "      <td>Finance</td>\n",
       "      <td>600000.0</td>\n",
       "      <td>2019-03-10</td>\n",
       "      <td>7000000.0</td>\n",
       "      <td>7600000.0</td>\n",
       "    </tr>\n",
       "    <tr>\n",
       "      <th>E3</th>\n",
       "      <td>Nico</td>\n",
       "      <td>IT</td>\n",
       "      <td>550000.0</td>\n",
       "      <td>2021-06-25</td>\n",
       "      <td>40000.0</td>\n",
       "      <td>590000.0</td>\n",
       "    </tr>\n",
       "    <tr>\n",
       "      <th>E4</th>\n",
       "      <td>Sravya</td>\n",
       "      <td>Finance</td>\n",
       "      <td>720000.0</td>\n",
       "      <td>2018-07-01</td>\n",
       "      <td>80000.0</td>\n",
       "      <td>800000.0</td>\n",
       "    </tr>\n",
       "  </tbody>\n",
       "</table>\n",
       "</div>"
      ],
      "text/plain": [
       "   employee department    salary joining_date      bonus  total_comp\n",
       "E2   Afroze    Finance  600000.0   2019-03-10  7000000.0   7600000.0\n",
       "E3     Nico         IT  550000.0   2021-06-25    40000.0    590000.0\n",
       "E4   Sravya    Finance  720000.0   2018-07-01    80000.0    800000.0"
      ]
     },
     "execution_count": 98,
     "metadata": {},
     "output_type": "execute_result"
    }
   ],
   "source": [
    "df.iloc[1:4]"
   ]
  },
  {
   "cell_type": "code",
   "execution_count": 100,
   "id": "203d352a-9226-4d2a-8412-1b1100b5977f",
   "metadata": {},
   "outputs": [
    {
     "data": {
      "text/html": [
       "<div>\n",
       "<style scoped>\n",
       "    .dataframe tbody tr th:only-of-type {\n",
       "        vertical-align: middle;\n",
       "    }\n",
       "\n",
       "    .dataframe tbody tr th {\n",
       "        vertical-align: top;\n",
       "    }\n",
       "\n",
       "    .dataframe thead th {\n",
       "        text-align: right;\n",
       "    }\n",
       "</style>\n",
       "<table border=\"1\" class=\"dataframe\">\n",
       "  <thead>\n",
       "    <tr style=\"text-align: right;\">\n",
       "      <th></th>\n",
       "      <th>employee</th>\n",
       "      <th>salary</th>\n",
       "    </tr>\n",
       "  </thead>\n",
       "  <tbody>\n",
       "    <tr>\n",
       "      <th>E1</th>\n",
       "      <td>Keshav</td>\n",
       "      <td>500000.0</td>\n",
       "    </tr>\n",
       "    <tr>\n",
       "      <th>E3</th>\n",
       "      <td>Nico</td>\n",
       "      <td>550000.0</td>\n",
       "    </tr>\n",
       "  </tbody>\n",
       "</table>\n",
       "</div>"
      ],
      "text/plain": [
       "   employee    salary\n",
       "E1   Keshav  500000.0\n",
       "E3     Nico  550000.0"
      ]
     },
     "execution_count": 100,
     "metadata": {},
     "output_type": "execute_result"
    }
   ],
   "source": [
    "df.iloc[[0, 2], [0, 2]]"
   ]
  },
  {
   "cell_type": "code",
   "execution_count": 102,
   "id": "83ce5ba4-ed75-44c6-a372-fea68d992d10",
   "metadata": {},
   "outputs": [
    {
     "data": {
      "text/plain": [
       "E1    500000.0\n",
       "E2    600000.0\n",
       "E3    550000.0\n",
       "E4    720000.0\n",
       "E5    550000.0\n",
       "E6    580000.0\n",
       "Name: salary, dtype: float64"
      ]
     },
     "execution_count": 102,
     "metadata": {},
     "output_type": "execute_result"
    }
   ],
   "source": [
    "df.iloc[:, 2]"
   ]
  },
  {
   "cell_type": "code",
   "execution_count": 104,
   "id": "9f5e02ff-f146-47c8-a5a7-ec7f8960d5e9",
   "metadata": {},
   "outputs": [
    {
     "data": {
      "text/plain": [
       "720000.0"
      ]
     },
     "execution_count": 104,
     "metadata": {},
     "output_type": "execute_result"
    }
   ],
   "source": [
    "df.iloc[3, 2]"
   ]
  },
  {
   "cell_type": "code",
   "execution_count": 106,
   "id": "7c4ab7ff-c0ba-43c3-bde8-73b3a768fce5",
   "metadata": {},
   "outputs": [
    {
     "data": {
      "text/plain": [
       "50000.0"
      ]
     },
     "execution_count": 106,
     "metadata": {},
     "output_type": "execute_result"
    }
   ],
   "source": [
    "df.iloc[0,4]"
   ]
  },
  {
   "cell_type": "code",
   "execution_count": 108,
   "id": "0cde5d20-b36f-457b-b6a9-142c64444446",
   "metadata": {},
   "outputs": [
    {
     "data": {
      "text/html": [
       "<div>\n",
       "<style scoped>\n",
       "    .dataframe tbody tr th:only-of-type {\n",
       "        vertical-align: middle;\n",
       "    }\n",
       "\n",
       "    .dataframe tbody tr th {\n",
       "        vertical-align: top;\n",
       "    }\n",
       "\n",
       "    .dataframe thead th {\n",
       "        text-align: right;\n",
       "    }\n",
       "</style>\n",
       "<table border=\"1\" class=\"dataframe\">\n",
       "  <thead>\n",
       "    <tr style=\"text-align: right;\">\n",
       "      <th></th>\n",
       "      <th>employee</th>\n",
       "      <th>department</th>\n",
       "      <th>salary</th>\n",
       "      <th>joining_date</th>\n",
       "      <th>bonus</th>\n",
       "      <th>total_comp</th>\n",
       "    </tr>\n",
       "  </thead>\n",
       "  <tbody>\n",
       "    <tr>\n",
       "      <th>E1</th>\n",
       "      <td>Keshav</td>\n",
       "      <td>HR</td>\n",
       "      <td>500000.0</td>\n",
       "      <td>2020-01-15</td>\n",
       "      <td>50000.0</td>\n",
       "      <td>550000.0</td>\n",
       "    </tr>\n",
       "    <tr>\n",
       "      <th>E2</th>\n",
       "      <td>Afroze</td>\n",
       "      <td>Finance</td>\n",
       "      <td>600000.0</td>\n",
       "      <td>2019-03-10</td>\n",
       "      <td>7000000.0</td>\n",
       "      <td>7600000.0</td>\n",
       "    </tr>\n",
       "    <tr>\n",
       "      <th>E3</th>\n",
       "      <td>Nico</td>\n",
       "      <td>IT</td>\n",
       "      <td>550000.0</td>\n",
       "      <td>2021-06-25</td>\n",
       "      <td>40000.0</td>\n",
       "      <td>590000.0</td>\n",
       "    </tr>\n",
       "    <tr>\n",
       "      <th>E4</th>\n",
       "      <td>Sravya</td>\n",
       "      <td>Finance</td>\n",
       "      <td>720000.0</td>\n",
       "      <td>2018-07-01</td>\n",
       "      <td>80000.0</td>\n",
       "      <td>800000.0</td>\n",
       "    </tr>\n",
       "  </tbody>\n",
       "</table>\n",
       "</div>"
      ],
      "text/plain": [
       "   employee department    salary joining_date      bonus  total_comp\n",
       "E1   Keshav         HR  500000.0   2020-01-15    50000.0    550000.0\n",
       "E2   Afroze    Finance  600000.0   2019-03-10  7000000.0   7600000.0\n",
       "E3     Nico         IT  550000.0   2021-06-25    40000.0    590000.0\n",
       "E4   Sravya    Finance  720000.0   2018-07-01    80000.0    800000.0"
      ]
     },
     "execution_count": 108,
     "metadata": {},
     "output_type": "execute_result"
    }
   ],
   "source": [
    "df.iloc[0:4]"
   ]
  },
  {
   "cell_type": "code",
   "execution_count": 110,
   "id": "7afab31d-695d-4f73-9fcb-baa54a792343",
   "metadata": {},
   "outputs": [
    {
     "data": {
      "text/html": [
       "<div>\n",
       "<style scoped>\n",
       "    .dataframe tbody tr th:only-of-type {\n",
       "        vertical-align: middle;\n",
       "    }\n",
       "\n",
       "    .dataframe tbody tr th {\n",
       "        vertical-align: top;\n",
       "    }\n",
       "\n",
       "    .dataframe thead th {\n",
       "        text-align: right;\n",
       "    }\n",
       "</style>\n",
       "<table border=\"1\" class=\"dataframe\">\n",
       "  <thead>\n",
       "    <tr style=\"text-align: right;\">\n",
       "      <th></th>\n",
       "      <th>department</th>\n",
       "      <th>joining_date</th>\n",
       "    </tr>\n",
       "  </thead>\n",
       "  <tbody>\n",
       "    <tr>\n",
       "      <th>E1</th>\n",
       "      <td>HR</td>\n",
       "      <td>2020-01-15</td>\n",
       "    </tr>\n",
       "    <tr>\n",
       "      <th>E3</th>\n",
       "      <td>IT</td>\n",
       "      <td>2021-06-25</td>\n",
       "    </tr>\n",
       "    <tr>\n",
       "      <th>E5</th>\n",
       "      <td>IT</td>\n",
       "      <td>2022-02-14</td>\n",
       "    </tr>\n",
       "  </tbody>\n",
       "</table>\n",
       "</div>"
      ],
      "text/plain": [
       "   department joining_date\n",
       "E1         HR   2020-01-15\n",
       "E3         IT   2021-06-25\n",
       "E5         IT   2022-02-14"
      ]
     },
     "execution_count": 110,
     "metadata": {},
     "output_type": "execute_result"
    }
   ],
   "source": [
    "df.iloc[[0, 2,4],[1, 3]]"
   ]
  },
  {
   "cell_type": "code",
   "execution_count": 112,
   "id": "4365cf87-db15-497b-8ef9-ccc4d96b6eaf",
   "metadata": {},
   "outputs": [
    {
     "data": {
      "text/html": [
       "<div>\n",
       "<style scoped>\n",
       "    .dataframe tbody tr th:only-of-type {\n",
       "        vertical-align: middle;\n",
       "    }\n",
       "\n",
       "    .dataframe tbody tr th {\n",
       "        vertical-align: top;\n",
       "    }\n",
       "\n",
       "    .dataframe thead th {\n",
       "        text-align: right;\n",
       "    }\n",
       "</style>\n",
       "<table border=\"1\" class=\"dataframe\">\n",
       "  <thead>\n",
       "    <tr style=\"text-align: right;\">\n",
       "      <th></th>\n",
       "      <th>employee</th>\n",
       "      <th>department</th>\n",
       "      <th>salary</th>\n",
       "      <th>joining_date</th>\n",
       "      <th>bonus</th>\n",
       "      <th>total_comp</th>\n",
       "    </tr>\n",
       "  </thead>\n",
       "  <tbody>\n",
       "    <tr>\n",
       "      <th>E1</th>\n",
       "      <td>Keshav</td>\n",
       "      <td>HR</td>\n",
       "      <td>500000.0</td>\n",
       "      <td>2020-01-15</td>\n",
       "      <td>50000.0</td>\n",
       "      <td>550000.0</td>\n",
       "    </tr>\n",
       "    <tr>\n",
       "      <th>E3</th>\n",
       "      <td>Nico</td>\n",
       "      <td>IT</td>\n",
       "      <td>550000.0</td>\n",
       "      <td>2021-06-25</td>\n",
       "      <td>40000.0</td>\n",
       "      <td>590000.0</td>\n",
       "    </tr>\n",
       "    <tr>\n",
       "      <th>E5</th>\n",
       "      <td>Ethan</td>\n",
       "      <td>IT</td>\n",
       "      <td>550000.0</td>\n",
       "      <td>2022-02-14</td>\n",
       "      <td>1000.0</td>\n",
       "      <td>551000.0</td>\n",
       "    </tr>\n",
       "  </tbody>\n",
       "</table>\n",
       "</div>"
      ],
      "text/plain": [
       "   employee department    salary joining_date    bonus  total_comp\n",
       "E1   Keshav         HR  500000.0   2020-01-15  50000.0    550000.0\n",
       "E3     Nico         IT  550000.0   2021-06-25  40000.0    590000.0\n",
       "E5    Ethan         IT  550000.0   2022-02-14   1000.0    551000.0"
      ]
     },
     "execution_count": 112,
     "metadata": {},
     "output_type": "execute_result"
    }
   ],
   "source": [
    "#doing the even thing again\n",
    "even = [i % 2 == 0 for i in range(len(df))]\n",
    "df.iloc[even]"
   ]
  },
  {
   "cell_type": "code",
   "execution_count": 118,
   "id": "dd012f9b-e2cd-4e12-8d3f-98a6024f518d",
   "metadata": {},
   "outputs": [],
   "source": [
    "#adding sal t othe first three employees\n",
    "df.iloc[0:3, 2] += 1000"
   ]
  },
  {
   "cell_type": "code",
   "execution_count": 116,
   "id": "cf24bbb7-60c6-48ce-a831-140fa905be16",
   "metadata": {},
   "outputs": [
    {
     "data": {
      "text/html": [
       "<div>\n",
       "<style scoped>\n",
       "    .dataframe tbody tr th:only-of-type {\n",
       "        vertical-align: middle;\n",
       "    }\n",
       "\n",
       "    .dataframe tbody tr th {\n",
       "        vertical-align: top;\n",
       "    }\n",
       "\n",
       "    .dataframe thead th {\n",
       "        text-align: right;\n",
       "    }\n",
       "</style>\n",
       "<table border=\"1\" class=\"dataframe\">\n",
       "  <thead>\n",
       "    <tr style=\"text-align: right;\">\n",
       "      <th></th>\n",
       "      <th>employee</th>\n",
       "      <th>department</th>\n",
       "      <th>salary</th>\n",
       "      <th>joining_date</th>\n",
       "      <th>bonus</th>\n",
       "      <th>total_comp</th>\n",
       "    </tr>\n",
       "  </thead>\n",
       "  <tbody>\n",
       "    <tr>\n",
       "      <th>E1</th>\n",
       "      <td>Keshav</td>\n",
       "      <td>HR</td>\n",
       "      <td>501000.0</td>\n",
       "      <td>2020-01-15</td>\n",
       "      <td>50000.0</td>\n",
       "      <td>550000.0</td>\n",
       "    </tr>\n",
       "    <tr>\n",
       "      <th>E2</th>\n",
       "      <td>Afroze</td>\n",
       "      <td>Finance</td>\n",
       "      <td>601000.0</td>\n",
       "      <td>2019-03-10</td>\n",
       "      <td>7000000.0</td>\n",
       "      <td>7600000.0</td>\n",
       "    </tr>\n",
       "    <tr>\n",
       "      <th>E3</th>\n",
       "      <td>Nico</td>\n",
       "      <td>IT</td>\n",
       "      <td>551000.0</td>\n",
       "      <td>2021-06-25</td>\n",
       "      <td>40000.0</td>\n",
       "      <td>590000.0</td>\n",
       "    </tr>\n",
       "    <tr>\n",
       "      <th>E4</th>\n",
       "      <td>Sravya</td>\n",
       "      <td>Finance</td>\n",
       "      <td>720000.0</td>\n",
       "      <td>2018-07-01</td>\n",
       "      <td>80000.0</td>\n",
       "      <td>800000.0</td>\n",
       "    </tr>\n",
       "    <tr>\n",
       "      <th>E5</th>\n",
       "      <td>Ethan</td>\n",
       "      <td>IT</td>\n",
       "      <td>550000.0</td>\n",
       "      <td>2022-02-14</td>\n",
       "      <td>1000.0</td>\n",
       "      <td>551000.0</td>\n",
       "    </tr>\n",
       "  </tbody>\n",
       "</table>\n",
       "</div>"
      ],
      "text/plain": [
       "   employee department    salary joining_date      bonus  total_comp\n",
       "E1   Keshav         HR  501000.0   2020-01-15    50000.0    550000.0\n",
       "E2   Afroze    Finance  601000.0   2019-03-10  7000000.0   7600000.0\n",
       "E3     Nico         IT  551000.0   2021-06-25    40000.0    590000.0\n",
       "E4   Sravya    Finance  720000.0   2018-07-01    80000.0    800000.0\n",
       "E5    Ethan         IT  550000.0   2022-02-14     1000.0    551000.0"
      ]
     },
     "execution_count": 116,
     "metadata": {},
     "output_type": "execute_result"
    }
   ],
   "source": [
    "df.head()"
   ]
  },
  {
   "cell_type": "code",
   "execution_count": 120,
   "id": "4b71d016-586e-4a30-b539-a1802b754d1f",
   "metadata": {},
   "outputs": [],
   "source": [
    "#doubling the sal for the first 3 emps\n",
    "df.iloc[0:3,2] =[s*2 for s in df.iloc[0:3, 2]]"
   ]
  },
  {
   "cell_type": "code",
   "execution_count": 122,
   "id": "909e4645-2475-4904-b8a8-a700a694e3e7",
   "metadata": {},
   "outputs": [
    {
     "data": {
      "text/html": [
       "<div>\n",
       "<style scoped>\n",
       "    .dataframe tbody tr th:only-of-type {\n",
       "        vertical-align: middle;\n",
       "    }\n",
       "\n",
       "    .dataframe tbody tr th {\n",
       "        vertical-align: top;\n",
       "    }\n",
       "\n",
       "    .dataframe thead th {\n",
       "        text-align: right;\n",
       "    }\n",
       "</style>\n",
       "<table border=\"1\" class=\"dataframe\">\n",
       "  <thead>\n",
       "    <tr style=\"text-align: right;\">\n",
       "      <th></th>\n",
       "      <th>employee</th>\n",
       "      <th>department</th>\n",
       "      <th>salary</th>\n",
       "      <th>joining_date</th>\n",
       "      <th>bonus</th>\n",
       "      <th>total_comp</th>\n",
       "    </tr>\n",
       "  </thead>\n",
       "  <tbody>\n",
       "    <tr>\n",
       "      <th>E1</th>\n",
       "      <td>Keshav</td>\n",
       "      <td>HR</td>\n",
       "      <td>1004000.0</td>\n",
       "      <td>2020-01-15</td>\n",
       "      <td>50000.0</td>\n",
       "      <td>550000.0</td>\n",
       "    </tr>\n",
       "    <tr>\n",
       "      <th>E2</th>\n",
       "      <td>Afroze</td>\n",
       "      <td>Finance</td>\n",
       "      <td>1204000.0</td>\n",
       "      <td>2019-03-10</td>\n",
       "      <td>7000000.0</td>\n",
       "      <td>7600000.0</td>\n",
       "    </tr>\n",
       "    <tr>\n",
       "      <th>E3</th>\n",
       "      <td>Nico</td>\n",
       "      <td>IT</td>\n",
       "      <td>1104000.0</td>\n",
       "      <td>2021-06-25</td>\n",
       "      <td>40000.0</td>\n",
       "      <td>590000.0</td>\n",
       "    </tr>\n",
       "    <tr>\n",
       "      <th>E4</th>\n",
       "      <td>Sravya</td>\n",
       "      <td>Finance</td>\n",
       "      <td>720000.0</td>\n",
       "      <td>2018-07-01</td>\n",
       "      <td>80000.0</td>\n",
       "      <td>800000.0</td>\n",
       "    </tr>\n",
       "    <tr>\n",
       "      <th>E5</th>\n",
       "      <td>Ethan</td>\n",
       "      <td>IT</td>\n",
       "      <td>550000.0</td>\n",
       "      <td>2022-02-14</td>\n",
       "      <td>1000.0</td>\n",
       "      <td>551000.0</td>\n",
       "    </tr>\n",
       "  </tbody>\n",
       "</table>\n",
       "</div>"
      ],
      "text/plain": [
       "   employee department     salary joining_date      bonus  total_comp\n",
       "E1   Keshav         HR  1004000.0   2020-01-15    50000.0    550000.0\n",
       "E2   Afroze    Finance  1204000.0   2019-03-10  7000000.0   7600000.0\n",
       "E3     Nico         IT  1104000.0   2021-06-25    40000.0    590000.0\n",
       "E4   Sravya    Finance   720000.0   2018-07-01    80000.0    800000.0\n",
       "E5    Ethan         IT   550000.0   2022-02-14     1000.0    551000.0"
      ]
     },
     "execution_count": 122,
     "metadata": {},
     "output_type": "execute_result"
    }
   ],
   "source": [
    "df.head()"
   ]
  },
  {
   "cell_type": "code",
   "execution_count": 124,
   "id": "b82de3b1-79a9-49e4-a145-63b365d9eefb",
   "metadata": {},
   "outputs": [
    {
     "data": {
      "text/html": [
       "<div>\n",
       "<style scoped>\n",
       "    .dataframe tbody tr th:only-of-type {\n",
       "        vertical-align: middle;\n",
       "    }\n",
       "\n",
       "    .dataframe tbody tr th {\n",
       "        vertical-align: top;\n",
       "    }\n",
       "\n",
       "    .dataframe thead th {\n",
       "        text-align: right;\n",
       "    }\n",
       "</style>\n",
       "<table border=\"1\" class=\"dataframe\">\n",
       "  <thead>\n",
       "    <tr style=\"text-align: right;\">\n",
       "      <th></th>\n",
       "      <th>employee</th>\n",
       "      <th>department</th>\n",
       "      <th>salary</th>\n",
       "      <th>joining_date</th>\n",
       "      <th>bonus</th>\n",
       "      <th>total_comp</th>\n",
       "    </tr>\n",
       "  </thead>\n",
       "  <tbody>\n",
       "    <tr>\n",
       "      <th>E1</th>\n",
       "      <td>Keshav</td>\n",
       "      <td>HR</td>\n",
       "      <td>1004000.0</td>\n",
       "      <td>2020-01-15</td>\n",
       "      <td>50000.0</td>\n",
       "      <td>550000.0</td>\n",
       "    </tr>\n",
       "    <tr>\n",
       "      <th>E2</th>\n",
       "      <td>Afroze</td>\n",
       "      <td>Finance</td>\n",
       "      <td>1204000.0</td>\n",
       "      <td>2019-03-10</td>\n",
       "      <td>7000000.0</td>\n",
       "      <td>7600000.0</td>\n",
       "    </tr>\n",
       "    <tr>\n",
       "      <th>E3</th>\n",
       "      <td>Nico</td>\n",
       "      <td>IT</td>\n",
       "      <td>1104000.0</td>\n",
       "      <td>2021-06-25</td>\n",
       "      <td>40000.0</td>\n",
       "      <td>590000.0</td>\n",
       "    </tr>\n",
       "    <tr>\n",
       "      <th>E4</th>\n",
       "      <td>Sravya</td>\n",
       "      <td>Finance</td>\n",
       "      <td>720000.0</td>\n",
       "      <td>2018-07-01</td>\n",
       "      <td>80000.0</td>\n",
       "      <td>800000.0</td>\n",
       "    </tr>\n",
       "    <tr>\n",
       "      <th>E5</th>\n",
       "      <td>Ethan</td>\n",
       "      <td>IT</td>\n",
       "      <td>550000.0</td>\n",
       "      <td>2022-02-14</td>\n",
       "      <td>1000.0</td>\n",
       "      <td>551000.0</td>\n",
       "    </tr>\n",
       "    <tr>\n",
       "      <th>E6</th>\n",
       "      <td>Fiona</td>\n",
       "      <td>HR</td>\n",
       "      <td>580000.0</td>\n",
       "      <td>2021-11-11</td>\n",
       "      <td>60000.0</td>\n",
       "      <td>640000.0</td>\n",
       "    </tr>\n",
       "  </tbody>\n",
       "</table>\n",
       "</div>"
      ],
      "text/plain": [
       "   employee department     salary joining_date      bonus  total_comp\n",
       "E1   Keshav         HR  1004000.0   2020-01-15    50000.0    550000.0\n",
       "E2   Afroze    Finance  1204000.0   2019-03-10  7000000.0   7600000.0\n",
       "E3     Nico         IT  1104000.0   2021-06-25    40000.0    590000.0\n",
       "E4   Sravya    Finance   720000.0   2018-07-01    80000.0    800000.0\n",
       "E5    Ethan         IT   550000.0   2022-02-14     1000.0    551000.0\n",
       "E6    Fiona         HR   580000.0   2021-11-11    60000.0    640000.0"
      ]
     },
     "execution_count": 124,
     "metadata": {},
     "output_type": "execute_result"
    }
   ],
   "source": [
    "df"
   ]
  },
  {
   "cell_type": "code",
   "execution_count": 126,
   "id": "e43d283a-66ef-4713-9851-fb86c59397bb",
   "metadata": {},
   "outputs": [],
   "source": [
    "#high earners, trying to creat a bool col\n",
    "df[\"high_earner\"] = [True if s > 100000 else False for s in df.iloc[:, 2]]\n"
   ]
  },
  {
   "cell_type": "code",
   "execution_count": 128,
   "id": "b5b91262-93e5-4f3b-a3da-f12085a7b0bc",
   "metadata": {},
   "outputs": [
    {
     "data": {
      "text/plain": [
       "E1    True\n",
       "E2    True\n",
       "E3    True\n",
       "E4    True\n",
       "E5    True\n",
       "E6    True\n",
       "Name: high_earner, dtype: bool"
      ]
     },
     "execution_count": 128,
     "metadata": {},
     "output_type": "execute_result"
    }
   ],
   "source": [
    "df.high_earner"
   ]
  },
  {
   "cell_type": "code",
   "execution_count": 130,
   "id": "2f628762-5072-4866-beab-d4c1177d9ed5",
   "metadata": {},
   "outputs": [
    {
     "data": {
      "text/html": [
       "<div>\n",
       "<style scoped>\n",
       "    .dataframe tbody tr th:only-of-type {\n",
       "        vertical-align: middle;\n",
       "    }\n",
       "\n",
       "    .dataframe tbody tr th {\n",
       "        vertical-align: top;\n",
       "    }\n",
       "\n",
       "    .dataframe thead th {\n",
       "        text-align: right;\n",
       "    }\n",
       "</style>\n",
       "<table border=\"1\" class=\"dataframe\">\n",
       "  <thead>\n",
       "    <tr style=\"text-align: right;\">\n",
       "      <th></th>\n",
       "      <th>employee</th>\n",
       "      <th>department</th>\n",
       "      <th>salary</th>\n",
       "      <th>joining_date</th>\n",
       "      <th>bonus</th>\n",
       "      <th>total_comp</th>\n",
       "      <th>high_earner</th>\n",
       "    </tr>\n",
       "  </thead>\n",
       "  <tbody>\n",
       "    <tr>\n",
       "      <th>E1</th>\n",
       "      <td>Keshav</td>\n",
       "      <td>HR</td>\n",
       "      <td>1004000.0</td>\n",
       "      <td>2020-01-15</td>\n",
       "      <td>50000.0</td>\n",
       "      <td>550000.0</td>\n",
       "      <td>True</td>\n",
       "    </tr>\n",
       "    <tr>\n",
       "      <th>E2</th>\n",
       "      <td>Afroze</td>\n",
       "      <td>Finance</td>\n",
       "      <td>1204000.0</td>\n",
       "      <td>2019-03-10</td>\n",
       "      <td>7000000.0</td>\n",
       "      <td>7600000.0</td>\n",
       "      <td>True</td>\n",
       "    </tr>\n",
       "    <tr>\n",
       "      <th>E3</th>\n",
       "      <td>Nico</td>\n",
       "      <td>IT</td>\n",
       "      <td>1104000.0</td>\n",
       "      <td>2021-06-25</td>\n",
       "      <td>40000.0</td>\n",
       "      <td>590000.0</td>\n",
       "      <td>True</td>\n",
       "    </tr>\n",
       "    <tr>\n",
       "      <th>E4</th>\n",
       "      <td>Sravya</td>\n",
       "      <td>Finance</td>\n",
       "      <td>720000.0</td>\n",
       "      <td>2018-07-01</td>\n",
       "      <td>80000.0</td>\n",
       "      <td>800000.0</td>\n",
       "      <td>True</td>\n",
       "    </tr>\n",
       "    <tr>\n",
       "      <th>E5</th>\n",
       "      <td>Ethan</td>\n",
       "      <td>IT</td>\n",
       "      <td>550000.0</td>\n",
       "      <td>2022-02-14</td>\n",
       "      <td>1000.0</td>\n",
       "      <td>551000.0</td>\n",
       "      <td>True</td>\n",
       "    </tr>\n",
       "    <tr>\n",
       "      <th>E6</th>\n",
       "      <td>Fiona</td>\n",
       "      <td>HR</td>\n",
       "      <td>580000.0</td>\n",
       "      <td>2021-11-11</td>\n",
       "      <td>60000.0</td>\n",
       "      <td>640000.0</td>\n",
       "      <td>True</td>\n",
       "    </tr>\n",
       "  </tbody>\n",
       "</table>\n",
       "</div>"
      ],
      "text/plain": [
       "   employee department     salary joining_date      bonus  total_comp  \\\n",
       "E1   Keshav         HR  1004000.0   2020-01-15    50000.0    550000.0   \n",
       "E2   Afroze    Finance  1204000.0   2019-03-10  7000000.0   7600000.0   \n",
       "E3     Nico         IT  1104000.0   2021-06-25    40000.0    590000.0   \n",
       "E4   Sravya    Finance   720000.0   2018-07-01    80000.0    800000.0   \n",
       "E5    Ethan         IT   550000.0   2022-02-14     1000.0    551000.0   \n",
       "E6    Fiona         HR   580000.0   2021-11-11    60000.0    640000.0   \n",
       "\n",
       "    high_earner  \n",
       "E1         True  \n",
       "E2         True  \n",
       "E3         True  \n",
       "E4         True  \n",
       "E5         True  \n",
       "E6         True  "
      ]
     },
     "execution_count": 130,
     "metadata": {},
     "output_type": "execute_result"
    }
   ],
   "source": [
    "df"
   ]
  },
  {
   "cell_type": "code",
   "execution_count": 136,
   "id": "5c11289e-062e-4201-a661-dbecac70559f",
   "metadata": {},
   "outputs": [],
   "source": [
    "#sal > 500000\n",
    "high_salary_names = [df.iloc[i, 0] for i in range(len(df)) if df.iloc[i, 2] > 700000]\n"
   ]
  },
  {
   "cell_type": "code",
   "execution_count": 138,
   "id": "5cd7dae6-50d6-4303-bd68-39ffee3b9a22",
   "metadata": {},
   "outputs": [
    {
     "data": {
      "text/plain": [
       "['Keshav', 'Afroze', 'Nico', 'Sravya']"
      ]
     },
     "execution_count": 138,
     "metadata": {},
     "output_type": "execute_result"
    }
   ],
   "source": [
    "high_salary_names"
   ]
  },
  {
   "cell_type": "code",
   "execution_count": 140,
   "id": "36b6c4a0-9967-436b-988e-5d4df7fc15bf",
   "metadata": {},
   "outputs": [
    {
     "data": {
      "text/html": [
       "<div>\n",
       "<style scoped>\n",
       "    .dataframe tbody tr th:only-of-type {\n",
       "        vertical-align: middle;\n",
       "    }\n",
       "\n",
       "    .dataframe tbody tr th {\n",
       "        vertical-align: top;\n",
       "    }\n",
       "\n",
       "    .dataframe thead th {\n",
       "        text-align: right;\n",
       "    }\n",
       "</style>\n",
       "<table border=\"1\" class=\"dataframe\">\n",
       "  <thead>\n",
       "    <tr style=\"text-align: right;\">\n",
       "      <th></th>\n",
       "      <th>employee</th>\n",
       "      <th>department</th>\n",
       "      <th>salary</th>\n",
       "      <th>joining_date</th>\n",
       "      <th>bonus</th>\n",
       "      <th>total_comp</th>\n",
       "      <th>high_earner</th>\n",
       "    </tr>\n",
       "  </thead>\n",
       "  <tbody>\n",
       "    <tr>\n",
       "      <th>E1</th>\n",
       "      <td>Keshav</td>\n",
       "      <td>HR</td>\n",
       "      <td>1004000.0</td>\n",
       "      <td>2020-01-15</td>\n",
       "      <td>50000.0</td>\n",
       "      <td>550000.0</td>\n",
       "      <td>True</td>\n",
       "    </tr>\n",
       "    <tr>\n",
       "      <th>E2</th>\n",
       "      <td>Afroze</td>\n",
       "      <td>Finance</td>\n",
       "      <td>1204000.0</td>\n",
       "      <td>2019-03-10</td>\n",
       "      <td>7000000.0</td>\n",
       "      <td>7600000.0</td>\n",
       "      <td>True</td>\n",
       "    </tr>\n",
       "    <tr>\n",
       "      <th>E3</th>\n",
       "      <td>Nico</td>\n",
       "      <td>IT</td>\n",
       "      <td>1104000.0</td>\n",
       "      <td>2021-06-25</td>\n",
       "      <td>40000.0</td>\n",
       "      <td>590000.0</td>\n",
       "      <td>True</td>\n",
       "    </tr>\n",
       "    <tr>\n",
       "      <th>E4</th>\n",
       "      <td>Sravya</td>\n",
       "      <td>Finance</td>\n",
       "      <td>720000.0</td>\n",
       "      <td>2018-07-01</td>\n",
       "      <td>80000.0</td>\n",
       "      <td>800000.0</td>\n",
       "      <td>True</td>\n",
       "    </tr>\n",
       "    <tr>\n",
       "      <th>E5</th>\n",
       "      <td>Ethan</td>\n",
       "      <td>IT</td>\n",
       "      <td>550000.0</td>\n",
       "      <td>2022-02-14</td>\n",
       "      <td>1000.0</td>\n",
       "      <td>551000.0</td>\n",
       "      <td>True</td>\n",
       "    </tr>\n",
       "    <tr>\n",
       "      <th>E6</th>\n",
       "      <td>Fiona</td>\n",
       "      <td>HR</td>\n",
       "      <td>580000.0</td>\n",
       "      <td>2021-11-11</td>\n",
       "      <td>60000.0</td>\n",
       "      <td>640000.0</td>\n",
       "      <td>True</td>\n",
       "    </tr>\n",
       "  </tbody>\n",
       "</table>\n",
       "</div>"
      ],
      "text/plain": [
       "   employee department     salary joining_date      bonus  total_comp  \\\n",
       "E1   Keshav         HR  1004000.0   2020-01-15    50000.0    550000.0   \n",
       "E2   Afroze    Finance  1204000.0   2019-03-10  7000000.0   7600000.0   \n",
       "E3     Nico         IT  1104000.0   2021-06-25    40000.0    590000.0   \n",
       "E4   Sravya    Finance   720000.0   2018-07-01    80000.0    800000.0   \n",
       "E5    Ethan         IT   550000.0   2022-02-14     1000.0    551000.0   \n",
       "E6    Fiona         HR   580000.0   2021-11-11    60000.0    640000.0   \n",
       "\n",
       "    high_earner  \n",
       "E1         True  \n",
       "E2         True  \n",
       "E3         True  \n",
       "E4         True  \n",
       "E5         True  \n",
       "E6         True  "
      ]
     },
     "execution_count": 140,
     "metadata": {},
     "output_type": "execute_result"
    }
   ],
   "source": [
    "df"
   ]
  },
  {
   "cell_type": "code",
   "execution_count": null,
   "id": "a5d961ef-0cf7-4f6a-9b87-f754e9065a0d",
   "metadata": {},
   "outputs": [],
   "source": []
  },
  {
   "cell_type": "code",
   "execution_count": null,
   "id": "4105c71d-37c9-4013-90b8-38ba4225c1c9",
   "metadata": {},
   "outputs": [],
   "source": []
  }
 ],
 "metadata": {
  "kernelspec": {
   "display_name": "Python 3 (ipykernel)",
   "language": "python",
   "name": "python3"
  },
  "language_info": {
   "codemirror_mode": {
    "name": "ipython",
    "version": 3
   },
   "file_extension": ".py",
   "mimetype": "text/x-python",
   "name": "python",
   "nbconvert_exporter": "python",
   "pygments_lexer": "ipython3",
   "version": "3.11.5"
  }
 },
 "nbformat": 4,
 "nbformat_minor": 5
}

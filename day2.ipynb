{
 "cells": [
  {
   "cell_type": "code",
   "execution_count": 1,
   "id": "a980d92c",
   "metadata": {},
   "outputs": [
    {
     "name": "stdout",
     "output_type": "stream",
     "text": [
      "HELLO, SARTHAK!\n",
      "hello, sarthak!\n"
     ]
    }
   ],
   "source": [
    "# Higher-order functions: functions that take functions as input or return functions\n",
    "def shout(text):\n",
    "    return text.upper()\n",
    "\n",
    "def whisper(text):\n",
    "    return text.lower()\n",
    "\n",
    "def greet(func):\n",
    "    greeting = func(\"Hello, sarthak!\")\n",
    "    return greeting\n",
    "\n",
    "print(greet(shout))\n",
    "print(greet(whisper))"
   ]
  },
  {
   "cell_type": "code",
   "execution_count": 2,
   "id": "e292a66f",
   "metadata": {},
   "outputs": [],
   "source": [
    "# Closures: inner function remembers outer variables\n",
    "def outer(msg):\n",
    "    def inner():\n",
    "        print(\"message is:\", msg)\n",
    "    return inner  "
   ]
  },
  {
   "cell_type": "code",
   "execution_count": 3,
   "id": "dd77b79c",
   "metadata": {},
   "outputs": [],
   "source": [
    "hello_func = outer(\"Hi there!\")"
   ]
  },
  {
   "cell_type": "code",
   "execution_count": 4,
   "id": "3ed54529",
   "metadata": {},
   "outputs": [
    {
     "name": "stdout",
     "output_type": "stream",
     "text": [
      "message is: Hi there!\n"
     ]
    }
   ],
   "source": [
    "hello_func()"
   ]
  },
  {
   "cell_type": "code",
   "execution_count": 5,
   "id": "f4d567d0",
   "metadata": {},
   "outputs": [],
   "source": [
    "# Decorators: wrap functions to add functionality\n",
    "def my_decorator(func):\n",
    "    def wrapper(*args, **kwargs):\n",
    "        print(\"Before the function runs...\")\n",
    "        result = func(*args, **kwargs)\n",
    "        print(\"After the function runs...\")\n",
    "        return result\n",
    "    return wrapper"
   ]
  },
  {
   "cell_type": "code",
   "execution_count": 6,
   "id": "565f6169",
   "metadata": {},
   "outputs": [],
   "source": [
    "@my_decorator\n",
    "def say_hello(name):\n",
    "    print(f\"Hello {name}!\")"
   ]
  },
  {
   "cell_type": "code",
   "execution_count": 7,
   "id": "42a7a196",
   "metadata": {},
   "outputs": [
    {
     "name": "stdout",
     "output_type": "stream",
     "text": [
      "Before the function runs...\n",
      "Hello Sarthak!\n",
      "After the function runs...\n"
     ]
    }
   ],
   "source": [
    "say_hello(\"Sarthak\")"
   ]
  },
  {
   "cell_type": "code",
   "execution_count": 8,
   "id": "69fcf5b3",
   "metadata": {},
   "outputs": [],
   "source": [
    "#timing decorator\n",
    "import time\n",
    "\n",
    "def timer(func):\n",
    "    def wrapper(*args, **kwargs):\n",
    "        start = time.time()\n",
    "        result = func(*args, **kwargs)\n",
    "        end = time.time()\n",
    "        print(f\"{func.__name__} took {end-start:.6f} seconds\")\n",
    "        return result\n",
    "    return wrapper"
   ]
  },
  {
   "cell_type": "code",
   "execution_count": 9,
   "id": "11963214",
   "metadata": {},
   "outputs": [],
   "source": [
    "@timer\n",
    "def compute_squares(n):\n",
    "    return [i**2 for i in range(n)]"
   ]
  },
  {
   "cell_type": "code",
   "execution_count": 10,
   "id": "6cb0ac5b",
   "metadata": {},
   "outputs": [
    {
     "name": "stdout",
     "output_type": "stream",
     "text": [
      "compute_squares took 0.000320 seconds\n"
     ]
    }
   ],
   "source": [
    "squares = compute_squares(10_000)"
   ]
  },
  {
   "cell_type": "code",
   "execution_count": 11,
   "id": "8cd4551b",
   "metadata": {},
   "outputs": [],
   "source": [
    "# the built-in decorators:\n",
    "from functools import lru_cache\n",
    "\n",
    "@lru_cache(maxsize=100)\n",
    "def fib(n):\n",
    "    if n < 2:\n",
    "        return n\n",
    "    return fib(n-1) + fib(n-2)"
   ]
  },
  {
   "cell_type": "code",
   "execution_count": 12,
   "id": "46d80ce4",
   "metadata": {},
   "outputs": [
    {
     "name": "stdout",
     "output_type": "stream",
     "text": [
      "[0, 1, 1, 2, 3, 5, 8, 13, 21, 34]\n"
     ]
    }
   ],
   "source": [
    "print([fib(i) for i in range(10)])"
   ]
  },
  {
   "cell_type": "code",
   "execution_count": 13,
   "id": "3697346a",
   "metadata": {},
   "outputs": [],
   "source": [
    "#yield and generator\n",
    "def simple_gen():\n",
    "    yield 1\n",
    "    yield 2\n",
    "    yield 3"
   ]
  },
  {
   "cell_type": "code",
   "execution_count": 14,
   "id": "d098f46c",
   "metadata": {},
   "outputs": [
    {
     "name": "stdout",
     "output_type": "stream",
     "text": [
      "1\n",
      "2\n",
      "3\n"
     ]
    }
   ],
   "source": [
    "gen = simple_gen()\n",
    "print(next(gen))\n",
    "print(next(gen))\n",
    "print(next(gen))"
   ]
  },
  {
   "cell_type": "code",
   "execution_count": 15,
   "id": "e2c3495e",
   "metadata": {},
   "outputs": [
    {
     "name": "stdout",
     "output_type": "stream",
     "text": [
      "<generator object simple_gen at 0x105079220>\n"
     ]
    }
   ],
   "source": [
    "print((gen))"
   ]
  },
  {
   "cell_type": "code",
   "execution_count": 16,
   "id": "6c4e49b5",
   "metadata": {},
   "outputs": [
    {
     "name": "stdout",
     "output_type": "stream",
     "text": [
      "<class 'generator'>\n"
     ]
    }
   ],
   "source": [
    "print(type(gen)) "
   ]
  },
  {
   "cell_type": "code",
   "execution_count": 17,
   "id": "ccddf7ac",
   "metadata": {},
   "outputs": [],
   "source": [
    "# Generator for large data (memory efficient)\n",
    "def squares(n):\n",
    "    for i in range(n):\n",
    "        yield i**2"
   ]
  },
  {
   "cell_type": "code",
   "execution_count": 18,
   "id": "66b8efb9",
   "metadata": {},
   "outputs": [],
   "source": [
    "sq_gen = squares(5)"
   ]
  },
  {
   "cell_type": "code",
   "execution_count": 19,
   "id": "51d885d9",
   "metadata": {},
   "outputs": [
    {
     "data": {
      "text/plain": [
       "<generator object squares at 0x104763100>"
      ]
     },
     "execution_count": 19,
     "metadata": {},
     "output_type": "execute_result"
    }
   ],
   "source": [
    "sq_gen"
   ]
  },
  {
   "cell_type": "code",
   "execution_count": 20,
   "id": "5646d18b",
   "metadata": {},
   "outputs": [
    {
     "name": "stdout",
     "output_type": "stream",
     "text": [
      "0\n",
      "1\n",
      "4\n",
      "9\n",
      "16\n"
     ]
    }
   ],
   "source": [
    "for val in sq_gen:\n",
    "    print(val)"
   ]
  },
  {
   "cell_type": "code",
   "execution_count": 21,
   "id": "0364fe28",
   "metadata": {},
   "outputs": [],
   "source": [
    "# infinite generator\n",
    "def countdown(start):\n",
    "    while start > 0:\n",
    "        yield start\n",
    "        start -= 1"
   ]
  },
  {
   "cell_type": "code",
   "execution_count": 22,
   "id": "c51daad6",
   "metadata": {},
   "outputs": [
    {
     "name": "stdout",
     "output_type": "stream",
     "text": [
      "5\n",
      "4\n",
      "3\n",
      "2\n",
      "1\n"
     ]
    }
   ],
   "source": [
    "for num in countdown(5):\n",
    "    print(num)\n"
   ]
  },
  {
   "cell_type": "code",
   "execution_count": 23,
   "id": "e1ada96f",
   "metadata": {},
   "outputs": [
    {
     "name": "stdout",
     "output_type": "stream",
     "text": [
      "<generator object <genexpr> at 0x1050fd150>\n"
     ]
    }
   ],
   "source": [
    "# Generator expressions (like list comps but lazy)\n",
    "nums = (i**2 for i in range(10))\n",
    "print(nums)   # generator obj"
   ]
  },
  {
   "cell_type": "code",
   "execution_count": 24,
   "id": "b6ca94a2",
   "metadata": {},
   "outputs": [
    {
     "name": "stdout",
     "output_type": "stream",
     "text": [
      "[0, 1, 4, 9, 16, 25, 36, 49, 64, 81]\n"
     ]
    }
   ],
   "source": [
    "print(list(nums))  # convert to list"
   ]
  },
  {
   "cell_type": "code",
   "execution_count": 25,
   "id": "4139aa31",
   "metadata": {},
   "outputs": [],
   "source": [
    "# Custom iterator class\n",
    "class EvenNumbers:\n",
    "    def __init__(self, limit):\n",
    "        self.limit = limit\n",
    "        self.num = 0\n",
    "    \n",
    "    def __iter__(self):\n",
    "        return self\n",
    "    \n",
    "    def __next__(self):\n",
    "        if self.num <= self.limit:\n",
    "            if self.num % 2 == 0:\n",
    "                val = self.num\n",
    "                self.num += 1\n",
    "                return val\n",
    "            else:\n",
    "                self.num += 1\n",
    "                return self.__next__()\n",
    "        else:\n",
    "            raise StopIteration"
   ]
  },
  {
   "cell_type": "code",
   "execution_count": 26,
   "id": "5a194391",
   "metadata": {},
   "outputs": [
    {
     "name": "stdout",
     "output_type": "stream",
     "text": [
      "0\n",
      "2\n",
      "4\n",
      "6\n",
      "8\n",
      "10\n"
     ]
    }
   ],
   "source": [
    "evens = EvenNumbers(10)\n",
    "for e in evens:\n",
    "    print(e)"
   ]
  },
  {
   "cell_type": "code",
   "execution_count": 27,
   "id": "32fe5361",
   "metadata": {},
   "outputs": [],
   "source": [
    "# Chaining generators (pipeline)\n",
    "def numbers():\n",
    "    for i in range(1, 11):\n",
    "        yield i\n",
    "\n",
    "def square(nums):\n",
    "    for n in nums:\n",
    "        yield n**2\n",
    "\n",
    "def even_only(nums):\n",
    "    for n in nums:\n",
    "        if n % 2 == 0:\n",
    "            yield n"
   ]
  },
  {
   "cell_type": "code",
   "execution_count": 28,
   "id": "f9315475",
   "metadata": {},
   "outputs": [
    {
     "name": "stdout",
     "output_type": "stream",
     "text": [
      "[4, 16, 36, 64, 100]\n"
     ]
    }
   ],
   "source": [
    "pipeline = even_only(square(numbers()))\n",
    "print(list(pipeline))\n"
   ]
  },
  {
   "cell_type": "code",
   "execution_count": null,
   "id": "2e70905c",
   "metadata": {},
   "outputs": [],
   "source": []
  }
 ],
 "metadata": {
  "kernelspec": {
   "display_name": "base",
   "language": "python",
   "name": "python3"
  },
  "language_info": {
   "codemirror_mode": {
    "name": "ipython",
    "version": 3
   },
   "file_extension": ".py",
   "mimetype": "text/x-python",
   "name": "python",
   "nbconvert_exporter": "python",
   "pygments_lexer": "ipython3",
   "version": "3.11.5"
  }
 },
 "nbformat": 4,
 "nbformat_minor": 5
}

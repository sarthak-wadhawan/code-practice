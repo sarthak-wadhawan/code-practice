{
 "cells": [
  {
   "cell_type": "code",
   "execution_count": 2,
   "id": "ce54b8db-8e53-45e7-a40a-25081a2aa95f",
   "metadata": {},
   "outputs": [],
   "source": [
    "import numpy as np\n",
    "import pandas as pd"
   ]
  },
  {
   "cell_type": "code",
   "execution_count": 3,
   "id": "e3ef9ddd-2696-46c3-8137-d29e56faf2a9",
   "metadata": {},
   "outputs": [],
   "source": [
    "df = pd.DataFrame({\n",
    "    \"employee\": [\"Keshav\", \"Afroze\", \"Nico\", \"Sravya\", \"Ethan\", \"Fiona\"],\n",
    "    \"department\": [\"HR\", \"Finance\", \"IT\", \"Finance\", \"IT\", \"HR\"],\n",
    "    \"salary\": [500000, 600000, np.nan, 720000, 550000, 580000],\n",
    "    \"joining_date\": pd.to_datetime([\n",
    "        \"2020-01-15\", \"2019-03-10\", \"2021-06-25\", \n",
    "        \"2018-07-01\", \"2022-02-14\", \"2021-11-11\"\n",
    "    ]),\n",
    "    \"bonus\": [50000, 7000000, 40000, 80000, np.nan, 60000]\n",
    "}, index=[\"E1\", \"E2\", \"E3\", \"E4\", \"E5\", \"E6\"])\n"
   ]
  },
  {
   "cell_type": "code",
   "execution_count": 4,
   "id": "3a085d6f-693c-4651-b528-a290a998baf4",
   "metadata": {},
   "outputs": [
    {
     "data": {
      "text/html": [
       "<div>\n",
       "<style scoped>\n",
       "    .dataframe tbody tr th:only-of-type {\n",
       "        vertical-align: middle;\n",
       "    }\n",
       "\n",
       "    .dataframe tbody tr th {\n",
       "        vertical-align: top;\n",
       "    }\n",
       "\n",
       "    .dataframe thead th {\n",
       "        text-align: right;\n",
       "    }\n",
       "</style>\n",
       "<table border=\"1\" class=\"dataframe\">\n",
       "  <thead>\n",
       "    <tr style=\"text-align: right;\">\n",
       "      <th></th>\n",
       "      <th>employee</th>\n",
       "      <th>department</th>\n",
       "      <th>salary</th>\n",
       "      <th>joining_date</th>\n",
       "      <th>bonus</th>\n",
       "    </tr>\n",
       "  </thead>\n",
       "  <tbody>\n",
       "    <tr>\n",
       "      <th>E1</th>\n",
       "      <td>Keshav</td>\n",
       "      <td>HR</td>\n",
       "      <td>500000.0</td>\n",
       "      <td>2020-01-15</td>\n",
       "      <td>50000.0</td>\n",
       "    </tr>\n",
       "    <tr>\n",
       "      <th>E2</th>\n",
       "      <td>Afroze</td>\n",
       "      <td>Finance</td>\n",
       "      <td>600000.0</td>\n",
       "      <td>2019-03-10</td>\n",
       "      <td>7000000.0</td>\n",
       "    </tr>\n",
       "    <tr>\n",
       "      <th>E3</th>\n",
       "      <td>Nico</td>\n",
       "      <td>IT</td>\n",
       "      <td>NaN</td>\n",
       "      <td>2021-06-25</td>\n",
       "      <td>40000.0</td>\n",
       "    </tr>\n",
       "    <tr>\n",
       "      <th>E4</th>\n",
       "      <td>Sravya</td>\n",
       "      <td>Finance</td>\n",
       "      <td>720000.0</td>\n",
       "      <td>2018-07-01</td>\n",
       "      <td>80000.0</td>\n",
       "    </tr>\n",
       "    <tr>\n",
       "      <th>E5</th>\n",
       "      <td>Ethan</td>\n",
       "      <td>IT</td>\n",
       "      <td>550000.0</td>\n",
       "      <td>2022-02-14</td>\n",
       "      <td>NaN</td>\n",
       "    </tr>\n",
       "    <tr>\n",
       "      <th>E6</th>\n",
       "      <td>Fiona</td>\n",
       "      <td>HR</td>\n",
       "      <td>580000.0</td>\n",
       "      <td>2021-11-11</td>\n",
       "      <td>60000.0</td>\n",
       "    </tr>\n",
       "  </tbody>\n",
       "</table>\n",
       "</div>"
      ],
      "text/plain": [
       "   employee department    salary joining_date      bonus\n",
       "E1   Keshav         HR  500000.0   2020-01-15    50000.0\n",
       "E2   Afroze    Finance  600000.0   2019-03-10  7000000.0\n",
       "E3     Nico         IT       NaN   2021-06-25    40000.0\n",
       "E4   Sravya    Finance  720000.0   2018-07-01    80000.0\n",
       "E5    Ethan         IT  550000.0   2022-02-14        NaN\n",
       "E6    Fiona         HR  580000.0   2021-11-11    60000.0"
      ]
     },
     "execution_count": 4,
     "metadata": {},
     "output_type": "execute_result"
    }
   ],
   "source": [
    "df"
   ]
  },
  {
   "cell_type": "code",
   "execution_count": 5,
   "id": "41dd573e-55f6-4a35-a8ca-3b3bbd978f12",
   "metadata": {},
   "outputs": [],
   "source": [
    "#zip"
   ]
  },
  {
   "cell_type": "code",
   "execution_count": 6,
   "id": "236cdc79-6db0-4af6-93c4-9f82bdfc0df2",
   "metadata": {},
   "outputs": [],
   "source": [
    "# Pair employee with salary\n",
    "pairs = list(zip(df.employee, df.salary))"
   ]
  },
  {
   "cell_type": "code",
   "execution_count": 7,
   "id": "3ecd2204-b3c6-4703-81cc-de84d22d4185",
   "metadata": {},
   "outputs": [
    {
     "data": {
      "text/plain": [
       "[('Keshav', 500000.0),\n",
       " ('Afroze', 600000.0),\n",
       " ('Nico', nan),\n",
       " ('Sravya', 720000.0),\n",
       " ('Ethan', 550000.0),\n",
       " ('Fiona', 580000.0)]"
      ]
     },
     "execution_count": 7,
     "metadata": {},
     "output_type": "execute_result"
    }
   ],
   "source": [
    "pairs"
   ]
  },
  {
   "cell_type": "code",
   "execution_count": 8,
   "id": "199e31ef-cfba-4a6e-ae05-bed41c58a523",
   "metadata": {},
   "outputs": [],
   "source": [
    "# Combine three columns together\n",
    "triplets = list(zip(df.employee, df.department, df.bonus))"
   ]
  },
  {
   "cell_type": "code",
   "execution_count": 9,
   "id": "2d95566f-d77c-4a98-90dd-772d974f76c4",
   "metadata": {},
   "outputs": [
    {
     "data": {
      "text/plain": [
       "[('Keshav', 'HR', 50000.0),\n",
       " ('Afroze', 'Finance', 7000000.0),\n",
       " ('Nico', 'IT', 40000.0),\n",
       " ('Sravya', 'Finance', 80000.0),\n",
       " ('Ethan', 'IT', nan),\n",
       " ('Fiona', 'HR', 60000.0)]"
      ]
     },
     "execution_count": 9,
     "metadata": {},
     "output_type": "execute_result"
    }
   ],
   "source": [
    "triplets"
   ]
  },
  {
   "cell_type": "code",
   "execution_count": 10,
   "id": "f044ed63-430e-4142-ac0c-ed37ac7f8401",
   "metadata": {},
   "outputs": [],
   "source": [
    "# Unzip (split into separate tuples again)\n",
    "names, departments = zip(*zip(df.employee, df.department))"
   ]
  },
  {
   "cell_type": "code",
   "execution_count": 11,
   "id": "83e4d123-65d9-45ed-ba2a-0b9290493e34",
   "metadata": {},
   "outputs": [
    {
     "data": {
      "text/plain": [
       "('Keshav', 'Afroze', 'Nico', 'Sravya', 'Ethan', 'Fiona')"
      ]
     },
     "execution_count": 11,
     "metadata": {},
     "output_type": "execute_result"
    }
   ],
   "source": [
    "names"
   ]
  },
  {
   "cell_type": "code",
   "execution_count": 12,
   "id": "5939e03a-9e77-4263-872b-4dd16ed0a30f",
   "metadata": {},
   "outputs": [
    {
     "data": {
      "text/plain": [
       "('HR', 'Finance', 'IT', 'Finance', 'IT', 'HR')"
      ]
     },
     "execution_count": 12,
     "metadata": {},
     "output_type": "execute_result"
    }
   ],
   "source": [
    "departments"
   ]
  },
  {
   "cell_type": "code",
   "execution_count": 13,
   "id": "1a233a7a-1f0f-4733-9520-f3dff62e9161",
   "metadata": {},
   "outputs": [],
   "source": [
    "# Use zip with list comprehension to create \"compensation\" dict\n",
    "comp_dict = {emp: sal + (bonus if pd.notna(bonus) else 0)\n",
    "             for emp, sal, bonus in zip(df.employee, df.salary, df.bonus)}"
   ]
  },
  {
   "cell_type": "code",
   "execution_count": 14,
   "id": "fe83042f-d3f0-4ca0-8c48-51f1a6ca0735",
   "metadata": {},
   "outputs": [
    {
     "data": {
      "text/plain": [
       "{'Keshav': 550000.0,\n",
       " 'Afroze': 7600000.0,\n",
       " 'Nico': nan,\n",
       " 'Sravya': 800000.0,\n",
       " 'Ethan': 550000.0,\n",
       " 'Fiona': 640000.0}"
      ]
     },
     "execution_count": 14,
     "metadata": {},
     "output_type": "execute_result"
    }
   ],
   "source": [
    "comp_dict"
   ]
  },
  {
   "cell_type": "code",
   "execution_count": 15,
   "id": "ac1c65b9-cd51-442a-9f72-be3cfb9e47f5",
   "metadata": {},
   "outputs": [],
   "source": [
    "## 1. Create a dictionary of employee -> department\n"
   ]
  },
  {
   "cell_type": "code",
   "execution_count": 16,
   "id": "e59ba86d-ff66-4732-b168-b40bb5494466",
   "metadata": {},
   "outputs": [],
   "source": [
    "emp_dept = dict(zip(df.employee, df.department))"
   ]
  },
  {
   "cell_type": "code",
   "execution_count": 17,
   "id": "12711a90-4964-41bf-bb0a-cf530950e8b6",
   "metadata": {},
   "outputs": [
    {
     "data": {
      "text/plain": [
       "{'Keshav': 'HR',\n",
       " 'Afroze': 'Finance',\n",
       " 'Nico': 'IT',\n",
       " 'Sravya': 'Finance',\n",
       " 'Ethan': 'IT',\n",
       " 'Fiona': 'HR'}"
      ]
     },
     "execution_count": 17,
     "metadata": {},
     "output_type": "execute_result"
    }
   ],
   "source": [
    "emp_dept"
   ]
  },
  {
   "cell_type": "code",
   "execution_count": 18,
   "id": "ee56fc5a-7885-4106-8fb5-db934ef7e929",
   "metadata": {},
   "outputs": [],
   "source": [
    "# 2. Combine employee, salary, and department into formatted strings\n"
   ]
  },
  {
   "cell_type": "code",
   "execution_count": 19,
   "id": "ed27aae3-6ec2-4714-8acd-f12abf090e12",
   "metadata": {},
   "outputs": [],
   "source": [
    "info_list = [f\"{emp} from {dept} earns {sal}\" \n",
    "             for emp, sal, dept in zip(df.employee, df.salary, df.department)]"
   ]
  },
  {
   "cell_type": "code",
   "execution_count": 20,
   "id": "ffc61493-1378-4f84-b47b-59870f088c6f",
   "metadata": {},
   "outputs": [],
   "source": [
    "# 3. Handle unequal length lists with zip (truncate to shortest)"
   ]
  },
  {
   "cell_type": "code",
   "execution_count": 21,
   "id": "0737fae6-dc08-4e52-a427-471cfd2385b7",
   "metadata": {},
   "outputs": [],
   "source": [
    "extra = [\"A\", \"B\"]"
   ]
  },
  {
   "cell_type": "code",
   "execution_count": 22,
   "id": "a26a19af-79e3-4536-aac4-e74f750e0b20",
   "metadata": {},
   "outputs": [],
   "source": [
    "truncated = list(zip(df.employee, extra))"
   ]
  },
  {
   "cell_type": "code",
   "execution_count": 23,
   "id": "b2a8c466-760b-42b3-953a-c3b1d90a1012",
   "metadata": {},
   "outputs": [
    {
     "data": {
      "text/plain": [
       "[('Keshav', 'A'), ('Afroze', 'B')]"
      ]
     },
     "execution_count": 23,
     "metadata": {},
     "output_type": "execute_result"
    }
   ],
   "source": [
    "truncated"
   ]
  },
  {
   "cell_type": "code",
   "execution_count": 24,
   "id": "c82be86b-9d03-4a11-90df-2eec102513df",
   "metadata": {},
   "outputs": [],
   "source": [
    "# 4. Add two numeric columns together with zip (salary + bonus)"
   ]
  },
  {
   "cell_type": "code",
   "execution_count": 25,
   "id": "46c96721-e121-40ae-8eee-2b961ddbc5ae",
   "metadata": {},
   "outputs": [],
   "source": [
    "total_comp = [sal + (bonus if pd.notna(bonus) else 0) \n",
    "              for sal, bonus in zip(df.salary, df.bonus)]"
   ]
  },
  {
   "cell_type": "code",
   "execution_count": 26,
   "id": "440ef8d2-170f-4ba9-aaea-b5d05a28f839",
   "metadata": {},
   "outputs": [
    {
     "data": {
      "text/plain": [
       "[550000.0, 7600000.0, nan, 800000.0, 550000.0, 640000.0]"
      ]
     },
     "execution_count": 26,
     "metadata": {},
     "output_type": "execute_result"
    }
   ],
   "source": [
    "total_comp"
   ]
  },
  {
   "cell_type": "code",
   "execution_count": null,
   "id": "6fb6b038-da15-4f14-8dd5-063ff55e18db",
   "metadata": {},
   "outputs": [],
   "source": []
  },
  {
   "cell_type": "code",
   "execution_count": 27,
   "id": "a6dc48ab-1f31-482e-b928-8516632000c7",
   "metadata": {},
   "outputs": [],
   "source": [
    "# 5. Use zip to transpose: rows -> columns"
   ]
  },
  {
   "cell_type": "code",
   "execution_count": 28,
   "id": "780b0334-f622-4af4-8902-fe783482a749",
   "metadata": {},
   "outputs": [],
   "source": [
    "transposed = list(zip(df.employee, df.department, df.salary))"
   ]
  },
  {
   "cell_type": "code",
   "execution_count": 29,
   "id": "729b6663-8903-4817-9325-b1768aeff7cf",
   "metadata": {},
   "outputs": [
    {
     "data": {
      "text/plain": [
       "[('Keshav', 'HR', 500000.0),\n",
       " ('Afroze', 'Finance', 600000.0),\n",
       " ('Nico', 'IT', nan),\n",
       " ('Sravya', 'Finance', 720000.0),\n",
       " ('Ethan', 'IT', 550000.0),\n",
       " ('Fiona', 'HR', 580000.0)]"
      ]
     },
     "execution_count": 29,
     "metadata": {},
     "output_type": "execute_result"
    }
   ],
   "source": [
    "transposed"
   ]
  },
  {
   "cell_type": "code",
   "execution_count": 30,
   "id": "7ad89297-dfe9-46fb-82e4-874f3e732ec8",
   "metadata": {},
   "outputs": [],
   "source": [
    "# enumerate"
   ]
  },
  {
   "cell_type": "code",
   "execution_count": 31,
   "id": "b69a6543-51ce-401c-9ace-763a54ac7501",
   "metadata": {},
   "outputs": [],
   "source": [
    "# Get index + employee name"
   ]
  },
  {
   "cell_type": "code",
   "execution_count": 32,
   "id": "462d4614-f4f5-47f6-9a8d-0395f27c5f5d",
   "metadata": {
    "scrolled": true
   },
   "outputs": [
    {
     "name": "stdout",
     "output_type": "stream",
     "text": [
      "0 Keshav\n",
      "1 Afroze\n",
      "2 Nico\n",
      "3 Sravya\n",
      "4 Ethan\n",
      "5 Fiona\n"
     ]
    }
   ],
   "source": [
    "for idx, name in enumerate(df.employee):\n",
    "    print(idx, name)"
   ]
  },
  {
   "cell_type": "code",
   "execution_count": 33,
   "id": "77c264f6-cee0-45c3-80c1-d33d7a3b1314",
   "metadata": {},
   "outputs": [],
   "source": [
    "# Enumerate with a custom start"
   ]
  },
  {
   "cell_type": "code",
   "execution_count": 34,
   "id": "48af2a0f-bd23-4959-893f-3f66edba2e49",
   "metadata": {},
   "outputs": [
    {
     "name": "stdout",
     "output_type": "stream",
     "text": [
      "101 HR\n",
      "102 Finance\n",
      "103 IT\n",
      "104 Finance\n",
      "105 IT\n",
      "106 HR\n"
     ]
    }
   ],
   "source": [
    "for idx, dep in enumerate(df.department, start=101):\n",
    "    print(idx, dep)\n"
   ]
  },
  {
   "cell_type": "code",
   "execution_count": 35,
   "id": "8531f039-c397-4caf-b713-e51772c21433",
   "metadata": {},
   "outputs": [],
   "source": [
    "# Combine enumerate with zip\n"
   ]
  },
  {
   "cell_type": "code",
   "execution_count": 36,
   "id": "85e31e21-8a88-49c5-9242-f95935382bb1",
   "metadata": {},
   "outputs": [
    {
     "name": "stdout",
     "output_type": "stream",
     "text": [
      "0: Keshav earns 500000.0\n",
      "1: Afroze earns 600000.0\n",
      "2: Nico earns nan\n",
      "3: Sravya earns 720000.0\n",
      "4: Ethan earns 550000.0\n",
      "5: Fiona earns 580000.0\n"
     ]
    }
   ],
   "source": [
    "for idx, (emp, sal) in enumerate(zip(df.employee, df.salary)):\n",
    "    print(f\"{idx}: {emp} earns {sal}\")"
   ]
  },
  {
   "cell_type": "code",
   "execution_count": 37,
   "id": "fcfc23cb-eae9-4fd3-bf05-6c3180cc9467",
   "metadata": {},
   "outputs": [],
   "source": [
    "# Filter high salaries using enumerate\n",
    "high_salaries = [ (i, emp, sal) \n",
    "                  for i, (emp, sal) in enumerate(zip(df.employee, df.salary)) \n",
    "                  if pd.notna(sal) and sal > 600000 ]\n"
   ]
  },
  {
   "cell_type": "code",
   "execution_count": 38,
   "id": "61069aa2-2c18-4eeb-9b31-5f4188f7ecf9",
   "metadata": {},
   "outputs": [
    {
     "data": {
      "text/plain": [
       "[(3, 'Sravya', 720000.0)]"
      ]
     },
     "execution_count": 38,
     "metadata": {},
     "output_type": "execute_result"
    }
   ],
   "source": [
    "high_salaries"
   ]
  },
  {
   "cell_type": "code",
   "execution_count": 39,
   "id": "f0248727-360e-415a-9334-3956851e0a00",
   "metadata": {},
   "outputs": [
    {
     "name": "stdout",
     "output_type": "stream",
     "text": [
      "1. Keshav\n",
      "2. Afroze\n",
      "3. Nico\n",
      "4. Sravya\n",
      "5. Ethan\n",
      "6. Fiona\n"
     ]
    }
   ],
   "source": [
    "#Enumerate employees with index starting at 1\n",
    "for i, emp in enumerate(df.employee, start=1):\n",
    "    print(f\"{i}. {emp}\")\n"
   ]
  },
  {
   "cell_type": "code",
   "execution_count": 40,
   "id": "903f7340-c396-4cc4-9ecb-91a9c7808648",
   "metadata": {},
   "outputs": [],
   "source": [
    "# Create a list of employees with index tags\n",
    "indexed_employees = [f\"#{i}-{emp}\" for i, emp in enumerate(df.employee)]"
   ]
  },
  {
   "cell_type": "code",
   "execution_count": 41,
   "id": "a1e62ac8-d079-4ad9-bbe8-56d7c2cb0707",
   "metadata": {},
   "outputs": [
    {
     "data": {
      "text/plain": [
       "['#0-Keshav', '#1-Afroze', '#2-Nico', '#3-Sravya', '#4-Ethan', '#5-Fiona']"
      ]
     },
     "execution_count": 41,
     "metadata": {},
     "output_type": "execute_result"
    }
   ],
   "source": [
    "indexed_employees"
   ]
  },
  {
   "cell_type": "code",
   "execution_count": 42,
   "id": "d400bb05-3330-4ceb-9019-77a612e37ca7",
   "metadata": {},
   "outputs": [],
   "source": [
    "# Get employees with even index only\n",
    "even_indexed = [emp for i, emp in enumerate(df.employee) if i % 2 == 0]"
   ]
  },
  {
   "cell_type": "code",
   "execution_count": 43,
   "id": "4f5521df-77b7-4d00-8380-474643f6f1a8",
   "metadata": {},
   "outputs": [
    {
     "data": {
      "text/plain": [
       "['Keshav', 'Nico', 'Ethan']"
      ]
     },
     "execution_count": 43,
     "metadata": {},
     "output_type": "execute_result"
    }
   ],
   "source": [
    "even_indexed"
   ]
  },
  {
   "cell_type": "code",
   "execution_count": 44,
   "id": "dcadca4b-fe8e-41c2-b6a0-99bf15ca1c81",
   "metadata": {},
   "outputs": [],
   "source": [
    "# Combine enumerate with zip: index + employee + salary"
   ]
  },
  {
   "cell_type": "code",
   "execution_count": 45,
   "id": "729ed7e3-5f9f-4291-be5b-e00e265bbcad",
   "metadata": {},
   "outputs": [
    {
     "name": "stdout",
     "output_type": "stream",
     "text": [
      "Row 0: Keshav has salary 500000.0\n",
      "Row 1: Afroze has salary 600000.0\n",
      "Row 2: Nico has salary nan\n",
      "Row 3: Sravya has salary 720000.0\n",
      "Row 4: Ethan has salary 550000.0\n",
      "Row 5: Fiona has salary 580000.0\n"
     ]
    }
   ],
   "source": [
    "for i, (emp, sal) in enumerate(zip(df.employee, df.salary)):\n",
    "    print(f\"Row {i}: {emp} has salary {sal}\")\n"
   ]
  },
  {
   "cell_type": "code",
   "execution_count": 46,
   "id": "dd26a762-e1ba-483b-bc1f-82b75ec0bd63",
   "metadata": {},
   "outputs": [],
   "source": [
    "# Track changes: flag employees whose salary decreased compared to previous row\n"
   ]
  },
  {
   "cell_type": "code",
   "execution_count": 47,
   "id": "d6cf3bd9-2d6f-447e-93a8-a03a97417a6c",
   "metadata": {},
   "outputs": [
    {
     "name": "stderr",
     "output_type": "stream",
     "text": [
      "/var/folders/mz/hrb5glzs1gs45_7v9l98gmtr0000gn/T/ipykernel_20263/2478594333.py:3: FutureWarning: Series.__getitem__ treating keys as positions is deprecated. In a future version, integer keys will always be treated as labels (consistent with DataFrame behavior). To access a value by position, use `ser.iloc[pos]`\n",
      "  if i > 0 and pd.notna(sal) and pd.notna(df.salary[i-1]) and sal < df.salary[i-1]]\n"
     ]
    }
   ],
   "source": [
    "salary_changes = [(i, emp, sal) \n",
    "                  for i, (emp, sal) in enumerate(zip(df.employee, df.salary)) \n",
    "                  if i > 0 and pd.notna(sal) and pd.notna(df.salary[i-1]) and sal < df.salary[i-1]]"
   ]
  },
  {
   "cell_type": "code",
   "execution_count": 48,
   "id": "eee03d7e-ddb7-46e5-8f44-2ed4f1efb560",
   "metadata": {},
   "outputs": [
    {
     "data": {
      "text/plain": [
       "[(4, 'Ethan', 550000.0)]"
      ]
     },
     "execution_count": 48,
     "metadata": {},
     "output_type": "execute_result"
    }
   ],
   "source": [
    "salary_changes"
   ]
  },
  {
   "cell_type": "code",
   "execution_count": null,
   "id": "a41f5113-2ade-4fe2-99de-295b8192efd2",
   "metadata": {},
   "outputs": [],
   "source": []
  }
 ],
 "metadata": {
  "kernelspec": {
   "display_name": "Python 3 (ipykernel)",
   "language": "python",
   "name": "python3"
  },
  "language_info": {
   "codemirror_mode": {
    "name": "ipython",
    "version": 3
   },
   "file_extension": ".py",
   "mimetype": "text/x-python",
   "name": "python",
   "nbconvert_exporter": "python",
   "pygments_lexer": "ipython3",
   "version": "3.11.5"
  }
 },
 "nbformat": 4,
 "nbformat_minor": 5
}

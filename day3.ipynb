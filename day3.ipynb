{
 "cells": [
  {
   "cell_type": "markdown",
   "id": "cfa28496-dd21-4fdc-b8ca-ce67ee3bb742",
   "metadata": {},
   "source": [
    "### flip"
   ]
  },
  {
   "cell_type": "code",
   "execution_count": 3,
   "id": "8e7b607f-2a1e-46f3-a871-289a19fb7bd3",
   "metadata": {},
   "outputs": [],
   "source": [
    "import numpy as np\n",
    "# flip reverses the order of elements along an axis\n",
    "arr = np.arange(1, 10).reshape(3, 3)"
   ]
  },
  {
   "cell_type": "code",
   "execution_count": 4,
   "id": "cf5ea60a-58a9-4b10-967e-bb7cb1b2d858",
   "metadata": {},
   "outputs": [
    {
     "name": "stdout",
     "output_type": "stream",
     "text": [
      "Original array:\n",
      " [[1 2 3]\n",
      " [4 5 6]\n",
      " [7 8 9]]\n"
     ]
    }
   ],
   "source": [
    "print(\"Original array:\\n\", arr)"
   ]
  },
  {
   "cell_type": "code",
   "execution_count": 5,
   "id": "32abf5a7-8ae7-4a1d-8384-f3355d7ed674",
   "metadata": {},
   "outputs": [
    {
     "name": "stdout",
     "output_type": "stream",
     "text": [
      "Flip vertically (axis=0):\n",
      " [[7 8 9]\n",
      " [4 5 6]\n",
      " [1 2 3]]\n"
     ]
    }
   ],
   "source": [
    "print(\"Flip vertically (axis=0):\\n\", np.flip(arr, axis=0))"
   ]
  },
  {
   "cell_type": "code",
   "execution_count": 6,
   "id": "db8fc319-8d85-4d66-9b41-52d1fcdfe79d",
   "metadata": {},
   "outputs": [
    {
     "name": "stdout",
     "output_type": "stream",
     "text": [
      "Flip horizontally (axis=1):\n",
      " [[3 2 1]\n",
      " [6 5 4]\n",
      " [9 8 7]]\n"
     ]
    }
   ],
   "source": [
    "print(\"Flip horizontally (axis=1):\\n\", np.flip(arr, axis=1))"
   ]
  },
  {
   "cell_type": "code",
   "execution_count": 7,
   "id": "3139af0a-79a1-405b-88f6-c4702eb1e24b",
   "metadata": {},
   "outputs": [
    {
     "name": "stdout",
     "output_type": "stream",
     "text": [
      "Flip all axes:\n",
      " [[9 8 7]\n",
      " [6 5 4]\n",
      " [3 2 1]]\n"
     ]
    }
   ],
   "source": [
    "print(\"Flip all axes:\\n\", np.flip(arr))"
   ]
  },
  {
   "cell_type": "code",
   "execution_count": 8,
   "id": "313b4227-d4f9-4105-af8c-ef5f1d013d36",
   "metadata": {},
   "outputs": [],
   "source": [
    "# reversing a 1D array\n",
    "one_d = np.array([1, 2, 3, 4, 5])"
   ]
  },
  {
   "cell_type": "code",
   "execution_count": 9,
   "id": "4189c27e-e343-41ef-a52b-88a190d3b509",
   "metadata": {},
   "outputs": [
    {
     "name": "stdout",
     "output_type": "stream",
     "text": [
      "Flip 1D:\n",
      " [5 4 3 2 1]\n"
     ]
    }
   ],
   "source": [
    "print(\"Flip 1D:\\n\", np.flip(one_d))"
   ]
  },
  {
   "cell_type": "markdown",
   "id": "f62bdfe1-32f4-46c7-a349-b63694a7be5e",
   "metadata": {},
   "source": [
    "### argsort"
   ]
  },
  {
   "cell_type": "code",
   "execution_count": 11,
   "id": "5dedc6ec-3312-4e60-abd4-0332bc6284f1",
   "metadata": {},
   "outputs": [],
   "source": [
    "# argsort returns the indices that would sort an array\n",
    "x = np.array([10, 2, 5, 8, 1])"
   ]
  },
  {
   "cell_type": "code",
   "execution_count": 12,
   "id": "dedbe414-3c4c-4aa9-8ca3-60b687b015d3",
   "metadata": {},
   "outputs": [
    {
     "name": "stdout",
     "output_type": "stream",
     "text": [
      "Original: [10  2  5  8  1]\n"
     ]
    }
   ],
   "source": [
    "print(\"Original:\", x)"
   ]
  },
  {
   "cell_type": "code",
   "execution_count": 13,
   "id": "a021a6da-7b84-4303-b4f0-b239b32091e9",
   "metadata": {},
   "outputs": [],
   "source": [
    "indices = np.argsort(x)"
   ]
  },
  {
   "cell_type": "code",
   "execution_count": 14,
   "id": "e7bbecc2-26d3-46b8-b7dd-ef66444d0f91",
   "metadata": {},
   "outputs": [
    {
     "name": "stdout",
     "output_type": "stream",
     "text": [
      "Indices that would sort x: [4 1 2 3 0]\n"
     ]
    }
   ],
   "source": [
    "print(\"Indices that would sort x:\", indices)"
   ]
  },
  {
   "cell_type": "code",
   "execution_count": 15,
   "id": "1f12fb97-f266-4a73-acee-b1b7df32f7a6",
   "metadata": {},
   "outputs": [
    {
     "name": "stdout",
     "output_type": "stream",
     "text": [
      "Sorted x: [ 1  2  5  8 10]\n"
     ]
    }
   ],
   "source": [
    "# Use indices to sort x\n",
    "print(\"Sorted x:\", x[indices])"
   ]
  },
  {
   "cell_type": "code",
   "execution_count": 16,
   "id": "1b0a39c9-6d94-4a26-96ab-baa1d6f2e5e2",
   "metadata": {},
   "outputs": [],
   "source": [
    "# argsort on 2D array\n",
    "arr2 = np.array([[3, 1, 2],\n",
    "                 [6, 4, 5]])"
   ]
  },
  {
   "cell_type": "code",
   "execution_count": 17,
   "id": "1262a4dd-aa95-4d4a-a131-d36838fd0f4d",
   "metadata": {},
   "outputs": [
    {
     "name": "stdout",
     "output_type": "stream",
     "text": [
      "Argsort along axis=1:\n",
      " [[1 2 0]\n",
      " [1 2 0]]\n"
     ]
    }
   ],
   "source": [
    "print(\"Argsort along axis=1:\\n\", np.argsort(arr2, axis=1))"
   ]
  },
  {
   "cell_type": "code",
   "execution_count": 18,
   "id": "42b55d81-6afa-442f-a22c-90daa76784e8",
   "metadata": {},
   "outputs": [
    {
     "name": "stdout",
     "output_type": "stream",
     "text": [
      "Sorted rows:\n",
      " [[1 2 3]\n",
      " [4 5 6]]\n"
     ]
    }
   ],
   "source": [
    "print(\"Sorted rows:\\n\", np.sort(arr2, axis=1))"
   ]
  },
  {
   "cell_type": "markdown",
   "id": "6be73b45-0fae-4390-a231-1f7e7b199d55",
   "metadata": {},
   "source": [
    "### any"
   ]
  },
  {
   "cell_type": "code",
   "execution_count": 20,
   "id": "546837a1-84a7-4c42-9b44-35e9537fd461",
   "metadata": {},
   "outputs": [],
   "source": [
    "# any checks if at least one element is True\n",
    "bool_arr = np.array([False, False, True, False])"
   ]
  },
  {
   "cell_type": "code",
   "execution_count": 21,
   "id": "5d639c21-fa90-4b52-be26-292334d86a2a",
   "metadata": {},
   "outputs": [
    {
     "name": "stdout",
     "output_type": "stream",
     "text": [
      "Any True? -> True\n"
     ]
    }
   ],
   "source": [
    "print(\"Any True? ->\", np.any(bool_arr))"
   ]
  },
  {
   "cell_type": "code",
   "execution_count": 22,
   "id": "0605efc0-0c98-485f-a0cb-eae8d1a97008",
   "metadata": {},
   "outputs": [],
   "source": [
    "# With condition\n",
    "arr = np.array([0, 0, 3, 0])"
   ]
  },
  {
   "cell_type": "code",
   "execution_count": 23,
   "id": "d1fb85e4-4db6-4abb-a90d-5e815b367cf8",
   "metadata": {},
   "outputs": [
    {
     "name": "stdout",
     "output_type": "stream",
     "text": [
      "Any non-zero? -> True\n"
     ]
    }
   ],
   "source": [
    "print(\"Any non-zero? ->\", np.any(arr))"
   ]
  },
  {
   "cell_type": "code",
   "execution_count": 24,
   "id": "0059f7f7-72d6-49ad-9bc1-34e6443b8fc3",
   "metadata": {},
   "outputs": [],
   "source": [
    "# On 2D arrays\n",
    "mat = np.array([[0, 0, 0],\n",
    "                [0, 1, 0]])"
   ]
  },
  {
   "cell_type": "code",
   "execution_count": 25,
   "id": "098c83d9-194c-4ef5-a24b-974d4482430e",
   "metadata": {},
   "outputs": [
    {
     "name": "stdout",
     "output_type": "stream",
     "text": [
      "Any element True? -> True\n"
     ]
    }
   ],
   "source": [
    "print(\"Any element True? ->\", np.any(mat))"
   ]
  },
  {
   "cell_type": "code",
   "execution_count": 26,
   "id": "b71e9791-1d53-4b18-a3f0-c41b55da73d5",
   "metadata": {},
   "outputs": [
    {
     "name": "stdout",
     "output_type": "stream",
     "text": [
      "Any True along rows? -> [False  True]\n"
     ]
    }
   ],
   "source": [
    "print(\"Any True along rows? ->\", np.any(mat, axis=1))"
   ]
  },
  {
   "cell_type": "code",
   "execution_count": 27,
   "id": "bc50682a-cfe3-4b4d-9e28-7b45e60aeac0",
   "metadata": {},
   "outputs": [
    {
     "name": "stdout",
     "output_type": "stream",
     "text": [
      "Any True along cols? -> [False  True False]\n"
     ]
    }
   ],
   "source": [
    "print(\"Any True along cols? ->\", np.any(mat, axis=0))"
   ]
  },
  {
   "cell_type": "code",
   "execution_count": 28,
   "id": "b9c9ae2c-e6d6-4649-8f8b-450dc232c04e",
   "metadata": {},
   "outputs": [],
   "source": [
    "# Combine with conditions\n",
    "arr = np.array([10, 20, 30, 40])"
   ]
  },
  {
   "cell_type": "code",
   "execution_count": 29,
   "id": "933d8d23-18b5-4488-b8eb-1c589f9e50e8",
   "metadata": {},
   "outputs": [
    {
     "name": "stdout",
     "output_type": "stream",
     "text": [
      "Any greater than 25? -> True\n"
     ]
    }
   ],
   "source": [
    "print(\"Any greater than 25? ->\", np.any(arr > 25))"
   ]
  },
  {
   "cell_type": "code",
   "execution_count": null,
   "id": "d69e3fef-3cdf-4498-a808-a235bd20cfe4",
   "metadata": {},
   "outputs": [],
   "source": []
  }
 ],
 "metadata": {
  "kernelspec": {
   "display_name": "Python [conda env:base] *",
   "language": "python",
   "name": "conda-base-py"
  },
  "language_info": {
   "codemirror_mode": {
    "name": "ipython",
    "version": 3
   },
   "file_extension": ".py",
   "mimetype": "text/x-python",
   "name": "python",
   "nbconvert_exporter": "python",
   "pygments_lexer": "ipython3",
   "version": "3.11.5"
  }
 },
 "nbformat": 4,
 "nbformat_minor": 5
}

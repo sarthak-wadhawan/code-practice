{
 "cells": [
  {
   "cell_type": "code",
   "execution_count": 2,
   "id": "00e689b9-1f7d-4f9b-8429-5415bba47d31",
   "metadata": {},
   "outputs": [
    {
     "name": "stdout",
     "output_type": "stream",
     "text": [
      "   employee department    salary joining_date      bonus\n",
      "E1   Keshav         HR  500000.0   2020-01-15    50000.0\n",
      "E2   Afroze    Finance  600000.0   2019-03-10  7000000.0\n",
      "E3     Nico         IT       NaN   2021-06-25    40000.0\n",
      "E4   Sravya    Finance  720000.0   2018-07-01    80000.0\n",
      "E5    Ethan         IT  550000.0   2022-02-14        NaN\n",
      "E6    Fiona         HR  580000.0   2021-11-11    60000.0\n"
     ]
    }
   ],
   "source": [
    "import numpy as np\n",
    "import pandas as pd\n",
    "from functools import reduce\n",
    "\n",
    "df = pd.DataFrame({\n",
    "    \"employee\": [\"Keshav\", \"Afroze\", \"Nico\", \"Sravya\", \"Ethan\", \"Fiona\"],\n",
    "    \"department\": [\"HR\", \"Finance\", \"IT\", \"Finance\", \"IT\", \"HR\"],\n",
    "    \"salary\": [500000, 600000, np.nan, 720000, 550000, 580000],\n",
    "    \"joining_date\": pd.to_datetime([\n",
    "        \"2020-01-15\", \"2019-03-10\", \"2021-06-25\", \n",
    "        \"2018-07-01\", \"2022-02-14\", \"2021-11-11\"\n",
    "    ]),\n",
    "    \"bonus\": [50000, 7000000, 40000, 80000, np.nan, 60000]\n",
    "}, index=[\"E1\", \"E2\", \"E3\", \"E4\", \"E5\", \"E6\"])\n",
    "\n",
    "print(df)"
   ]
  },
  {
   "cell_type": "code",
   "execution_count": 3,
   "id": "c5901590-35a9-422b-9edb-8f9edef87dbf",
   "metadata": {},
   "outputs": [
    {
     "data": {
      "text/html": [
       "<div>\n",
       "<style scoped>\n",
       "    .dataframe tbody tr th:only-of-type {\n",
       "        vertical-align: middle;\n",
       "    }\n",
       "\n",
       "    .dataframe tbody tr th {\n",
       "        vertical-align: top;\n",
       "    }\n",
       "\n",
       "    .dataframe thead th {\n",
       "        text-align: right;\n",
       "    }\n",
       "</style>\n",
       "<table border=\"1\" class=\"dataframe\">\n",
       "  <thead>\n",
       "    <tr style=\"text-align: right;\">\n",
       "      <th></th>\n",
       "      <th>employee</th>\n",
       "      <th>department</th>\n",
       "      <th>salary</th>\n",
       "      <th>joining_date</th>\n",
       "      <th>bonus</th>\n",
       "    </tr>\n",
       "  </thead>\n",
       "  <tbody>\n",
       "    <tr>\n",
       "      <th>E1</th>\n",
       "      <td>Keshav</td>\n",
       "      <td>HR</td>\n",
       "      <td>500000.0</td>\n",
       "      <td>2020-01-15</td>\n",
       "      <td>50000.0</td>\n",
       "    </tr>\n",
       "    <tr>\n",
       "      <th>E2</th>\n",
       "      <td>Afroze</td>\n",
       "      <td>Finance</td>\n",
       "      <td>600000.0</td>\n",
       "      <td>2019-03-10</td>\n",
       "      <td>7000000.0</td>\n",
       "    </tr>\n",
       "    <tr>\n",
       "      <th>E3</th>\n",
       "      <td>Nico</td>\n",
       "      <td>IT</td>\n",
       "      <td>NaN</td>\n",
       "      <td>2021-06-25</td>\n",
       "      <td>40000.0</td>\n",
       "    </tr>\n",
       "    <tr>\n",
       "      <th>E4</th>\n",
       "      <td>Sravya</td>\n",
       "      <td>Finance</td>\n",
       "      <td>720000.0</td>\n",
       "      <td>2018-07-01</td>\n",
       "      <td>80000.0</td>\n",
       "    </tr>\n",
       "    <tr>\n",
       "      <th>E5</th>\n",
       "      <td>Ethan</td>\n",
       "      <td>IT</td>\n",
       "      <td>550000.0</td>\n",
       "      <td>2022-02-14</td>\n",
       "      <td>NaN</td>\n",
       "    </tr>\n",
       "    <tr>\n",
       "      <th>E6</th>\n",
       "      <td>Fiona</td>\n",
       "      <td>HR</td>\n",
       "      <td>580000.0</td>\n",
       "      <td>2021-11-11</td>\n",
       "      <td>60000.0</td>\n",
       "    </tr>\n",
       "  </tbody>\n",
       "</table>\n",
       "</div>"
      ],
      "text/plain": [
       "   employee department    salary joining_date      bonus\n",
       "E1   Keshav         HR  500000.0   2020-01-15    50000.0\n",
       "E2   Afroze    Finance  600000.0   2019-03-10  7000000.0\n",
       "E3     Nico         IT       NaN   2021-06-25    40000.0\n",
       "E4   Sravya    Finance  720000.0   2018-07-01    80000.0\n",
       "E5    Ethan         IT  550000.0   2022-02-14        NaN\n",
       "E6    Fiona         HR  580000.0   2021-11-11    60000.0"
      ]
     },
     "execution_count": 3,
     "metadata": {},
     "output_type": "execute_result"
    }
   ],
   "source": [
    "df"
   ]
  },
  {
   "cell_type": "code",
   "execution_count": 4,
   "id": "825e8e65-5df0-4a0e-b622-0fafe701dc37",
   "metadata": {},
   "outputs": [],
   "source": [
    "# Add a 10% raise to all salaries (handling NaN safely)\n",
    "def my_func(col):\n",
    "    if pd.notna(col):\n",
    "        col = col * 1.10\n",
    "    return col"
   ]
  },
  {
   "cell_type": "code",
   "execution_count": 5,
   "id": "c1d3b48c-4f58-4b33-9fc3-4a9d309c5a30",
   "metadata": {},
   "outputs": [],
   "source": [
    "salaries_with_raise = list(map(my_func, df.bonus))"
   ]
  },
  {
   "cell_type": "code",
   "execution_count": 6,
   "id": "200d9827-ef43-4615-a982-efe9407a0dd7",
   "metadata": {},
   "outputs": [
    {
     "data": {
      "text/plain": [
       "[55000.00000000001, 7700000.000000001, 44000.0, 88000.0, nan, 66000.0]"
      ]
     },
     "execution_count": 6,
     "metadata": {},
     "output_type": "execute_result"
    }
   ],
   "source": [
    "salaries_with_raise"
   ]
  },
  {
   "cell_type": "code",
   "execution_count": 7,
   "id": "d95bb705-080a-4140-aaa5-99cc98079ccb",
   "metadata": {},
   "outputs": [],
   "source": [
    "#map() by itself returns a lazy iterator, thats why we need to use list here"
   ]
  },
  {
   "cell_type": "code",
   "execution_count": 8,
   "id": "a9b84cd2-e324-468d-bbf7-d703fab9a258",
   "metadata": {},
   "outputs": [],
   "source": [
    "#eg\n",
    "newlist = map(my_func, df.bonus)"
   ]
  },
  {
   "cell_type": "code",
   "execution_count": 9,
   "id": "c72e5995-43ae-42fe-a919-35e642ab7ceb",
   "metadata": {},
   "outputs": [
    {
     "data": {
      "text/plain": [
       "<map at 0x104904f10>"
      ]
     },
     "execution_count": 9,
     "metadata": {},
     "output_type": "execute_result"
    }
   ],
   "source": [
    "newlist"
   ]
  },
  {
   "cell_type": "code",
   "execution_count": 10,
   "id": "c4b045c2-cd30-4ed5-a80d-2f8d77689be5",
   "metadata": {},
   "outputs": [
    {
     "name": "stdout",
     "output_type": "stream",
     "text": [
      "<map object at 0x104904f10>\n"
     ]
    }
   ],
   "source": [
    "print(newlist)"
   ]
  },
  {
   "cell_type": "code",
   "execution_count": 11,
   "id": "d2b5da49-10dc-4ee5-a040-6493af5c2941",
   "metadata": {},
   "outputs": [],
   "source": [
    "#therefore we needed a list to iterate and not just see a map object"
   ]
  },
  {
   "cell_type": "code",
   "execution_count": 12,
   "id": "cd5d9120-78c5-411e-a344-8b9c8bc089ba",
   "metadata": {},
   "outputs": [],
   "source": [
    "#also when we use it pandas we get a list normally because we use it with a pandas series, howver when we use it without a series or a df\n",
    "# we need a list"
   ]
  },
  {
   "cell_type": "code",
   "execution_count": 24,
   "id": "48757eae-011c-4276-be0a-041ebdae622f",
   "metadata": {},
   "outputs": [],
   "source": [
    "# reducing salary by 10% but using a lmbda function now"
   ]
  },
  {
   "cell_type": "code",
   "execution_count": 26,
   "id": "5569d96d-f20f-446d-8b0c-eab1b87082a6",
   "metadata": {},
   "outputs": [],
   "source": [
    "reduction = df.salary.map(lambda x: x//1.1 if pd.notna(x) else x)"
   ]
  },
  {
   "cell_type": "code",
   "execution_count": 28,
   "id": "b74bbeb0-fc42-4229-baf1-26936f5d6f97",
   "metadata": {},
   "outputs": [
    {
     "data": {
      "text/plain": [
       "E1    454545.0\n",
       "E2    545454.0\n",
       "E3         NaN\n",
       "E4    654545.0\n",
       "E5    499999.0\n",
       "E6    527272.0\n",
       "Name: salary, dtype: float64"
      ]
     },
     "execution_count": 28,
     "metadata": {},
     "output_type": "execute_result"
    }
   ],
   "source": [
    "reduction"
   ]
  },
  {
   "cell_type": "code",
   "execution_count": 30,
   "id": "64443910-b593-429a-846c-20898e6d9701",
   "metadata": {},
   "outputs": [],
   "source": [
    "# got a series object instead of a map obj because of pandas"
   ]
  },
  {
   "cell_type": "code",
   "execution_count": 32,
   "id": "8e25a7f3-9e8c-4ffa-b472-236d64f5865b",
   "metadata": {},
   "outputs": [],
   "source": [
    "# capitalize all department names"
   ]
  },
  {
   "cell_type": "code",
   "execution_count": 34,
   "id": "f2c8c8a5-ab73-468b-b506-2d7def87d6db",
   "metadata": {},
   "outputs": [],
   "source": [
    "letter = \"this is a sample\""
   ]
  },
  {
   "cell_type": "code",
   "execution_count": 36,
   "id": "bdb6315f-4cd4-49e0-b38f-173335a24f16",
   "metadata": {},
   "outputs": [
    {
     "data": {
      "text/plain": [
       "'THIS IS A SAMPLE'"
      ]
     },
     "execution_count": 36,
     "metadata": {},
     "output_type": "execute_result"
    }
   ],
   "source": [
    "letter.upper()"
   ]
  },
  {
   "cell_type": "code",
   "execution_count": null,
   "id": "3f3472e4-ab9a-483c-aa52-7805a4e3ec75",
   "metadata": {},
   "outputs": [],
   "source": []
  },
  {
   "cell_type": "code",
   "execution_count": 39,
   "id": "60d6f527-be4d-4a89-a1c0-897c4fedc95d",
   "metadata": {},
   "outputs": [],
   "source": [
    "cap = df.department.map(lambda x: x.upper())"
   ]
  },
  {
   "cell_type": "code",
   "execution_count": 41,
   "id": "36ca0f8b-8cc3-420e-97ba-1d01ad39eda7",
   "metadata": {},
   "outputs": [
    {
     "data": {
      "text/plain": [
       "E1         HR\n",
       "E2    FINANCE\n",
       "E3         IT\n",
       "E4    FINANCE\n",
       "E5         IT\n",
       "E6         HR\n",
       "Name: department, dtype: object"
      ]
     },
     "execution_count": 41,
     "metadata": {},
     "output_type": "execute_result"
    }
   ],
   "source": [
    "cap"
   ]
  },
  {
   "cell_type": "code",
   "execution_count": 43,
   "id": "3399389e-b70a-4020-81da-b81be1ca3863",
   "metadata": {},
   "outputs": [
    {
     "data": {
      "text/html": [
       "<div>\n",
       "<style scoped>\n",
       "    .dataframe tbody tr th:only-of-type {\n",
       "        vertical-align: middle;\n",
       "    }\n",
       "\n",
       "    .dataframe tbody tr th {\n",
       "        vertical-align: top;\n",
       "    }\n",
       "\n",
       "    .dataframe thead th {\n",
       "        text-align: right;\n",
       "    }\n",
       "</style>\n",
       "<table border=\"1\" class=\"dataframe\">\n",
       "  <thead>\n",
       "    <tr style=\"text-align: right;\">\n",
       "      <th></th>\n",
       "      <th>employee</th>\n",
       "      <th>department</th>\n",
       "      <th>salary</th>\n",
       "      <th>joining_date</th>\n",
       "      <th>bonus</th>\n",
       "    </tr>\n",
       "  </thead>\n",
       "  <tbody>\n",
       "    <tr>\n",
       "      <th>E1</th>\n",
       "      <td>Keshav</td>\n",
       "      <td>HR</td>\n",
       "      <td>500000.0</td>\n",
       "      <td>2020-01-15</td>\n",
       "      <td>50000.0</td>\n",
       "    </tr>\n",
       "    <tr>\n",
       "      <th>E2</th>\n",
       "      <td>Afroze</td>\n",
       "      <td>Finance</td>\n",
       "      <td>600000.0</td>\n",
       "      <td>2019-03-10</td>\n",
       "      <td>7000000.0</td>\n",
       "    </tr>\n",
       "    <tr>\n",
       "      <th>E3</th>\n",
       "      <td>Nico</td>\n",
       "      <td>IT</td>\n",
       "      <td>NaN</td>\n",
       "      <td>2021-06-25</td>\n",
       "      <td>40000.0</td>\n",
       "    </tr>\n",
       "    <tr>\n",
       "      <th>E4</th>\n",
       "      <td>Sravya</td>\n",
       "      <td>Finance</td>\n",
       "      <td>720000.0</td>\n",
       "      <td>2018-07-01</td>\n",
       "      <td>80000.0</td>\n",
       "    </tr>\n",
       "    <tr>\n",
       "      <th>E5</th>\n",
       "      <td>Ethan</td>\n",
       "      <td>IT</td>\n",
       "      <td>550000.0</td>\n",
       "      <td>2022-02-14</td>\n",
       "      <td>NaN</td>\n",
       "    </tr>\n",
       "    <tr>\n",
       "      <th>E6</th>\n",
       "      <td>Fiona</td>\n",
       "      <td>HR</td>\n",
       "      <td>580000.0</td>\n",
       "      <td>2021-11-11</td>\n",
       "      <td>60000.0</td>\n",
       "    </tr>\n",
       "  </tbody>\n",
       "</table>\n",
       "</div>"
      ],
      "text/plain": [
       "   employee department    salary joining_date      bonus\n",
       "E1   Keshav         HR  500000.0   2020-01-15    50000.0\n",
       "E2   Afroze    Finance  600000.0   2019-03-10  7000000.0\n",
       "E3     Nico         IT       NaN   2021-06-25    40000.0\n",
       "E4   Sravya    Finance  720000.0   2018-07-01    80000.0\n",
       "E5    Ethan         IT  550000.0   2022-02-14        NaN\n",
       "E6    Fiona         HR  580000.0   2021-11-11    60000.0"
      ]
     },
     "execution_count": 43,
     "metadata": {},
     "output_type": "execute_result"
    }
   ],
   "source": [
    "df"
   ]
  },
  {
   "cell_type": "code",
   "execution_count": 45,
   "id": "c28a7b21-7232-45e1-a5e0-101b66599768",
   "metadata": {},
   "outputs": [],
   "source": [
    "df.department = df.department.map(lambda x: x.upper())"
   ]
  },
  {
   "cell_type": "code",
   "execution_count": 47,
   "id": "e8f1e58a-eb0c-4179-9190-dcc24d6c2453",
   "metadata": {},
   "outputs": [
    {
     "data": {
      "text/html": [
       "<div>\n",
       "<style scoped>\n",
       "    .dataframe tbody tr th:only-of-type {\n",
       "        vertical-align: middle;\n",
       "    }\n",
       "\n",
       "    .dataframe tbody tr th {\n",
       "        vertical-align: top;\n",
       "    }\n",
       "\n",
       "    .dataframe thead th {\n",
       "        text-align: right;\n",
       "    }\n",
       "</style>\n",
       "<table border=\"1\" class=\"dataframe\">\n",
       "  <thead>\n",
       "    <tr style=\"text-align: right;\">\n",
       "      <th></th>\n",
       "      <th>employee</th>\n",
       "      <th>department</th>\n",
       "      <th>salary</th>\n",
       "      <th>joining_date</th>\n",
       "      <th>bonus</th>\n",
       "    </tr>\n",
       "  </thead>\n",
       "  <tbody>\n",
       "    <tr>\n",
       "      <th>E1</th>\n",
       "      <td>Keshav</td>\n",
       "      <td>HR</td>\n",
       "      <td>500000.0</td>\n",
       "      <td>2020-01-15</td>\n",
       "      <td>50000.0</td>\n",
       "    </tr>\n",
       "    <tr>\n",
       "      <th>E2</th>\n",
       "      <td>Afroze</td>\n",
       "      <td>FINANCE</td>\n",
       "      <td>600000.0</td>\n",
       "      <td>2019-03-10</td>\n",
       "      <td>7000000.0</td>\n",
       "    </tr>\n",
       "    <tr>\n",
       "      <th>E3</th>\n",
       "      <td>Nico</td>\n",
       "      <td>IT</td>\n",
       "      <td>NaN</td>\n",
       "      <td>2021-06-25</td>\n",
       "      <td>40000.0</td>\n",
       "    </tr>\n",
       "    <tr>\n",
       "      <th>E4</th>\n",
       "      <td>Sravya</td>\n",
       "      <td>FINANCE</td>\n",
       "      <td>720000.0</td>\n",
       "      <td>2018-07-01</td>\n",
       "      <td>80000.0</td>\n",
       "    </tr>\n",
       "    <tr>\n",
       "      <th>E5</th>\n",
       "      <td>Ethan</td>\n",
       "      <td>IT</td>\n",
       "      <td>550000.0</td>\n",
       "      <td>2022-02-14</td>\n",
       "      <td>NaN</td>\n",
       "    </tr>\n",
       "    <tr>\n",
       "      <th>E6</th>\n",
       "      <td>Fiona</td>\n",
       "      <td>HR</td>\n",
       "      <td>580000.0</td>\n",
       "      <td>2021-11-11</td>\n",
       "      <td>60000.0</td>\n",
       "    </tr>\n",
       "  </tbody>\n",
       "</table>\n",
       "</div>"
      ],
      "text/plain": [
       "   employee department    salary joining_date      bonus\n",
       "E1   Keshav         HR  500000.0   2020-01-15    50000.0\n",
       "E2   Afroze    FINANCE  600000.0   2019-03-10  7000000.0\n",
       "E3     Nico         IT       NaN   2021-06-25    40000.0\n",
       "E4   Sravya    FINANCE  720000.0   2018-07-01    80000.0\n",
       "E5    Ethan         IT  550000.0   2022-02-14        NaN\n",
       "E6    Fiona         HR  580000.0   2021-11-11    60000.0"
      ]
     },
     "execution_count": 47,
     "metadata": {},
     "output_type": "execute_result"
    }
   ],
   "source": [
    "df"
   ]
  },
  {
   "cell_type": "code",
   "execution_count": 49,
   "id": "1d3f201a-58e8-423a-9f5e-c2b831ec90c8",
   "metadata": {},
   "outputs": [],
   "source": [
    "# Check if salary is above 600000 (return True/False)"
   ]
  },
  {
   "cell_type": "code",
   "execution_count": 51,
   "id": "131479fa-3543-4c6e-984e-21fe610548be",
   "metadata": {},
   "outputs": [],
   "source": [
    "sal_check = df.salary.map(lambda x: x )"
   ]
  },
  {
   "cell_type": "code",
   "execution_count": 53,
   "id": "42cb347c-7a76-4435-b3b7-c4d00d49ad47",
   "metadata": {},
   "outputs": [
    {
     "data": {
      "text/plain": [
       "E1    500000.0\n",
       "E2    600000.0\n",
       "E3         NaN\n",
       "E4    720000.0\n",
       "E5    550000.0\n",
       "E6    580000.0\n",
       "Name: salary, dtype: float64"
      ]
     },
     "execution_count": 53,
     "metadata": {},
     "output_type": "execute_result"
    }
   ],
   "source": [
    "sal_check"
   ]
  },
  {
   "cell_type": "code",
   "execution_count": 55,
   "id": "0ffd6cd6-2b15-41b1-b93f-4a8f7755aceb",
   "metadata": {},
   "outputs": [],
   "source": [
    "sal_check = df.salary.map(lambda x: True if x>600000 else False )"
   ]
  },
  {
   "cell_type": "code",
   "execution_count": 57,
   "id": "8bd14e78-ef09-4e97-a1ce-57b3c61c976e",
   "metadata": {},
   "outputs": [
    {
     "data": {
      "text/plain": [
       "E1    False\n",
       "E2    False\n",
       "E3    False\n",
       "E4     True\n",
       "E5    False\n",
       "E6    False\n",
       "Name: salary, dtype: bool"
      ]
     },
     "execution_count": 57,
     "metadata": {},
     "output_type": "execute_result"
    }
   ],
   "source": [
    "sal_check"
   ]
  },
  {
   "cell_type": "code",
   "execution_count": 59,
   "id": "89708acd-60b9-41d3-b0ae-3534d92b0a51",
   "metadata": {},
   "outputs": [],
   "source": [
    "# Convert joining_date to just the year"
   ]
  },
  {
   "cell_type": "code",
   "execution_count": 64,
   "id": "1490e379-2ff6-4429-9a45-20b42d91aa42",
   "metadata": {},
   "outputs": [],
   "source": [
    "year_only = df.joining_date.map(lambda x: x.year if pd.notna(x) else None)"
   ]
  },
  {
   "cell_type": "code",
   "execution_count": 66,
   "id": "107dc7ad-7c14-42de-a2f1-f7aee657873b",
   "metadata": {},
   "outputs": [
    {
     "data": {
      "text/plain": [
       "E1    2020\n",
       "E2    2019\n",
       "E3    2021\n",
       "E4    2018\n",
       "E5    2022\n",
       "E6    2021\n",
       "Name: joining_date, dtype: int64"
      ]
     },
     "execution_count": 66,
     "metadata": {},
     "output_type": "execute_result"
    }
   ],
   "source": [
    "year_only"
   ]
  },
  {
   "cell_type": "code",
   "execution_count": 68,
   "id": "45bb693a-984b-407a-85be-ebe5e9bd6672",
   "metadata": {},
   "outputs": [],
   "source": [
    "df.joining_date = year_only"
   ]
  },
  {
   "cell_type": "code",
   "execution_count": 70,
   "id": "9be4b789-9fe5-4703-9cf9-4108e4e13231",
   "metadata": {},
   "outputs": [
    {
     "data": {
      "text/html": [
       "<div>\n",
       "<style scoped>\n",
       "    .dataframe tbody tr th:only-of-type {\n",
       "        vertical-align: middle;\n",
       "    }\n",
       "\n",
       "    .dataframe tbody tr th {\n",
       "        vertical-align: top;\n",
       "    }\n",
       "\n",
       "    .dataframe thead th {\n",
       "        text-align: right;\n",
       "    }\n",
       "</style>\n",
       "<table border=\"1\" class=\"dataframe\">\n",
       "  <thead>\n",
       "    <tr style=\"text-align: right;\">\n",
       "      <th></th>\n",
       "      <th>employee</th>\n",
       "      <th>department</th>\n",
       "      <th>salary</th>\n",
       "      <th>joining_date</th>\n",
       "      <th>bonus</th>\n",
       "    </tr>\n",
       "  </thead>\n",
       "  <tbody>\n",
       "    <tr>\n",
       "      <th>E1</th>\n",
       "      <td>Keshav</td>\n",
       "      <td>HR</td>\n",
       "      <td>500000.0</td>\n",
       "      <td>2020</td>\n",
       "      <td>50000.0</td>\n",
       "    </tr>\n",
       "    <tr>\n",
       "      <th>E2</th>\n",
       "      <td>Afroze</td>\n",
       "      <td>FINANCE</td>\n",
       "      <td>600000.0</td>\n",
       "      <td>2019</td>\n",
       "      <td>7000000.0</td>\n",
       "    </tr>\n",
       "    <tr>\n",
       "      <th>E3</th>\n",
       "      <td>Nico</td>\n",
       "      <td>IT</td>\n",
       "      <td>NaN</td>\n",
       "      <td>2021</td>\n",
       "      <td>40000.0</td>\n",
       "    </tr>\n",
       "    <tr>\n",
       "      <th>E4</th>\n",
       "      <td>Sravya</td>\n",
       "      <td>FINANCE</td>\n",
       "      <td>720000.0</td>\n",
       "      <td>2018</td>\n",
       "      <td>80000.0</td>\n",
       "    </tr>\n",
       "    <tr>\n",
       "      <th>E5</th>\n",
       "      <td>Ethan</td>\n",
       "      <td>IT</td>\n",
       "      <td>550000.0</td>\n",
       "      <td>2022</td>\n",
       "      <td>NaN</td>\n",
       "    </tr>\n",
       "    <tr>\n",
       "      <th>E6</th>\n",
       "      <td>Fiona</td>\n",
       "      <td>HR</td>\n",
       "      <td>580000.0</td>\n",
       "      <td>2021</td>\n",
       "      <td>60000.0</td>\n",
       "    </tr>\n",
       "  </tbody>\n",
       "</table>\n",
       "</div>"
      ],
      "text/plain": [
       "   employee department    salary  joining_date      bonus\n",
       "E1   Keshav         HR  500000.0          2020    50000.0\n",
       "E2   Afroze    FINANCE  600000.0          2019  7000000.0\n",
       "E3     Nico         IT       NaN          2021    40000.0\n",
       "E4   Sravya    FINANCE  720000.0          2018    80000.0\n",
       "E5    Ethan         IT  550000.0          2022        NaN\n",
       "E6    Fiona         HR  580000.0          2021    60000.0"
      ]
     },
     "execution_count": 70,
     "metadata": {},
     "output_type": "execute_result"
    }
   ],
   "source": [
    "df"
   ]
  },
  {
   "cell_type": "code",
   "execution_count": 74,
   "id": "9a94ebcd-8e93-4b03-bda9-a141ea57d087",
   "metadata": {},
   "outputs": [],
   "source": [
    "# Replace missing bonuses with 0\n",
    "df.bonus = df.bonus.map(lambda x: 0 if pd.isna(x) else x)"
   ]
  },
  {
   "cell_type": "code",
   "execution_count": 76,
   "id": "870e5b7e-8b0a-4a9c-9e5c-77823de2951f",
   "metadata": {},
   "outputs": [
    {
     "data": {
      "text/html": [
       "<div>\n",
       "<style scoped>\n",
       "    .dataframe tbody tr th:only-of-type {\n",
       "        vertical-align: middle;\n",
       "    }\n",
       "\n",
       "    .dataframe tbody tr th {\n",
       "        vertical-align: top;\n",
       "    }\n",
       "\n",
       "    .dataframe thead th {\n",
       "        text-align: right;\n",
       "    }\n",
       "</style>\n",
       "<table border=\"1\" class=\"dataframe\">\n",
       "  <thead>\n",
       "    <tr style=\"text-align: right;\">\n",
       "      <th></th>\n",
       "      <th>employee</th>\n",
       "      <th>department</th>\n",
       "      <th>salary</th>\n",
       "      <th>joining_date</th>\n",
       "      <th>bonus</th>\n",
       "    </tr>\n",
       "  </thead>\n",
       "  <tbody>\n",
       "    <tr>\n",
       "      <th>E1</th>\n",
       "      <td>Keshav</td>\n",
       "      <td>HR</td>\n",
       "      <td>500000.0</td>\n",
       "      <td>2020</td>\n",
       "      <td>50000.0</td>\n",
       "    </tr>\n",
       "    <tr>\n",
       "      <th>E2</th>\n",
       "      <td>Afroze</td>\n",
       "      <td>FINANCE</td>\n",
       "      <td>600000.0</td>\n",
       "      <td>2019</td>\n",
       "      <td>7000000.0</td>\n",
       "    </tr>\n",
       "    <tr>\n",
       "      <th>E3</th>\n",
       "      <td>Nico</td>\n",
       "      <td>IT</td>\n",
       "      <td>NaN</td>\n",
       "      <td>2021</td>\n",
       "      <td>40000.0</td>\n",
       "    </tr>\n",
       "    <tr>\n",
       "      <th>E4</th>\n",
       "      <td>Sravya</td>\n",
       "      <td>FINANCE</td>\n",
       "      <td>720000.0</td>\n",
       "      <td>2018</td>\n",
       "      <td>80000.0</td>\n",
       "    </tr>\n",
       "    <tr>\n",
       "      <th>E5</th>\n",
       "      <td>Ethan</td>\n",
       "      <td>IT</td>\n",
       "      <td>550000.0</td>\n",
       "      <td>2022</td>\n",
       "      <td>0.0</td>\n",
       "    </tr>\n",
       "    <tr>\n",
       "      <th>E6</th>\n",
       "      <td>Fiona</td>\n",
       "      <td>HR</td>\n",
       "      <td>580000.0</td>\n",
       "      <td>2021</td>\n",
       "      <td>60000.0</td>\n",
       "    </tr>\n",
       "  </tbody>\n",
       "</table>\n",
       "</div>"
      ],
      "text/plain": [
       "   employee department    salary  joining_date      bonus\n",
       "E1   Keshav         HR  500000.0          2020    50000.0\n",
       "E2   Afroze    FINANCE  600000.0          2019  7000000.0\n",
       "E3     Nico         IT       NaN          2021    40000.0\n",
       "E4   Sravya    FINANCE  720000.0          2018    80000.0\n",
       "E5    Ethan         IT  550000.0          2022        0.0\n",
       "E6    Fiona         HR  580000.0          2021    60000.0"
      ]
     },
     "execution_count": 76,
     "metadata": {},
     "output_type": "execute_result"
    }
   ],
   "source": [
    "df"
   ]
  },
  {
   "cell_type": "code",
   "execution_count": 78,
   "id": "5597042e-4280-4314-8d8e-22badc909cf8",
   "metadata": {},
   "outputs": [],
   "source": [
    "# Return length of each employee name"
   ]
  },
  {
   "cell_type": "code",
   "execution_count": 84,
   "id": "f98ecf62-f943-41c5-8b8b-009d15683479",
   "metadata": {},
   "outputs": [],
   "source": [
    "df['length'] = df.employee.map(lambda x: len(x))"
   ]
  },
  {
   "cell_type": "code",
   "execution_count": 86,
   "id": "ce6f0d58-0e77-4f46-8423-9d8a54876c85",
   "metadata": {},
   "outputs": [
    {
     "data": {
      "text/html": [
       "<div>\n",
       "<style scoped>\n",
       "    .dataframe tbody tr th:only-of-type {\n",
       "        vertical-align: middle;\n",
       "    }\n",
       "\n",
       "    .dataframe tbody tr th {\n",
       "        vertical-align: top;\n",
       "    }\n",
       "\n",
       "    .dataframe thead th {\n",
       "        text-align: right;\n",
       "    }\n",
       "</style>\n",
       "<table border=\"1\" class=\"dataframe\">\n",
       "  <thead>\n",
       "    <tr style=\"text-align: right;\">\n",
       "      <th></th>\n",
       "      <th>employee</th>\n",
       "      <th>department</th>\n",
       "      <th>salary</th>\n",
       "      <th>joining_date</th>\n",
       "      <th>bonus</th>\n",
       "      <th>length</th>\n",
       "    </tr>\n",
       "  </thead>\n",
       "  <tbody>\n",
       "    <tr>\n",
       "      <th>E1</th>\n",
       "      <td>Keshav</td>\n",
       "      <td>HR</td>\n",
       "      <td>500000.0</td>\n",
       "      <td>2020</td>\n",
       "      <td>50000.0</td>\n",
       "      <td>6</td>\n",
       "    </tr>\n",
       "    <tr>\n",
       "      <th>E2</th>\n",
       "      <td>Afroze</td>\n",
       "      <td>FINANCE</td>\n",
       "      <td>600000.0</td>\n",
       "      <td>2019</td>\n",
       "      <td>7000000.0</td>\n",
       "      <td>6</td>\n",
       "    </tr>\n",
       "    <tr>\n",
       "      <th>E3</th>\n",
       "      <td>Nico</td>\n",
       "      <td>IT</td>\n",
       "      <td>NaN</td>\n",
       "      <td>2021</td>\n",
       "      <td>40000.0</td>\n",
       "      <td>4</td>\n",
       "    </tr>\n",
       "    <tr>\n",
       "      <th>E4</th>\n",
       "      <td>Sravya</td>\n",
       "      <td>FINANCE</td>\n",
       "      <td>720000.0</td>\n",
       "      <td>2018</td>\n",
       "      <td>80000.0</td>\n",
       "      <td>6</td>\n",
       "    </tr>\n",
       "    <tr>\n",
       "      <th>E5</th>\n",
       "      <td>Ethan</td>\n",
       "      <td>IT</td>\n",
       "      <td>550000.0</td>\n",
       "      <td>2022</td>\n",
       "      <td>0.0</td>\n",
       "      <td>5</td>\n",
       "    </tr>\n",
       "    <tr>\n",
       "      <th>E6</th>\n",
       "      <td>Fiona</td>\n",
       "      <td>HR</td>\n",
       "      <td>580000.0</td>\n",
       "      <td>2021</td>\n",
       "      <td>60000.0</td>\n",
       "      <td>5</td>\n",
       "    </tr>\n",
       "  </tbody>\n",
       "</table>\n",
       "</div>"
      ],
      "text/plain": [
       "   employee department    salary  joining_date      bonus  length\n",
       "E1   Keshav         HR  500000.0          2020    50000.0       6\n",
       "E2   Afroze    FINANCE  600000.0          2019  7000000.0       6\n",
       "E3     Nico         IT       NaN          2021    40000.0       4\n",
       "E4   Sravya    FINANCE  720000.0          2018    80000.0       6\n",
       "E5    Ethan         IT  550000.0          2022        0.0       5\n",
       "E6    Fiona         HR  580000.0          2021    60000.0       5"
      ]
     },
     "execution_count": 86,
     "metadata": {},
     "output_type": "execute_result"
    }
   ],
   "source": [
    "df"
   ]
  },
  {
   "cell_type": "code",
   "execution_count": 88,
   "id": "a629fef4-2004-4e15-bdd1-109a9ad5eb08",
   "metadata": {},
   "outputs": [],
   "source": [
    "# Create a new Series that tags each row as \"High Bonus\" if bonus > 50000, else \"Normal\""
   ]
  },
  {
   "cell_type": "code",
   "execution_count": 90,
   "id": "3a0edec3-cf5f-40aa-bd7d-ab8d05265a7f",
   "metadata": {},
   "outputs": [],
   "source": [
    "df['high_or_not'] = df.bonus.map(lambda x: \"high bonus\" if x> 50000 else \"normal\")"
   ]
  },
  {
   "cell_type": "code",
   "execution_count": 92,
   "id": "aa015bc7-41b5-4d8a-8c86-eb3a12e4679f",
   "metadata": {},
   "outputs": [
    {
     "data": {
      "text/html": [
       "<div>\n",
       "<style scoped>\n",
       "    .dataframe tbody tr th:only-of-type {\n",
       "        vertical-align: middle;\n",
       "    }\n",
       "\n",
       "    .dataframe tbody tr th {\n",
       "        vertical-align: top;\n",
       "    }\n",
       "\n",
       "    .dataframe thead th {\n",
       "        text-align: right;\n",
       "    }\n",
       "</style>\n",
       "<table border=\"1\" class=\"dataframe\">\n",
       "  <thead>\n",
       "    <tr style=\"text-align: right;\">\n",
       "      <th></th>\n",
       "      <th>employee</th>\n",
       "      <th>department</th>\n",
       "      <th>salary</th>\n",
       "      <th>joining_date</th>\n",
       "      <th>bonus</th>\n",
       "      <th>length</th>\n",
       "      <th>high_or_not</th>\n",
       "    </tr>\n",
       "  </thead>\n",
       "  <tbody>\n",
       "    <tr>\n",
       "      <th>E1</th>\n",
       "      <td>Keshav</td>\n",
       "      <td>HR</td>\n",
       "      <td>500000.0</td>\n",
       "      <td>2020</td>\n",
       "      <td>50000.0</td>\n",
       "      <td>6</td>\n",
       "      <td>normal</td>\n",
       "    </tr>\n",
       "    <tr>\n",
       "      <th>E2</th>\n",
       "      <td>Afroze</td>\n",
       "      <td>FINANCE</td>\n",
       "      <td>600000.0</td>\n",
       "      <td>2019</td>\n",
       "      <td>7000000.0</td>\n",
       "      <td>6</td>\n",
       "      <td>high bonus</td>\n",
       "    </tr>\n",
       "    <tr>\n",
       "      <th>E3</th>\n",
       "      <td>Nico</td>\n",
       "      <td>IT</td>\n",
       "      <td>NaN</td>\n",
       "      <td>2021</td>\n",
       "      <td>40000.0</td>\n",
       "      <td>4</td>\n",
       "      <td>normal</td>\n",
       "    </tr>\n",
       "    <tr>\n",
       "      <th>E4</th>\n",
       "      <td>Sravya</td>\n",
       "      <td>FINANCE</td>\n",
       "      <td>720000.0</td>\n",
       "      <td>2018</td>\n",
       "      <td>80000.0</td>\n",
       "      <td>6</td>\n",
       "      <td>high bonus</td>\n",
       "    </tr>\n",
       "    <tr>\n",
       "      <th>E5</th>\n",
       "      <td>Ethan</td>\n",
       "      <td>IT</td>\n",
       "      <td>550000.0</td>\n",
       "      <td>2022</td>\n",
       "      <td>0.0</td>\n",
       "      <td>5</td>\n",
       "      <td>normal</td>\n",
       "    </tr>\n",
       "    <tr>\n",
       "      <th>E6</th>\n",
       "      <td>Fiona</td>\n",
       "      <td>HR</td>\n",
       "      <td>580000.0</td>\n",
       "      <td>2021</td>\n",
       "      <td>60000.0</td>\n",
       "      <td>5</td>\n",
       "      <td>high bonus</td>\n",
       "    </tr>\n",
       "  </tbody>\n",
       "</table>\n",
       "</div>"
      ],
      "text/plain": [
       "   employee department    salary  joining_date      bonus  length high_or_not\n",
       "E1   Keshav         HR  500000.0          2020    50000.0       6      normal\n",
       "E2   Afroze    FINANCE  600000.0          2019  7000000.0       6  high bonus\n",
       "E3     Nico         IT       NaN          2021    40000.0       4      normal\n",
       "E4   Sravya    FINANCE  720000.0          2018    80000.0       6  high bonus\n",
       "E5    Ethan         IT  550000.0          2022        0.0       5      normal\n",
       "E6    Fiona         HR  580000.0          2021    60000.0       5  high bonus"
      ]
     },
     "execution_count": 92,
     "metadata": {},
     "output_type": "execute_result"
    }
   ],
   "source": [
    "df"
   ]
  },
  {
   "cell_type": "code",
   "execution_count": 96,
   "id": "7465c37b-63aa-40db-bace-d55825106de5",
   "metadata": {},
   "outputs": [],
   "source": [
    "# lets do filter now"
   ]
  },
  {
   "cell_type": "code",
   "execution_count": 98,
   "id": "66d22b45-a661-4b58-8ef5-fc82ceea9127",
   "metadata": {},
   "outputs": [],
   "source": [
    "# Filter employees with salary > 600000"
   ]
  },
  {
   "cell_type": "code",
   "execution_count": 112,
   "id": "0f395e0f-ef30-44e1-acdb-547340d7d42f",
   "metadata": {},
   "outputs": [],
   "source": [
    "# also getting the emp name\n",
    "high_salary = list(filter(lambda x: x[1] > 600000, zip(df[\"employee\"], df[\"salary\"])))"
   ]
  },
  {
   "cell_type": "code",
   "execution_count": 114,
   "id": "9e7ef0cd-6e84-4070-bab7-4dec237ed9a9",
   "metadata": {},
   "outputs": [
    {
     "data": {
      "text/plain": [
       "[('Sravya', 720000.0)]"
      ]
     },
     "execution_count": 114,
     "metadata": {},
     "output_type": "execute_result"
    }
   ],
   "source": [
    "high_salary"
   ]
  },
  {
   "cell_type": "code",
   "execution_count": 118,
   "id": "aca27778-c501-4d07-afbe-96e043e5568f",
   "metadata": {},
   "outputs": [],
   "source": [
    "# Employees in the IT department"
   ]
  },
  {
   "cell_type": "code",
   "execution_count": 128,
   "id": "1398be33-5733-45d0-ba70-2018c9ced784",
   "metadata": {},
   "outputs": [],
   "source": [
    "it_department = filter(lambda x: x[1] == \"IT\", zip(df[\"employee\"], df[\"department\"]))"
   ]
  },
  {
   "cell_type": "code",
   "execution_count": 130,
   "id": "ba39a8ee-2455-4a25-9de4-3d63babf8c19",
   "metadata": {},
   "outputs": [
    {
     "data": {
      "text/plain": [
       "<filter at 0x15676bb50>"
      ]
     },
     "execution_count": 130,
     "metadata": {},
     "output_type": "execute_result"
    }
   ],
   "source": [
    "it_department"
   ]
  },
  {
   "cell_type": "code",
   "execution_count": 132,
   "id": "96f0f2ec-b2be-4f9f-a126-8aef2c88e202",
   "metadata": {},
   "outputs": [],
   "source": [
    "it_department = list(filter(lambda x: x[1] == \"IT\", zip(df[\"employee\"], df[\"department\"])))"
   ]
  },
  {
   "cell_type": "code",
   "execution_count": 134,
   "id": "f215b12e-540a-4e4e-ad29-187fca9c5336",
   "metadata": {},
   "outputs": [
    {
     "data": {
      "text/plain": [
       "[('Nico', 'IT'), ('Ethan', 'IT')]"
      ]
     },
     "execution_count": 134,
     "metadata": {},
     "output_type": "execute_result"
    }
   ],
   "source": [
    "it_department"
   ]
  },
  {
   "cell_type": "code",
   "execution_count": 136,
   "id": "c3fe332b-9d6b-4c41-925b-1d7961c9bb04",
   "metadata": {},
   "outputs": [],
   "source": [
    "# Employees with bonus greater than 50,000"
   ]
  },
  {
   "cell_type": "code",
   "execution_count": 156,
   "id": "3c92c60d-7cb6-4e07-9b44-12cea113a628",
   "metadata": {},
   "outputs": [],
   "source": [
    "bonus_max=list(filter(lambda x:x[1]>50000 ,zip(df.employee, df.bonus)))"
   ]
  },
  {
   "cell_type": "code",
   "execution_count": 158,
   "id": "db294ba4-bc2c-4bb5-8551-f3b8fed63a10",
   "metadata": {},
   "outputs": [
    {
     "data": {
      "text/plain": [
       "[('Afroze', 7000000.0), ('Sravya', 80000.0), ('Fiona', 60000.0)]"
      ]
     },
     "execution_count": 158,
     "metadata": {},
     "output_type": "execute_result"
    }
   ],
   "source": [
    "bonus_max"
   ]
  },
  {
   "cell_type": "code",
   "execution_count": 160,
   "id": "004c25e1-da05-4e68-8917-d97f6b489123",
   "metadata": {},
   "outputs": [],
   "source": [
    "# Rows where bonus is 0"
   ]
  },
  {
   "cell_type": "code",
   "execution_count": 162,
   "id": "8417f77f-fa24-4ddc-9fb9-ad9ab0d8b58f",
   "metadata": {},
   "outputs": [],
   "source": [
    "zero_bonus = list(filter(lambda x: x[1]==0,zip(df.employee, df.bonus)))"
   ]
  },
  {
   "cell_type": "code",
   "execution_count": 164,
   "id": "107e8c70-0e8b-4f91-a9ff-a066096f1255",
   "metadata": {},
   "outputs": [
    {
     "data": {
      "text/plain": [
       "[('Ethan', 0.0)]"
      ]
     },
     "execution_count": 164,
     "metadata": {},
     "output_type": "execute_result"
    }
   ],
   "source": [
    "zero_bonus"
   ]
  },
  {
   "cell_type": "code",
   "execution_count": 166,
   "id": "aa2bcb99-7289-4d4f-ad98-5382fd8b1cda",
   "metadata": {},
   "outputs": [],
   "source": [
    "# Employees whose name starts with \"F\""
   ]
  },
  {
   "cell_type": "code",
   "execution_count": 180,
   "id": "6d354bf2-439e-4ae2-9e6d-de3067c76856",
   "metadata": {},
   "outputs": [],
   "source": [
    "names_f = list(filter(lambda x: x.startswith(\"F\"), df[\"employee\"]))"
   ]
  },
  {
   "cell_type": "code",
   "execution_count": 182,
   "id": "df3b82c8-7af5-403c-8354-a33b6bb4e785",
   "metadata": {},
   "outputs": [
    {
     "data": {
      "text/plain": [
       "['Fiona']"
      ]
     },
     "execution_count": 182,
     "metadata": {},
     "output_type": "execute_result"
    }
   ],
   "source": [
    "names_f"
   ]
  },
  {
   "cell_type": "code",
   "execution_count": 184,
   "id": "ec9e472e-c414-4736-ae3f-7159551b9966",
   "metadata": {},
   "outputs": [],
   "source": [
    "# Employees in HR or Finance"
   ]
  },
  {
   "cell_type": "code",
   "execution_count": 196,
   "id": "ce5e3a2f-1cd6-496d-b73c-923210d778cf",
   "metadata": {},
   "outputs": [],
   "source": [
    "hr_finance = filter(lambda x: x[1] if x[1]==\"HR\" or x[1]==\"FINANCE\" else None, zip(df[\"employee\"], df[\"department\"]))"
   ]
  },
  {
   "cell_type": "code",
   "execution_count": 198,
   "id": "52c26434-9db9-4b82-9654-ee122c7d7e48",
   "metadata": {},
   "outputs": [
    {
     "data": {
      "text/plain": [
       "<filter at 0x1682d6260>"
      ]
     },
     "execution_count": 198,
     "metadata": {},
     "output_type": "execute_result"
    }
   ],
   "source": [
    "hr_finance"
   ]
  },
  {
   "cell_type": "code",
   "execution_count": 200,
   "id": "d3ae7b78-58bf-401a-929a-5174b9de015d",
   "metadata": {},
   "outputs": [],
   "source": [
    "hr_finance = list(filter(lambda x: x[1] if x[1]==\"HR\" or x[1]==\"FINANCE\" else None, zip(df[\"employee\"], df[\"department\"])))"
   ]
  },
  {
   "cell_type": "code",
   "execution_count": 202,
   "id": "079e93e1-261d-471b-81cd-8baa606ecdf9",
   "metadata": {},
   "outputs": [
    {
     "data": {
      "text/plain": [
       "[('Keshav', 'HR'),\n",
       " ('Afroze', 'FINANCE'),\n",
       " ('Sravya', 'FINANCE'),\n",
       " ('Fiona', 'HR')]"
      ]
     },
     "execution_count": 202,
     "metadata": {},
     "output_type": "execute_result"
    }
   ],
   "source": [
    "hr_finance"
   ]
  },
  {
   "cell_type": "code",
   "execution_count": null,
   "id": "6d06403c-5daa-4a94-a67e-9c7a939589a4",
   "metadata": {},
   "outputs": [],
   "source": []
  }
 ],
 "metadata": {
  "kernelspec": {
   "display_name": "Python [conda env:base] *",
   "language": "python",
   "name": "conda-base-py"
  },
  "language_info": {
   "codemirror_mode": {
    "name": "ipython",
    "version": 3
   },
   "file_extension": ".py",
   "mimetype": "text/x-python",
   "name": "python",
   "nbconvert_exporter": "python",
   "pygments_lexer": "ipython3",
   "version": "3.11.5"
  }
 },
 "nbformat": 4,
 "nbformat_minor": 5
}

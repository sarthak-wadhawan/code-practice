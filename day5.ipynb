{
 "cells": [
  {
   "cell_type": "markdown",
   "id": "67de128c-327d-4a7f-930c-4588d54efffd",
   "metadata": {},
   "source": [
    "### any"
   ]
  },
  {
   "cell_type": "code",
   "execution_count": 2,
   "id": "8ce81a9e-7669-4a73-b463-e5e70bfd403b",
   "metadata": {},
   "outputs": [],
   "source": [
    "nums = [0, 0, 5, 0]"
   ]
  },
  {
   "cell_type": "code",
   "execution_count": 4,
   "id": "d41731da-92c8-448a-bf91-a6d8ea070c05",
   "metadata": {},
   "outputs": [
    {
     "name": "stdout",
     "output_type": "stream",
     "text": [
      "True\n"
     ]
    }
   ],
   "source": [
    "print(any(nums))"
   ]
  },
  {
   "cell_type": "code",
   "execution_count": 6,
   "id": "d0d48cb0-de28-4ad3-830d-59f1de69ff3b",
   "metadata": {},
   "outputs": [],
   "source": [
    "checks = [False, False, True, False]"
   ]
  },
  {
   "cell_type": "code",
   "execution_count": 8,
   "id": "690cb57f-885d-48e8-b7d2-57caf3012867",
   "metadata": {},
   "outputs": [
    {
     "name": "stdout",
     "output_type": "stream",
     "text": [
      "True\n"
     ]
    }
   ],
   "source": [
    "print(any(checks))"
   ]
  },
  {
   "cell_type": "code",
   "execution_count": 10,
   "id": "ce57801b-58c7-4882-b6c2-42c3b62d6f97",
   "metadata": {},
   "outputs": [],
   "source": [
    "import pandas as pd\n",
    "df = pd.DataFrame({\"bonus\": [None, 5000, None]})"
   ]
  },
  {
   "cell_type": "code",
   "execution_count": 14,
   "id": "4ee9df58-4277-4d88-b698-979bb55cff2e",
   "metadata": {},
   "outputs": [
    {
     "data": {
      "text/plain": [
       "0     True\n",
       "1    False\n",
       "2     True\n",
       "Name: bonus, dtype: bool"
      ]
     },
     "execution_count": 14,
     "metadata": {},
     "output_type": "execute_result"
    }
   ],
   "source": [
    "df.bonus.isna()"
   ]
  },
  {
   "cell_type": "code",
   "execution_count": 16,
   "id": "8314c3a3-89f0-4fa4-9ee1-4f583aba3ef2",
   "metadata": {},
   "outputs": [
    {
     "data": {
      "text/plain": [
       "True"
      ]
     },
     "execution_count": 16,
     "metadata": {},
     "output_type": "execute_result"
    }
   ],
   "source": [
    "df.bonus.isna().any()"
   ]
  },
  {
   "cell_type": "code",
   "execution_count": 12,
   "id": "c672e5fb-4386-4417-b341-5904f5763a47",
   "metadata": {},
   "outputs": [
    {
     "name": "stdout",
     "output_type": "stream",
     "text": [
      "True\n"
     ]
    }
   ],
   "source": [
    "print(df[\"bonus\"].isna().any())"
   ]
  },
  {
   "cell_type": "code",
   "execution_count": 18,
   "id": "e862ab29-7b62-41e8-82d5-382b4192980a",
   "metadata": {},
   "outputs": [],
   "source": [
    "fruits = [\"apple\", \"banana\", \"cherry\"]"
   ]
  },
  {
   "cell_type": "markdown",
   "id": "b49536e4-fbe4-48fc-8a33-93c918f882ea",
   "metadata": {},
   "source": [
    "### enumerate"
   ]
  },
  {
   "cell_type": "code",
   "execution_count": 20,
   "id": "c0da3275-bbdc-4162-8166-f2b1409921cf",
   "metadata": {},
   "outputs": [
    {
     "name": "stdout",
     "output_type": "stream",
     "text": [
      "0 apple\n",
      "1 banana\n",
      "2 cherry\n"
     ]
    }
   ],
   "source": [
    "for idx, fruit in enumerate(fruits):\n",
    "    print(idx, fruit)"
   ]
  },
  {
   "cell_type": "code",
   "execution_count": 24,
   "id": "309cb188-6469-4436-96b0-9101a8d71ecf",
   "metadata": {},
   "outputs": [
    {
     "name": "stdout",
     "output_type": "stream",
     "text": [
      "1 apple\n",
      "2 banana\n",
      "3 cherry\n"
     ]
    }
   ],
   "source": [
    "for idx, fruit in enumerate(fruits, start=1):\n",
    "    print(idx, fruit)"
   ]
  },
  {
   "cell_type": "code",
   "execution_count": 26,
   "id": "b94a13d5-73a3-4c81-b2c1-a96bf7305a2c",
   "metadata": {},
   "outputs": [
    {
     "name": "stdout",
     "output_type": "stream",
     "text": [
      "0 0\n",
      "1 0\n",
      "2 3\n",
      "3 0\n"
     ]
    }
   ],
   "source": [
    "nums = [0, 0, 3, 0]\n",
    "\n",
    "if any(nums): \n",
    "    for i, n in enumerate(nums):\n",
    "        print(i, n)"
   ]
  },
  {
   "cell_type": "markdown",
   "id": "794bc602-6976-43f6-9813-2d7b4ae1f2fa",
   "metadata": {},
   "source": [
    "#### Using enumerate() to inspect missing values column by column"
   ]
  },
  {
   "cell_type": "code",
   "execution_count": 34,
   "id": "08381b80-4c44-4774-891a-dbd2d8c65632",
   "metadata": {},
   "outputs": [],
   "source": [
    "# resuing old df\n",
    "import numpy as np\n",
    "import pandas as pd\n",
    "df = pd.DataFrame({\n",
    "    \"employee\": [\"Keshav\", \"Afroze\", \"Nico\", \"Sravya\", \"Ethan\", \"Fiona\"],\n",
    "    \"department\": [\"HR\", \"Finance\", \"IT\", \"Finance\", \"IT\", \"HR\"],\n",
    "    \"salary\": [500000, 600000, np.nan, 720000, 550000, 580000],\n",
    "    \"joining_date\": pd.to_datetime([\n",
    "        \"2020-01-15\", \"2019-03-10\", \"2021-06-25\", \n",
    "        \"2018-07-01\", \"2022-02-14\", \"2021-11-11\"\n",
    "    ]),\n",
    "    \"bonus\": [50000, 7000000, 40000, 80000, np.nan, 60000]\n",
    "}, index=[\"E1\", \"E2\", \"E3\", \"E4\", \"E5\", \"E6\"])"
   ]
  },
  {
   "cell_type": "code",
   "execution_count": 36,
   "id": "ccb4edc9-6d14-417a-9108-b2c71c72769c",
   "metadata": {},
   "outputs": [
    {
     "data": {
      "text/html": [
       "<div>\n",
       "<style scoped>\n",
       "    .dataframe tbody tr th:only-of-type {\n",
       "        vertical-align: middle;\n",
       "    }\n",
       "\n",
       "    .dataframe tbody tr th {\n",
       "        vertical-align: top;\n",
       "    }\n",
       "\n",
       "    .dataframe thead th {\n",
       "        text-align: right;\n",
       "    }\n",
       "</style>\n",
       "<table border=\"1\" class=\"dataframe\">\n",
       "  <thead>\n",
       "    <tr style=\"text-align: right;\">\n",
       "      <th></th>\n",
       "      <th>employee</th>\n",
       "      <th>department</th>\n",
       "      <th>salary</th>\n",
       "      <th>joining_date</th>\n",
       "      <th>bonus</th>\n",
       "    </tr>\n",
       "  </thead>\n",
       "  <tbody>\n",
       "    <tr>\n",
       "      <th>E1</th>\n",
       "      <td>Keshav</td>\n",
       "      <td>HR</td>\n",
       "      <td>500000.0</td>\n",
       "      <td>2020-01-15</td>\n",
       "      <td>50000.0</td>\n",
       "    </tr>\n",
       "    <tr>\n",
       "      <th>E2</th>\n",
       "      <td>Afroze</td>\n",
       "      <td>Finance</td>\n",
       "      <td>600000.0</td>\n",
       "      <td>2019-03-10</td>\n",
       "      <td>7000000.0</td>\n",
       "    </tr>\n",
       "    <tr>\n",
       "      <th>E3</th>\n",
       "      <td>Nico</td>\n",
       "      <td>IT</td>\n",
       "      <td>NaN</td>\n",
       "      <td>2021-06-25</td>\n",
       "      <td>40000.0</td>\n",
       "    </tr>\n",
       "    <tr>\n",
       "      <th>E4</th>\n",
       "      <td>Sravya</td>\n",
       "      <td>Finance</td>\n",
       "      <td>720000.0</td>\n",
       "      <td>2018-07-01</td>\n",
       "      <td>80000.0</td>\n",
       "    </tr>\n",
       "    <tr>\n",
       "      <th>E5</th>\n",
       "      <td>Ethan</td>\n",
       "      <td>IT</td>\n",
       "      <td>550000.0</td>\n",
       "      <td>2022-02-14</td>\n",
       "      <td>NaN</td>\n",
       "    </tr>\n",
       "    <tr>\n",
       "      <th>E6</th>\n",
       "      <td>Fiona</td>\n",
       "      <td>HR</td>\n",
       "      <td>580000.0</td>\n",
       "      <td>2021-11-11</td>\n",
       "      <td>60000.0</td>\n",
       "    </tr>\n",
       "  </tbody>\n",
       "</table>\n",
       "</div>"
      ],
      "text/plain": [
       "   employee department    salary joining_date      bonus\n",
       "E1   Keshav         HR  500000.0   2020-01-15    50000.0\n",
       "E2   Afroze    Finance  600000.0   2019-03-10  7000000.0\n",
       "E3     Nico         IT       NaN   2021-06-25    40000.0\n",
       "E4   Sravya    Finance  720000.0   2018-07-01    80000.0\n",
       "E5    Ethan         IT  550000.0   2022-02-14        NaN\n",
       "E6    Fiona         HR  580000.0   2021-11-11    60000.0"
      ]
     },
     "execution_count": 36,
     "metadata": {},
     "output_type": "execute_result"
    }
   ],
   "source": [
    "df"
   ]
  },
  {
   "cell_type": "code",
   "execution_count": 38,
   "id": "78eb3fc3-dbc9-477e-8444-46a98561aca5",
   "metadata": {},
   "outputs": [
    {
     "name": "stdout",
     "output_type": "stream",
     "text": [
      "0: the column 'employee' has 0 missing valuessss\n",
      "1: the column 'department' has 0 missing valuessss\n",
      "2: the column 'salary' has 1 missing valuessss\n",
      "3: the column 'joining_date' has 0 missing valuessss\n",
      "4: the column 'bonus' has 1 missing valuessss\n"
     ]
    }
   ],
   "source": [
    "for idx, col in enumerate(df.columns):\n",
    "    missing = df[col].isna().sum()\n",
    "    print(f\"{idx}: the column '{col}' has {missing} missing valuessss\")"
   ]
  },
  {
   "cell_type": "code",
   "execution_count": 46,
   "id": "913a2c49-3a92-495a-8fa7-f7e93d9dbdc2",
   "metadata": {},
   "outputs": [],
   "source": [
    "# detect super high bonus, greater than a million using enumerate"
   ]
  },
  {
   "cell_type": "code",
   "execution_count": 48,
   "id": "055243cd-b9f9-4c32-9a7a-c95508993f3f",
   "metadata": {},
   "outputs": [
    {
     "name": "stdout",
     "output_type": "stream",
     "text": [
      "Row 1 (E2): Afroze has unusually high bonus 7000000.0\n"
     ]
    }
   ],
   "source": [
    "for idx, (row_index, row) in enumerate(df.iterrows()):\n",
    "    if row[\"bonus\"] is not np.nan and row[\"bonus\"] > 1000000:\n",
    "        print(f\"Row {idx} ({row_index}): {row['employee']} has unusually high bonus {row['bonus']}\")"
   ]
  },
  {
   "cell_type": "code",
   "execution_count": 50,
   "id": "63cc5a44-08d1-43fb-9009-1d37a0d644e1",
   "metadata": {},
   "outputs": [],
   "source": [
    "# sal or bonus is missing"
   ]
  },
  {
   "cell_type": "code",
   "execution_count": 52,
   "id": "e2145a2c-e825-4431-80a8-f12f079c2c8f",
   "metadata": {},
   "outputs": [
    {
     "name": "stdout",
     "output_type": "stream",
     "text": [
      "Row 2 (E3): Missing data → {'employee': 'Nico', 'department': 'IT', 'salary': nan, 'joining_date': Timestamp('2021-06-25 00:00:00'), 'bonus': 40000.0}\n",
      "Row 4 (E5): Missing data → {'employee': 'Ethan', 'department': 'IT', 'salary': 550000.0, 'joining_date': Timestamp('2022-02-14 00:00:00'), 'bonus': nan}\n"
     ]
    }
   ],
   "source": [
    "for idx, (row_index, row) in enumerate(df.iterrows()):\n",
    "    if row[[\"salary\", \"bonus\"]].isna().any():\n",
    "        print(f\"Row {idx} ({row_index}): Missing data → {row.to_dict()}\")"
   ]
  },
  {
   "cell_type": "code",
   "execution_count": 58,
   "id": "8a6702ab-71c7-441d-94f2-9e0df15cac73",
   "metadata": {},
   "outputs": [],
   "source": [
    "# Check if any column in each row has missing values"
   ]
  },
  {
   "cell_type": "code",
   "execution_count": 60,
   "id": "3b05e32f-13fc-4c63-8a9d-c5ba647ca512",
   "metadata": {},
   "outputs": [
    {
     "name": "stdout",
     "output_type": "stream",
     "text": [
      "Row 2 (E3) has missing data: {'employee': 'Nico', 'department': 'IT', 'salary': nan, 'joining_date': Timestamp('2021-06-25 00:00:00'), 'bonus': 40000.0}\n",
      "Row 4 (E5) has missing data: {'employee': 'Ethan', 'department': 'IT', 'salary': 550000.0, 'joining_date': Timestamp('2022-02-14 00:00:00'), 'bonus': nan}\n"
     ]
    }
   ],
   "source": [
    "for idx, (row_index, row) in enumerate(df.iterrows()):\n",
    "    if row.isna().any():  # True if at least one NaN in the row\n",
    "        print(f\"Row {idx} ({row_index}) has missing data: {row.to_dict()}\")\n"
   ]
  },
  {
   "cell_type": "code",
   "execution_count": 62,
   "id": "cb9e74d6-c7b2-4129-a3e9-5a4bef8cb59a",
   "metadata": {},
   "outputs": [
    {
     "name": "stdout",
     "output_type": "stream",
     "text": [
      "Column 1 ('bonus') has at least one unusually large value\n"
     ]
    }
   ],
   "source": [
    "for idx, col in enumerate([\"salary\", \"bonus\"]):\n",
    "    if (df[col] > 1_000_000).any():\n",
    "        print(f\"Column {idx} ('{col}') has at least one unusually large value\")\n"
   ]
  },
  {
   "cell_type": "code",
   "execution_count": null,
   "id": "6026d6e5-5c03-4411-befe-b91ed9170f62",
   "metadata": {},
   "outputs": [],
   "source": []
  }
 ],
 "metadata": {
  "kernelspec": {
   "display_name": "Python 3 (ipykernel)",
   "language": "python",
   "name": "python3"
  },
  "language_info": {
   "codemirror_mode": {
    "name": "ipython",
    "version": 3
   },
   "file_extension": ".py",
   "mimetype": "text/x-python",
   "name": "python",
   "nbconvert_exporter": "python",
   "pygments_lexer": "ipython3",
   "version": "3.11.5"
  }
 },
 "nbformat": 4,
 "nbformat_minor": 5
}
